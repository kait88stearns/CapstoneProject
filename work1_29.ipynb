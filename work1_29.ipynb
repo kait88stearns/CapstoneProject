{
 "cells": [
  {
   "cell_type": "code",
   "execution_count": 10,
   "metadata": {
    "collapsed": true
   },
   "outputs": [],
   "source": [
    "import pandas as pd\n",
    "import src.scrape_insta\n",
    "import src.clean as clean\n",
    "%autoreload\n",
    "import numpy as np\n",
    "import re \n",
    "from selenium import webdriver\n",
    "import requests\n",
    "import matplotlib.pyplot as plt\n",
    "%matplotlib inline\n",
    "import pickle\n",
    "from IPython.display import HTML\n",
    "from bs4 import BeautifulSoup\n",
    "import json.decoder as decoder\n",
    "from sklearn.ensemble import GradientBoostingRegressor\n",
    "from sklearn.metrics import mean_squared_error\n",
    "from sklearn.model_selection import train_test_split\n",
    "from sklearn.feature_extraction.text import TfidfVectorizer\n",
    "from sklearn.metrics import silhouette_score\n",
    "from sklearn.model_selection import cross_val_score\n",
    "from sklearn import preprocessing\n",
    "from sklearn.cluster import KMeans"
   ]
  },
  {
   "cell_type": "code",
   "execution_count": 112,
   "metadata": {
    "collapsed": true
   },
   "outputs": [],
   "source": [
    "qualdf = pd.read_csv('soft_content.txt', sep=\"|\")"
   ]
  },
  {
   "cell_type": "code",
   "execution_count": 113,
   "metadata": {},
   "outputs": [],
   "source": [
    "urls = list(qualdf.url.unique())\n",
    "pickle_in2 = open(\"quant_data.pkl\",\"rb\")\n",
    "quant_df = pickle.load(pickle_in2)"
   ]
  },
  {
   "cell_type": "code",
   "execution_count": 459,
   "metadata": {},
   "outputs": [],
   "source": [
    "combined = clean.combine_data(qualdf,quant_df)\n",
    "combined2 = clean.clean_combined(combined)"
   ]
  },
  {
   "cell_type": "markdown",
   "metadata": {},
   "source": [
    "# Changing columns for clustering"
   ]
  },
  {
   "cell_type": "code",
   "execution_count": 372,
   "metadata": {},
   "outputs": [],
   "source": [
    "combined2['female'] = (combined2['female'] | combined2['mixed_gender'])\n",
    "combined2['male'] = (combined2['male'] | combined2['mixed_gender'])\n",
    "combined2['bikini'] = (combined2['bikini'] | combined2['biki+apparel'])\n",
    "combined2['apparel'] = (combined2['apparel'] | combined2['biki+apparel'])\n",
    "\n",
    "drop_redundency = combined2.drop(['hour','month','mixed_gender', \n",
    "                                  'biki+apparel', 'no_product', \n",
    "                                  'num_people_tagged'], axis=1)"
   ]
  },
  {
   "cell_type": "code",
   "execution_count": 63,
   "metadata": {
    "collapsed": true
   },
   "outputs": [],
   "source": [
    "scaler = preprocessing.StandardScaler()\n",
    "scaled = scaler.fit_transform(drop_redundency)\n",
    "sil_scores=[]"
   ]
  },
  {
   "cell_type": "code",
   "execution_count": 84,
   "metadata": {},
   "outputs": [
    {
     "name": "stdout",
     "output_type": "stream",
     "text": [
      "0.3012527560325276\n"
     ]
    }
   ],
   "source": [
    "i=20\n",
    "kmeans = KMeans(n_clusters=i)\n",
    "kmeans.fit(scaled)\n",
    "clustered= kmeans.predict(scaled) \n",
    "sil = silhouette_score(scaled,clustered)\n",
    "print (sil)\n",
    "sil_scores.append((i,sil))\n",
    "scores = [tup[1] for tup in sil_scores]"
   ]
  },
  {
   "cell_type": "code",
   "execution_count": 339,
   "metadata": {},
   "outputs": [],
   "source": [
    "scores = [tup[1] for tup in sil_scores]"
   ]
  },
  {
   "cell_type": "code",
   "execution_count": 55,
   "metadata": {},
   "outputs": [
    {
     "data": {
      "text/plain": [
       "20"
      ]
     },
     "execution_count": 55,
     "metadata": {},
     "output_type": "execute_result"
    }
   ],
   "source": [
    "len(scores)+2"
   ]
  },
  {
   "cell_type": "code",
   "execution_count": 340,
   "metadata": {
    "scrolled": true
   },
   "outputs": [
    {
     "data": {
      "image/png": "[encoded data removed]",
      "text/plain": [
       "<matplotlib.figure.Figure at 0x115b7c2e8>"
      ]
     },
     "metadata": {},
     "output_type": "display_data"
    }
   ],
   "source": [
    "_=plt.barh(range(2, len(scores)+2),scores)\n",
    "_=plt.yticks(range(2,len(scores)+2))"
   ]
  },
  {
   "cell_type": "code",
   "execution_count": 341,
   "metadata": {},
   "outputs": [
    {
     "data": {
      "text/plain": [
       "Index(['num_people', 'faces_visible', 'sale', 'edited', 'butt_pic', 'ocean',\n",
       "       'skate', 'drift_content', 'product_shot', 'lifestyle', 'in_shop',\n",
       "       'pro\\model', 'in_nature', 'surf', 'male', 'female', 'bikini',\n",
       "       'apparel'],\n",
       "      dtype='object')"
      ]
     },
     "execution_count": 341,
     "metadata": {},
     "output_type": "execute_result"
    }
   ],
   "source": [
    "drop_redundency.columns"
   ]
  },
  {
   "cell_type": "code",
   "execution_count": 90,
   "metadata": {
    "collapsed": true
   },
   "outputs": [],
   "source": [
    "kmeans = KMeans(n_clusters=9)\n",
    "kmeans.fit(scaled)\n",
    "clustered= kmeans.predict(scaled) "
   ]
  },
  {
   "cell_type": "code",
   "execution_count": 106,
   "metadata": {},
   "outputs": [
    {
     "data": {
      "text/plain": [
       "0"
      ]
     },
     "execution_count": 106,
     "metadata": {},
     "output_type": "execute_result"
    }
   ],
   "source": [
    "(clustered).sum()"
   ]
  },
  {
   "cell_type": "markdown",
   "metadata": {},
   "source": [
    "# with all data, Gradient Boosted Model"
   ]
  },
  {
   "cell_type": "code",
   "execution_count": 120,
   "metadata": {
    "collapsed": true
   },
   "outputs": [],
   "source": [
    "vocab, hashtag_tfidf = clean.make_hashtag_tfidf(combined)"
   ]
  },
  {
   "cell_type": "code",
   "execution_count": 121,
   "metadata": {
    "collapsed": true
   },
   "outputs": [],
   "source": [
    "combined3 = pd.concat([combined2, hashtag_tfidf], axis=1)"
   ]
  },
  {
   "cell_type": "code",
   "execution_count": 330,
   "metadata": {
    "collapsed": true
   },
   "outputs": [],
   "source": [
    "y = combined3['number_of_likes']\n",
    "X = combined3.drop(['number_of_likes',], axis=1)\n"
   ]
  },
  {
   "cell_type": "code",
   "execution_count": 331,
   "metadata": {
    "collapsed": true
   },
   "outputs": [],
   "source": [
    "gbr = GradientBoostingRegressor(learning_rate=0.01, loss='ls',\n",
    "                                min_samples_split=4, n_estimators=600,\n",
    "                                max_depth=5)"
   ]
  },
  {
   "cell_type": "code",
   "execution_count": 332,
   "metadata": {},
   "outputs": [
    {
     "name": "stdout",
     "output_type": "stream",
     "text": [
      "-47.44282499420545\n",
      "[-49.35185244 -34.01859278 -55.30663012 -48.81983481 -63.54993564\n",
      " -78.43966903 -43.14274231 -58.90209852 -40.20633421 -34.15838779\n",
      " -58.88102472 -36.9006376  -41.94389842 -58.55579076 -66.5721752\n",
      " -39.6421669  -35.79778928 -27.28122575 -42.6981405  -30.78152323\n",
      " -32.35316888 -34.98867612 -29.38257038 -32.41474708 -39.17337994\n",
      " -42.52086187 -49.59265912 -64.93545129 -55.43278104 -54.47485005\n",
      " -26.41009197 -49.74949182 -43.78593284 -71.76794565 -40.57075596\n",
      " -71.37615402 -75.74838411 -31.03283764 -65.10674258 -41.94506742]\n"
     ]
    }
   ],
   "source": [
    "scores = cross_val_score(gbr, X, y,cv=40, scoring= 'neg_mean_absolute_error')\n",
    "print(scores.mean())\n",
    "print(scores)"
   ]
  },
  {
   "cell_type": "code",
   "execution_count": 135,
   "metadata": {},
   "outputs": [
    {
     "name": "stdout",
     "output_type": "stream",
     "text": [
      "-46.70920500777229\n",
      "[-54.48138522 -31.81324439 -50.36633968 -52.68573809 -58.21127373\n",
      " -72.55953648 -37.0740229  -51.3888506  -43.79867118 -30.31943009\n",
      " -56.88270972 -45.80547014 -50.67626939 -56.56372853 -67.05357854\n",
      " -36.97257314 -30.94725663 -35.66019022 -43.80198209 -32.47095404\n",
      " -40.75282747 -36.54770504 -26.43894449 -35.08625148 -45.09246542\n",
      " -39.02489699 -49.68799814 -65.54683539 -63.26900041 -48.25248014\n",
      " -21.68331523 -45.50784708 -39.79483085 -61.46150434 -41.75406755\n",
      " -69.43898426 -67.93290031 -26.00337208 -62.17765514 -43.38111372]\n"
     ]
    }
   ],
   "source": [
    "scores = cross_val_score(gbr, X, y,cv=40, scoring= 'neg_mean_absolute_error')\n",
    "print(scores.mean())\n",
    "print(scores)"
   ]
  },
  {
   "cell_type": "code",
   "execution_count": 140,
   "metadata": {
    "collapsed": true
   },
   "outputs": [],
   "source": [
    "max_depth =[(2,47.05287822339375),(3,46.70920500777229),(4,46.05935529376886),(5,47.39873085759742)]"
   ]
  },
  {
   "cell_type": "code",
   "execution_count": 144,
   "metadata": {
    "scrolled": true
   },
   "outputs": [
    {
     "data": {
      "image/png": "[encoded data removed]",
      "text/plain": [
       "<matplotlib.figure.Figure at 0x112ea3588>"
      ]
     },
     "metadata": {},
     "output_type": "display_data"
    }
   ],
   "source": [
    "_=plt.plot([tup[0] for tup in max_depth],[tup[1] for tup in max_depth])"
   ]
  },
  {
   "cell_type": "code",
   "execution_count": 147,
   "metadata": {},
   "outputs": [
    {
     "name": "stdout",
     "output_type": "stream",
     "text": [
      "276.02962962962965\n",
      "74.50495263004379\n"
     ]
    }
   ],
   "source": [
    "print(combined3['number_of_likes'].mean())\n",
    "print(combined3['number_of_likes'].std())\n"
   ]
  },
  {
   "cell_type": "code",
   "execution_count": 156,
   "metadata": {},
   "outputs": [
    {
     "data": {
      "text/plain": [
       "<matplotlib.axes._subplots.AxesSubplot at 0x112e96f28>"
      ]
     },
     "execution_count": 156,
     "metadata": {},
     "output_type": "execute_result"
    },
    {
     "data": {
      "image/png": "[encoded data removed]",
      "text/plain": [
       "<matplotlib.figure.Figure at 0x113b44588>"
      ]
     },
     "metadata": {},
     "output_type": "display_data"
    }
   ],
   "source": [
    "combined3['number_of_likes'].hist(bins=16)"
   ]
  },
  {
   "cell_type": "code",
   "execution_count": 166,
   "metadata": {},
   "outputs": [],
   "source": [
    "X_train, X_test, y_train, y_test=train_test_split(X.as_matrix(), y.as_matrix(),test_size=.1)"
   ]
  },
  {
   "cell_type": "code",
   "execution_count": 169,
   "metadata": {},
   "outputs": [
    {
     "data": {
      "text/plain": [
       "GradientBoostingRegressor(alpha=0.9, criterion='friedman_mse', init=None,\n",
       "             learning_rate=0.01, loss='ls', max_depth=5, max_features=None,\n",
       "             max_leaf_nodes=None, min_impurity_decrease=0.0,\n",
       "             min_impurity_split=None, min_samples_leaf=1,\n",
       "             min_samples_split=4, min_weight_fraction_leaf=0.0,\n",
       "             n_estimators=600, presort='auto', random_state=None,\n",
       "             subsample=1.0, verbose=0, warm_start=False)"
      ]
     },
     "execution_count": 169,
     "metadata": {},
     "output_type": "execute_result"
    }
   ],
   "source": [
    "gbr.fit(X,y)"
   ]
  },
  {
   "cell_type": "code",
   "execution_count": 171,
   "metadata": {},
   "outputs": [],
   "source": [
    "feats=gbr.feature_importances_"
   ]
  },
  {
   "cell_type": "code",
   "execution_count": 188,
   "metadata": {},
   "outputs": [
    {
     "name": "stdout",
     "output_type": "stream",
     "text": [
      "hour : 0.057\n",
      "month : 0.107\n",
      "num_people_tagged : 0.027\n",
      "butt_pic : 0.018\n",
      "pro\\model : 0.02\n",
      "no_product : 0.012\n",
      "48-cheekybikini : 0.011\n",
      "87-driftbikinis : 0.022\n",
      "114-fempreneur : 0.011\n",
      "134-grainisgood : 0.011\n",
      "136-grassroots : 0.016\n",
      "140-handmadebikini : 0.01\n",
      "163-indiansummer : 0.014\n",
      "208-minimalzine : 0.031\n",
      "219-mytinyatlas : 0.019\n",
      "225-northeastcollective : 0.015\n",
      "227-nothingincommon : 0.021\n",
      "236-oneofakind : 0.012\n",
      "260-portraits_mf : 0.011\n",
      "262-portsmouth : 0.016\n",
      "263-portsmouthnh : 0.019\n",
      "302-shoplocal : 0.016\n",
      "366-thedriftcollective : 0.026\n",
      "397-vintage : 0.015\n",
      "402-vintagedenim : 0.013\n",
      "403-vintagefashion : 0.015\n"
     ]
    }
   ],
   "source": [
    "for name, imp in zip(X.columns, feats):\n",
    "    if imp > .01:\n",
    "        if type(name) == int:\n",
    "            name = '{}-{}'.format(name, rev_dict[name])\n",
    "\n",
    "            print(\"{} : {}\".format(name, round(imp,3)))"
   ]
  },
  {
   "cell_type": "code",
   "execution_count": 296,
   "metadata": {},
   "outputs": [],
   "source": [
    "only_appears_once = []\n",
    "for tag in hashtag_occurances.keys():\n",
    "    if hashtag_occurances[tag] == 1:\n",
    "        only_appears_once.append(tag)"
   ]
  },
  {
   "cell_type": "code",
   "execution_count": 301,
   "metadata": {},
   "outputs": [],
   "source": [
    "numbers_to_remove = []\n",
    "for tag in only_appears_once:\n",
    "    numbers_to_remove.append(vocab[tag.lower()])"
   ]
  },
  {
   "cell_type": "code",
   "execution_count": 325,
   "metadata": {},
   "outputs": [
    {
     "data": {
      "text/plain": [
       "[244,\n",
       " 240,\n",
       " 115,\n",
       " 355,\n",
       " 28,\n",
       " 360,\n",
       " 321,\n",
       " 350,\n",
       " 352,\n",
       " 413,\n",
       " 295,\n",
       " 398,\n",
       " 395,\n",
       " 311,\n",
       " 71,\n",
       " 313,\n",
       " 392,\n",
       " 393,\n",
       " 268,\n",
       " 197,\n",
       " 315,\n",
       " 284,\n",
       " 290,\n",
       " 235,\n",
       " 168,\n",
       " 167,\n",
       " 275,\n",
       " 209,\n",
       " 23,\n",
       " 196,\n",
       " 177,\n",
       " 351,\n",
       " 384,\n",
       " 16,\n",
       " 56,\n",
       " 210,\n",
       " 382,\n",
       " 427,\n",
       " 332,\n",
       " 10,\n",
       " 410,\n",
       " 408,\n",
       " 330,\n",
       " 280,\n",
       " 283,\n",
       " 409,\n",
       " 211,\n",
       " 65,\n",
       " 102,\n",
       " 308,\n",
       " 50,\n",
       " 145,\n",
       " 19,\n",
       " 133,\n",
       " 334,\n",
       " 318,\n",
       " 387,\n",
       " 99,\n",
       " 285,\n",
       " 165,\n",
       " 47,\n",
       " 258,\n",
       " 25,\n",
       " 192,\n",
       " 286,\n",
       " 193,\n",
       " 312,\n",
       " 333,\n",
       " 394,\n",
       " 124,\n",
       " 35,\n",
       " 57,\n",
       " 41,\n",
       " 375,\n",
       " 80,\n",
       " 319,\n",
       " 108,\n",
       " 42,\n",
       " 220,\n",
       " 37,\n",
       " 89,\n",
       " 234,\n",
       " 72,\n",
       " 146,\n",
       " 399,\n",
       " 53,\n",
       " 54,\n",
       " 302,\n",
       " 34,\n",
       " 340,\n",
       " 81,\n",
       " 149,\n",
       " 7,\n",
       " 379,\n",
       " 249,\n",
       " 101,\n",
       " 178,\n",
       " 5,\n",
       " 155,\n",
       " 305,\n",
       " 297,\n",
       " 217,\n",
       " 74,\n",
       " 43,\n",
       " 224,\n",
       " 373,\n",
       " 238,\n",
       " 335,\n",
       " 254,\n",
       " 2,\n",
       " 253,\n",
       " 162,\n",
       " 239,\n",
       " 267,\n",
       " 269,\n",
       " 251,\n",
       " 11,\n",
       " 76,\n",
       " 195,\n",
       " 181,\n",
       " 6,\n",
       " 154,\n",
       " 119,\n",
       " 61,\n",
       " 20,\n",
       " 316,\n",
       " 12,\n",
       " 383,\n",
       " 299,\n",
       " 21,\n",
       " 376,\n",
       " 270,\n",
       " 293,\n",
       " 354,\n",
       " 153,\n",
       " 73,\n",
       " 296,\n",
       " 88,\n",
       " 150,\n",
       " 199,\n",
       " 363,\n",
       " 250,\n",
       " 75,\n",
       " 407,\n",
       " 248,\n",
       " 105,\n",
       " 106,\n",
       " 189,\n",
       " 24,\n",
       " 343,\n",
       " 78,\n",
       " 31,\n",
       " 107,\n",
       " 164,\n",
       " 227,\n",
       " 60,\n",
       " 310,\n",
       " 327,\n",
       " 347,\n",
       " 121,\n",
       " 256,\n",
       " 125,\n",
       " 137,\n",
       " 255,\n",
       " 153,\n",
       " 127,\n",
       " 128,\n",
       " 271,\n",
       " 272,\n",
       " 287,\n",
       " 86,\n",
       " 328,\n",
       " 144,\n",
       " 109,\n",
       " 95,\n",
       " 180,\n",
       " 348,\n",
       " 385,\n",
       " 380,\n",
       " 126,\n",
       " 245,\n",
       " 281,\n",
       " 341,\n",
       " 206,\n",
       " 111,\n",
       " 68,\n",
       " 309,\n",
       " 344,\n",
       " 292,\n",
       " 97,\n",
       " 49,\n",
       " 417,\n",
       " 131,\n",
       " 349,\n",
       " 67,\n",
       " 40,\n",
       " 291,\n",
       " 415,\n",
       " 396,\n",
       " 277,\n",
       " 362,\n",
       " 372,\n",
       " 39,\n",
       " 233,\n",
       " 3,\n",
       " 390,\n",
       " 247,\n",
       " 314,\n",
       " 112,\n",
       " 233,\n",
       " 366,\n",
       " 94,\n",
       " 182,\n",
       " 27,\n",
       " 166,\n",
       " 83,\n",
       " 389,\n",
       " 147,\n",
       " 190,\n",
       " 236,\n",
       " 32,\n",
       " 44,\n",
       " 92,\n",
       " 120,\n",
       " 82,\n",
       " 300,\n",
       " 194,\n",
       " 231,\n",
       " 187,\n",
       " 237,\n",
       " 198,\n",
       " 88,\n",
       " 378]"
      ]
     },
     "execution_count": 325,
     "metadata": {},
     "output_type": "execute_result"
    }
   ],
   "source": [
    "numbers_to_remove"
   ]
  },
  {
   "cell_type": "code",
   "execution_count": 299,
   "metadata": {},
   "outputs": [
    {
     "data": {
      "text/plain": [
       "{'35analog': 0,\n",
       " '35mm': 1,\n",
       " '35mmfilm': 2,\n",
       " '603': 3,\n",
       " '90sfashion': 4,\n",
       " '90shiphop': 5,\n",
       " '90skids': 6,\n",
       " '90sparty': 7,\n",
       " 'abikiniaday': 8,\n",
       " 'accidentalzine': 9,\n",
       " 'acidwash': 10,\n",
       " 'acrylicpainting': 11,\n",
       " 'acurrentaffair': 12,\n",
       " 'analogue': 13,\n",
       " 'analoguevibes': 14,\n",
       " 'analogvibes': 15,\n",
       " 'antiques': 16,\n",
       " 'archivecollectivemag': 17,\n",
       " 'artistcollaboration': 18,\n",
       " 'asburypark': 19,\n",
       " 'atelier': 20,\n",
       " 'babetown': 21,\n",
       " 'beach': 22,\n",
       " 'beachwear': 23,\n",
       " 'beastcoast': 24,\n",
       " 'beckley': 25,\n",
       " 'bestfitsdaily': 26,\n",
       " 'betheadventure': 27,\n",
       " 'biarritz': 28,\n",
       " 'biggie': 29,\n",
       " 'bikiniready': 30,\n",
       " 'birthdaygirl': 31,\n",
       " 'birthdayshots': 32,\n",
       " 'bleachmyfilm': 33,\n",
       " 'blockisland': 34,\n",
       " 'boston': 35,\n",
       " 'bostonblogger': 36,\n",
       " 'bowie': 37,\n",
       " 'broadmag': 38,\n",
       " 'bubblerock': 39,\n",
       " 'cactus': 40,\n",
       " 'cali': 41,\n",
       " 'camouflage': 42,\n",
       " 'capecod': 43,\n",
       " 'champagne': 44,\n",
       " 'chasinglight': 45,\n",
       " 'cheadsmagazine': 46,\n",
       " 'cheeky': 47,\n",
       " 'cheekybikini': 48,\n",
       " 'cheers': 49,\n",
       " 'chugandshop': 50,\n",
       " 'coastallife': 51,\n",
       " 'collaborationmastered': 52,\n",
       " 'colorado': 53,\n",
       " 'coloradosprings': 54,\n",
       " 'colorblock': 55,\n",
       " 'colorblockcrewww': 56,\n",
       " 'colorblocking': 57,\n",
       " 'contemporaryart': 58,\n",
       " 'contemporarydesign': 59,\n",
       " 'cosmic': 60,\n",
       " 'craftsmanship': 61,\n",
       " 'createcommune': 62,\n",
       " 'createcultivate': 63,\n",
       " 'createexploretakeover': 64,\n",
       " 'creativeentrepreneur': 65,\n",
       " 'creativesontherise': 66,\n",
       " 'cuba': 67,\n",
       " 'currentdesignsituation': 68,\n",
       " 'currentlywearing': 69,\n",
       " 'customapparel': 70,\n",
       " 'custombikini': 71,\n",
       " 'customjacket': 72,\n",
       " 'dangerbeach': 73,\n",
       " 'darlingweekend': 74,\n",
       " 'denimondenim': 75,\n",
       " 'depression': 76,\n",
       " 'designcommunity': 77,\n",
       " 'designporn': 78,\n",
       " 'designworld': 79,\n",
       " 'dewtour': 80,\n",
       " 'discokiller': 81,\n",
       " 'downtownportsmouth': 82,\n",
       " 'dreamteam': 83,\n",
       " 'dressupbox': 84,\n",
       " 'drift': 85,\n",
       " 'driftbikini': 86,\n",
       " 'driftbikinis': 87,\n",
       " 'driftbyyou': 88,\n",
       " 'driftexclusive': 89,\n",
       " 'driftfam': 90,\n",
       " 'driftfamily': 91,\n",
       " 'driftoriginals': 92,\n",
       " 'driftsummer17': 93,\n",
       " 'earth_portraits': 94,\n",
       " 'earthday': 95,\n",
       " 'eastcoast': 96,\n",
       " 'eastcoastweekendvibes': 97,\n",
       " 'endfastfashion': 98,\n",
       " 'entrepreneurlife': 99,\n",
       " 'entrepreneurlifestyle': 100,\n",
       " 'eventplanning': 101,\n",
       " 'explorecreatetakeover': 102,\n",
       " 'exploretocreate': 103,\n",
       " 'expofilm': 104,\n",
       " 'fashionblogger': 105,\n",
       " 'fashiondesigner': 106,\n",
       " 'fashionkilla': 107,\n",
       " 'fashionkiller': 108,\n",
       " 'fashionrevolutionweek': 109,\n",
       " 'featuremebest': 110,\n",
       " 'featuremeofh': 111,\n",
       " 'featuremeseas': 112,\n",
       " 'featurepalette': 113,\n",
       " 'fempreneur': 114,\n",
       " 'film': 115,\n",
       " 'filmisnotdead': 116,\n",
       " 'flashesofdelight': 117,\n",
       " 'flatlay': 118,\n",
       " 'fleafinds': 119,\n",
       " 'fleetst': 120,\n",
       " 'fleetstreet': 121,\n",
       " 'foammagazine': 122,\n",
       " 'folkportraits': 123,\n",
       " 'followingboston': 124,\n",
       " 'fotomobile': 125,\n",
       " 'getready': 126,\n",
       " 'girlboss': 127,\n",
       " 'girlcrush': 128,\n",
       " 'girlgaze': 129,\n",
       " 'girlsonfilm': 130,\n",
       " 'goodvibes': 131,\n",
       " 'gooutside': 132,\n",
       " 'gotmilk': 133,\n",
       " 'grainisgood': 134,\n",
       " 'graphicdesign': 135,\n",
       " 'grassroots': 136,\n",
       " 'gupmagazine': 137,\n",
       " 'handmade': 138,\n",
       " 'handmadeapparel': 139,\n",
       " 'handmadebikini': 140,\n",
       " 'handmadebikinis': 141,\n",
       " 'handmadefashion': 142,\n",
       " 'handmadeswimwear': 143,\n",
       " 'happyearthday': 144,\n",
       " 'happyholidaze': 145,\n",
       " 'harleydavidson': 146,\n",
       " 'herecomestrouble': 147,\n",
       " 'hinfluencercollective': 148,\n",
       " 'hiphop': 149,\n",
       " 'hizaayy': 150,\n",
       " 'holidaysale': 151,\n",
       " 'hoodie': 152,\n",
       " 'humpday': 153,\n",
       " 'humpdayflair': 154,\n",
       " 'huntgram': 155,\n",
       " 'hvmansouls': 156,\n",
       " 'hypebae': 157,\n",
       " 'hypebeast': 158,\n",
       " 'ifyouleave': 159,\n",
       " 'igboston': 160,\n",
       " 'igersboston': 161,\n",
       " 'ilikeit': 162,\n",
       " 'indiansummer': 163,\n",
       " 'innertubeslookgoodonyou': 164,\n",
       " 'itgirlstyle': 165,\n",
       " 'iwd2017': 166,\n",
       " 'jetsetlife': 167,\n",
       " 'joiedevivre': 168,\n",
       " 'justgoshoot': 169,\n",
       " 'keepfilmalive': 170,\n",
       " 'keepitwild': 171,\n",
       " 'killergrams': 172,\n",
       " 'killerminimal': 173,\n",
       " 'kodak_photo': 174,\n",
       " 'l0tsabraids': 175,\n",
       " 'lastdaze': 176,\n",
       " 'lastminutegifts': 177,\n",
       " 'ldwsale': 178,\n",
       " 'learminimalism': 179,\n",
       " 'legends': 180,\n",
       " 'leopardisaneutral': 181,\n",
       " 'lifeawaits': 182,\n",
       " 'lifeofadventure': 183,\n",
       " 'lightandshadow': 184,\n",
       " 'lightleak': 185,\n",
       " 'livecolorfully': 186,\n",
       " 'livefolk': 187,\n",
       " 'local': 188,\n",
       " 'loveher': 189,\n",
       " 'loveyou': 190,\n",
       " 'lucecurated': 191,\n",
       " 'mainetheway': 192,\n",
       " 'marblebikini': 193,\n",
       " 'march': 194,\n",
       " 'marrisclan': 195,\n",
       " 'merrychristmas': 196,\n",
       " 'merrychristmaseve': 197,\n",
       " 'miami': 198,\n",
       " 'migos': 199,\n",
       " 'mindtheminimal': 200,\n",
       " 'minimal_graphy': 201,\n",
       " 'minimal_perfection': 202,\n",
       " 'minimalexperience': 203,\n",
       " 'minimalmood': 204,\n",
       " 'minimalmovement': 205,\n",
       " 'minimalove': 206,\n",
       " 'minimalstyle': 207,\n",
       " 'minimalzine': 208,\n",
       " 'mininalzine': 209,\n",
       " 'missthis': 210,\n",
       " 'moderndesign': 211,\n",
       " 'modernnotoriety': 212,\n",
       " 'modernstyle': 213,\n",
       " 'moodyports': 214,\n",
       " 'mycreativebiz': 215,\n",
       " 'mydailystreet': 216,\n",
       " 'myhumps': 217,\n",
       " 'mynewengland': 218,\n",
       " 'mytinyatlas': 219,\n",
       " 'nakedmannequin': 220,\n",
       " 'newengland': 221,\n",
       " 'newhampshire': 222,\n",
       " 'noicemag': 223,\n",
       " 'northeast': 224,\n",
       " 'northeastcollective': 225,\n",
       " 'northeastisbeast': 226,\n",
       " 'nothingincommon': 227,\n",
       " 'oceanminded': 228,\n",
       " 'of2humans': 229,\n",
       " 'offthewall': 230,\n",
       " 'oftheafterncoon': 231,\n",
       " 'oftheafternoon': 232,\n",
       " 'ohboy': 233,\n",
       " 'onboooooom': 234,\n",
       " 'onceuponatime': 235,\n",
       " 'oneofakind': 236,\n",
       " 'onholiday': 237,\n",
       " 'ootd': 238,\n",
       " 'openforbusiness': 239,\n",
       " 'oregon': 240,\n",
       " 'oregoncoast': 241,\n",
       " 'ourmomentum': 242,\n",
       " 'outfitsociety': 243,\n",
       " 'pacificcity': 244,\n",
       " 'painterforlife': 245,\n",
       " 'paperjournalmag': 246,\n",
       " 'parkcity': 247,\n",
       " 'partypants': 248,\n",
       " 'partyplanner': 249,\n",
       " 'partyshirts': 250,\n",
       " 'passionpassport': 251,\n",
       " 'peopleinwalls': 252,\n",
       " 'peoplescreative': 253,\n",
       " 'peopleskills': 254,\n",
       " 'photochallenge': 255,\n",
       " 'phroom': 256,\n",
       " 'phroommagazine': 257,\n",
       " 'pineapplebikini': 258,\n",
       " 'portraitcentral': 259,\n",
       " 'portraits_mf': 260,\n",
       " 'portraits_universe': 261,\n",
       " 'portsmouth': 262,\n",
       " 'portsmouthnh': 263,\n",
       " 'postitfortheaesthetic': 264,\n",
       " 'postmypicrsticks': 265,\n",
       " 'postmypicsticks': 266,\n",
       " 'postthepeople': 267,\n",
       " 'powderday': 268,\n",
       " 'printmaster': 269,\n",
       " 'prints': 270,\n",
       " 'psychedelic': 271,\n",
       " 'psychedelicrock': 272,\n",
       " 'pursuepretty': 273,\n",
       " 'pursuitofportraits': 274,\n",
       " 'putabowonit': 275,\n",
       " 'quietthechaos': 276,\n",
       " 'rad': 277,\n",
       " 'reachedsouls': 278,\n",
       " 'recreatedapparel': 279,\n",
       " 'recycledart': 280,\n",
       " 'renovations': 281,\n",
       " 'rentalmag': 282,\n",
       " 'repurposedart': 283,\n",
       " 'retrochristmas': 284,\n",
       " 'retrofashion': 285,\n",
       " 'retrostyle': 286,\n",
       " 'retrosurf': 287,\n",
       " 'reversiblebikini': 288,\n",
       " 'rsa_minimal': 289,\n",
       " 'sainttropezvintagefashion': 290,\n",
       " 'sale': 291,\n",
       " 'sales': 292,\n",
       " 'saltsoaked': 293,\n",
       " 'saturday': 294,\n",
       " 'savetheplanet': 295,\n",
       " 'screenprinting': 296,\n",
       " 'sealovesurfboards': 297,\n",
       " 'seamyphotos': 298,\n",
       " 'shekillsit': 299,\n",
       " 'shootfilm': 300,\n",
       " 'shophandmade': 301,\n",
       " 'shoplocal': 302,\n",
       " 'shopportsmouth': 303,\n",
       " 'shopsmall': 304,\n",
       " 'shopstyle': 305,\n",
       " 'shopsustainable': 306,\n",
       " 'shotaroundmag': 307,\n",
       " 'sipandshop': 308,\n",
       " 'sister': 309,\n",
       " 'sisters': 310,\n",
       " 'skateboard': 311,\n",
       " 'skateboarding': 312,\n",
       " 'skicolorado': 313,\n",
       " 'skiutah': 314,\n",
       " 'slimaarons': 315,\n",
       " 'slowfashion': 316,\n",
       " 'smallbusiness': 317,\n",
       " 'smallbusinesssaturday': 318,\n",
       " 'snowboarder': 319,\n",
       " 'snowboarding': 320,\n",
       " 'snowday': 321,\n",
       " 'snowisblack': 322,\n",
       " 'somewheremagazine': 323,\n",
       " 'spring': 324,\n",
       " 'springtime': 325,\n",
       " 'stayandwander': 326,\n",
       " 'stayfunky': 327,\n",
       " 'stayposted': 328,\n",
       " 'streetchic': 329,\n",
       " 'streetphotography': 330,\n",
       " 'streetstyle': 331,\n",
       " 'streetstylefashion': 332,\n",
       " 'streetwearfashion': 333,\n",
       " 'styleblogger': 334,\n",
       " 'stylecollective': 335,\n",
       " 'stylecrush': 336,\n",
       " 'subjectivelyobjective': 337,\n",
       " 'summer': 338,\n",
       " 'summer17': 339,\n",
       " 'summerin35mm': 340,\n",
       " 'summeriscoming': 341,\n",
       " 'summersunselection': 342,\n",
       " 'sunnies': 343,\n",
       " 'sunshine': 344,\n",
       " 'supportlocal': 345,\n",
       " 'supportsmallbiz': 346,\n",
       " 'supportsmallbusiness': 347,\n",
       " 'supportyourlocalartists': 348,\n",
       " 'surf': 349,\n",
       " 'surf_shots': 350,\n",
       " 'surfingsanta': 351,\n",
       " 'surflife': 352,\n",
       " 'surfphotography': 353,\n",
       " 'surfshop': 354,\n",
       " 'surfstyle': 355,\n",
       " 'surftrip': 356,\n",
       " 'sustainable': 357,\n",
       " 'sustainabledesign': 358,\n",
       " 'sustainablefashion': 359,\n",
       " 'takeuswithyou': 360,\n",
       " 'tangledinfilm': 361,\n",
       " 'teamworkmakesthedreamwork': 362,\n",
       " 'thebarn': 363,\n",
       " 'thecoolmagazine': 364,\n",
       " 'thecreatorclass': 365,\n",
       " 'thedriftcollective': 366,\n",
       " 'thefilmcommunity': 367,\n",
       " 'thehappynow': 368,\n",
       " 'theoutbound': 369,\n",
       " 'theportraitpr0ject': 370,\n",
       " 'thesartorialist': 371,\n",
       " 'thewall': 372,\n",
       " 'thewavecave': 373,\n",
       " 'thisveryinstant': 374,\n",
       " 'thrasher': 375,\n",
       " 'thriftshopfinds': 376,\n",
       " 'thriftstorefinds': 377,\n",
       " 'throughtheeyes': 378,\n",
       " 'throwback': 379,\n",
       " 'thuglife': 380,\n",
       " 'todaysdetails': 381,\n",
       " 'totearoundtown': 382,\n",
       " 'treasurebox': 383,\n",
       " 'tubular': 384,\n",
       " 'tupac': 385,\n",
       " 'under3kyo': 386,\n",
       " 'upcycledclothing': 387,\n",
       " 'urbanstyle': 388,\n",
       " 'usagainsttheworld': 389,\n",
       " 'utah': 390,\n",
       " 'vacationland': 391,\n",
       " 'vail': 392,\n",
       " 'vailcolorado': 393,\n",
       " 'vansoffthewall': 394,\n",
       " 'vansoldskool': 395,\n",
       " 'vibes': 396,\n",
       " 'vintage': 397,\n",
       " 'vintagebohemian': 398,\n",
       " 'vintageboutique': 399,\n",
       " 'vintagechristmas': 400,\n",
       " 'vintageclothing': 401,\n",
       " 'vintagedenim': 402,\n",
       " 'vintagefashion': 403,\n",
       " 'vintagelove': 404,\n",
       " 'vintageshop': 405,\n",
       " 'vintagestyle': 406,\n",
       " 'vintagetees': 407,\n",
       " 'vinyl': 408,\n",
       " 'vinyladay': 409,\n",
       " 'vinylcollectionpost': 410,\n",
       " 'visualsoflife': 411,\n",
       " 'vscocam': 412,\n",
       " 'wavecave': 413,\n",
       " 'waveporn': 414,\n",
       " 'wcw': 415,\n",
       " 'wearethepeoplemag': 416,\n",
       " 'weekendvibes': 417,\n",
       " 'westcoast': 418,\n",
       " 'wethecreators': 419,\n",
       " 'weworewhat': 420,\n",
       " 'whatiwore': 421,\n",
       " 'whowhatwear': 422,\n",
       " 'whywhiteworks': 423,\n",
       " 'whywhiteworrks': 424,\n",
       " 'womeninbiz': 425,\n",
       " 'womenwhowork': 426,\n",
       " 'yuletidedelights': 427}"
      ]
     },
     "execution_count": 299,
     "metadata": {},
     "output_type": "execute_result"
    }
   ],
   "source": []
  },
  {
   "cell_type": "code",
   "execution_count": 228,
   "metadata": {
    "collapsed": true
   },
   "outputs": [],
   "source": [
    "imp_tags = [(48,'cheekybikini'), (87,'driftbikinis'), (114,'fempreneur' ), \n",
    "(134,'grainisgood'),(136,'grassroots'), (140,'handmadebikini'),\n",
    "(163,'indiansummer'), (208,'minimalzine'), (219,'mytinyatlas'),\n",
    "(225,'northeastcollective'),(227,'nothingincommon'),(236,'oneofakind'),\n",
    "(260,'portraits_mf'),(262,'portsmouth' ), (263,'portsmouthnh'),\n",
    "(302,'shoplocal'),(366,'thedriftcollective'),(397,'vintage'),\n",
    "(402,'vintagedenim'),(403,'vintagefashion')]"
   ]
  },
  {
   "cell_type": "code",
   "execution_count": 235,
   "metadata": {},
   "outputs": [],
   "source": [
    "likes_data={}\n",
    "for num, tag in zip([tup[0] for tup in imp_tags],[tup[1] for tup in imp_tags]):\n",
    "    likes_data[tag] = (hashtag_occurances[tag], combined3[combined3[num] >0].number_of_likes.mean(), combined3[combined3[num] >0].number_of_likes.std())"
   ]
  },
  {
   "cell_type": "code",
   "execution_count": 236,
   "metadata": {},
   "outputs": [
    {
     "data": {
      "text/plain": [
       "{'cheekybikini': (8, 264.85714285714283, 66.81923019467916),\n",
       " 'driftbikinis': (32, 297.65625, 94.88791669054056),\n",
       " 'fempreneur': (12, 234.91666666666666, 83.17938810823632),\n",
       " 'grainisgood': (135, 263.5777777777778, 70.5737115094488),\n",
       " 'grassroots': (9, 310.3333333333333, 92.28488500290824),\n",
       " 'handmadebikini': (10, 300.3, 33.07247932781709),\n",
       " 'indiansummer': (2, 151.5, 60.10407640085654),\n",
       " 'minimalzine': (180, 278.3820224719101, 74.19816277104415),\n",
       " 'mytinyatlas': (43, 282.7906976744186, 64.87958008037987),\n",
       " 'northeastcollective': (5, 166.2, 49.2767693746252),\n",
       " 'nothingincommon': (31, 310.15625, 66.50399424094766),\n",
       " 'oneofakind': (1, 202.0, nan),\n",
       " 'portraits_mf': (12, 333.0, 73.63546576332507),\n",
       " 'portsmouth': (14, 318.92857142857144, 65.60893968837605),\n",
       " 'portsmouthnh': (68, 268.2238805970149, 67.24780516763586),\n",
       " 'shoplocal': (49, 285.0204081632653, 67.99769904070234),\n",
       " 'thedriftcollective': (131, 276.3484848484849, 73.22640670487776),\n",
       " 'vintage': (10, 322.6, 65.62892316315693),\n",
       " 'vintagedenim': (5, 192.4, 82.0993300825287),\n",
       " 'vintagefashion': (28, 224.67857142857142, 64.55950661351041)}"
      ]
     },
     "execution_count": 236,
     "metadata": {},
     "output_type": "execute_result"
    }
   ],
   "source": [
    "likes_data"
   ]
  },
  {
   "cell_type": "code",
   "execution_count": 176,
   "metadata": {},
   "outputs": [],
   "source": [
    "rev_dict={}\n",
    "for key, val in vocab.items():\n",
    "    rev_dict[val]= key"
   ]
  },
  {
   "cell_type": "code",
   "execution_count": 183,
   "metadata": {
    "scrolled": false
   },
   "outputs": [],
   "source": [
    "hashtag_occurances = {}\n",
    "for post in list(combined.hashtags):\n",
    "    for tag in post:\n",
    "        tag = re.sub('\\#', '', tag) \n",
    "        if tag not in hashtag_occurances:\n",
    "            hashtag_occurances[tag] = 1\n",
    "        else: \n",
    "            hashtag_occurances[tag] += 1"
   ]
  },
  {
   "cell_type": "code",
   "execution_count": 227,
   "metadata": {},
   "outputs": [
    {
     "name": "stdout",
     "output_type": "stream",
     "text": [
      "300.3\n",
      "33.07247932781709\n"
     ]
    }
   ],
   "source": [
    "print(combined3[combined3[140] >0].number_of_likes.mean())\n",
    "print(combined3[combined3[140] >0].number_of_likes.std())"
   ]
  },
  {
   "cell_type": "code",
   "execution_count": 213,
   "metadata": {},
   "outputs": [
    {
     "data": {
      "text/plain": [
       "274.03619909502265"
      ]
     },
     "execution_count": 213,
     "metadata": {},
     "output_type": "execute_result"
    }
   ],
   "source": [
    "combined3[combined3[302] <= 0].number_of_likes.mean()"
   ]
  },
  {
   "cell_type": "code",
   "execution_count": 206,
   "metadata": {},
   "outputs": [
    {
     "data": {
      "text/plain": [
       "276.02962962962965"
      ]
     },
     "execution_count": 206,
     "metadata": {},
     "output_type": "execute_result"
    }
   ],
   "source": [
    "combined3.number_of_likes.mean()"
   ]
  },
  {
   "cell_type": "code",
   "execution_count": 219,
   "metadata": {},
   "outputs": [
    {
     "data": {
      "text/plain": [
       "244"
      ]
     },
     "execution_count": 219,
     "metadata": {},
     "output_type": "execute_result"
    }
   ],
   "source": []
  },
  {
   "cell_type": "code",
   "execution_count": 241,
   "metadata": {},
   "outputs": [],
   "source": [
    "likes_by_hour={}\n",
    "for hour in combined3['hour'].unique():\n",
    "    count = len(combined3[combined3['hour']== hour])\n",
    "    mean = combined3[combined3['hour']== hour].number_of_likes.mean()\n",
    "    std = combined3[combined3['hour']== hour].number_of_likes.std()\n",
    "    likes_by_hour[hour] = (count,round(mean,2),round(std,2))"
   ]
  },
  {
   "cell_type": "code",
   "execution_count": 242,
   "metadata": {},
   "outputs": [
    {
     "data": {
      "text/plain": [
       "{0: (16, 318.62, 48.05),\n",
       " 1: (21, 313.29, 62.53),\n",
       " 2: (13, 311.38, 52.55),\n",
       " 3: (13, 334.15, 73.42),\n",
       " 4: (1, 402.0, nan),\n",
       " 11: (1, 283.0, nan),\n",
       " 12: (8, 310.5, 103.03),\n",
       " 13: (8, 263.62, 76.26),\n",
       " 14: (11, 249.27, 60.37),\n",
       " 15: (39, 264.82, 68.4),\n",
       " 16: (34, 239.06, 83.53),\n",
       " 17: (28, 242.57, 84.65),\n",
       " 18: (24, 251.71, 81.3),\n",
       " 19: (17, 291.12, 52.42),\n",
       " 20: (8, 256.75, 45.96),\n",
       " 21: (11, 286.82, 47.87),\n",
       " 22: (8, 286.62, 50.41),\n",
       " 23: (9, 299.89, 42.19)}"
      ]
     },
     "execution_count": 242,
     "metadata": {},
     "output_type": "execute_result"
    }
   ],
   "source": [
    "likes_by_hour"
   ]
  },
  {
   "cell_type": "code",
   "execution_count": 252,
   "metadata": {},
   "outputs": [
    {
     "data": {
      "image/png": "[encoded data removed]",
      "text/plain": [
       "<matplotlib.figure.Figure at 0x11376f940>"
      ]
     },
     "metadata": {},
     "output_type": "display_data"
    }
   ],
   "source": [
    "for hour in combined3['hour'].unique():\n",
    "    combined3[combined3['hour']== hour].number_of_likes.hist(alpha=.4)"
   ]
  },
  {
   "cell_type": "code",
   "execution_count": 261,
   "metadata": {
    "scrolled": false
   },
   "outputs": [
    {
     "data": {
      "text/plain": [
       "<matplotlib.axes._subplots.AxesSubplot at 0x115099b38>"
      ]
     },
     "execution_count": 261,
     "metadata": {},
     "output_type": "execute_result"
    },
    {
     "data": {
      "image/png": "[encoded data removed]",
      "text/plain": [
       "<matplotlib.figure.Figure at 0x114d81860>"
      ]
     },
     "metadata": {},
     "output_type": "display_data"
    }
   ],
   "source": [
    "combined3[combined3['hour']< 4].number_of_likes.hist(alpha=.4)\n",
    "combined3[(combined3['hour']> 10)&(combined3['hour']<16)].boxplot(column='number_of_likes')\n",
    "combined3[(combined3['hour']> 15)&(combined3['hour']<19)].boxplot(column='number_of_likes')\n",
    "combined3[(combined3['hour']> 18)&(combined3['hour']<24)].boxplot(column='number_of_likes')"
   ]
  },
  {
   "cell_type": "code",
   "execution_count": 262,
   "metadata": {},
   "outputs": [
    {
     "data": {
      "image/png": "[encoded data removed]",
      "text/plain": [
       "<matplotlib.figure.Figure at 0x115054630>"
      ]
     },
     "metadata": {},
     "output_type": "display_data"
    }
   ],
   "source": [
    "for month in combined3['month'].unique():\n",
    "    combined3[combined3['month']== month].number_of_likes.hist(alpha=.4)"
   ]
  },
  {
   "cell_type": "code",
   "execution_count": 265,
   "metadata": {},
   "outputs": [
    {
     "name": "stdout",
     "output_type": "stream",
     "text": [
      "317.41379310344826\n",
      "73.47668106344028\n"
     ]
    }
   ],
   "source": [
    "print(combined3[combined3['butt_pic']==True].number_of_likes.mean())\n",
    "print(combined3[combined3['butt_pic']==True].number_of_likes.std())"
   ]
  },
  {
   "cell_type": "code",
   "execution_count": 266,
   "metadata": {},
   "outputs": [
    {
     "name": "stdout",
     "output_type": "stream",
     "text": [
      "298.3783783783784\n",
      "81.29280115434281\n"
     ]
    }
   ],
   "source": [
    "print(combined3[combined3['pro\\\\model']==True].number_of_likes.mean())\n",
    "print(combined3[combined3['pro\\\\model']==True].number_of_likes.std())"
   ]
  },
  {
   "cell_type": "code",
   "execution_count": 306,
   "metadata": {
    "collapsed": true
   },
   "outputs": [],
   "source": [
    "import src.instagram_profile_scraper as in_scrape\n",
    "%autoreload"
   ]
  },
  {
   "cell_type": "code",
   "execution_count": 307,
   "metadata": {
    "collapsed": true
   },
   "outputs": [],
   "source": [
    "browser = in_scrape.login_insta('kait.stearns','Wilmot11')"
   ]
  },
  {
   "cell_type": "code",
   "execution_count": 308,
   "metadata": {
    "collapsed": true
   },
   "outputs": [],
   "source": [
    "info = in_scrape.scrape_profile_info(browser, 'fess_matt_')"
   ]
  },
  {
   "cell_type": "code",
   "execution_count": 334,
   "metadata": {},
   "outputs": [],
   "source": [
    "info;"
   ]
  },
  {
   "cell_type": "code",
   "execution_count": 315,
   "metadata": {},
   "outputs": [],
   "source": [
    "matt = pd.DataFrame.from_dict(info, orient='index')"
   ]
  },
  {
   "cell_type": "code",
   "execution_count": 318,
   "metadata": {},
   "outputs": [],
   "source": [
    "matt = matt.transpose()"
   ]
  },
  {
   "cell_type": "code",
   "execution_count": 319,
   "metadata": {
    "collapsed": true
   },
   "outputs": [],
   "source": [
    "pickle_out = open(\"matt.pkl\",\"wb\")\n",
    "pickle.dump(matt, pickle_out)\n",
    "pickle_out.close()"
   ]
  },
  {
   "cell_type": "code",
   "execution_count": 320,
   "metadata": {
    "collapsed": true
   },
   "outputs": [],
   "source": [
    "pickle_in = open(\"matt.pkl\",\"rb\")\n",
    "matt2 = pickle.load(pickle_in)\n"
   ]
  },
  {
   "cell_type": "code",
   "execution_count": 418,
   "metadata": {},
   "outputs": [],
   "source": [
    "product_shots = drop_redundency[(drop_redundency['product_shot'] == 1)]\n",
    "without_dow = product_shots.drop(['sale','male','female','DOW_0', 'DOW_1', 'DOW_2', 'DOW_3', 'DOW_4', \n",
    "                      'DOW_5', 'DOW_6','number_of_likes'], axis = 1)"
   ]
  },
  {
   "cell_type": "code",
   "execution_count": 377,
   "metadata": {},
   "outputs": [
    {
     "data": {
      "text/plain": [
       "127"
      ]
     },
     "execution_count": 377,
     "metadata": {},
     "output_type": "execute_result"
    }
   ],
   "source": []
  },
  {
   "cell_type": "code",
   "execution_count": 419,
   "metadata": {
    "collapsed": true
   },
   "outputs": [],
   "source": [
    "scaler = preprocessing.StandardScaler()\n",
    "scaled = scaler.fit_transform(without_dow)"
   ]
  },
  {
   "cell_type": "code",
   "execution_count": 420,
   "metadata": {},
   "outputs": [],
   "source": [
    "sil_scores =[]\n",
    "for i in range(2,20):\n",
    "    km = KMeans(n_clusters=i)\n",
    "    km.fit(scaled)\n",
    "    clustered= km.predict(scaled) \n",
    "    sil = silhouette_score(scaled,clustered)\n",
    "    sil_scores.append((i,sil))\n",
    "    scores = [tup[1] for tup in sil_scores]"
   ]
  },
  {
   "cell_type": "code",
   "execution_count": 382,
   "metadata": {},
   "outputs": [],
   "source": [
    "sil_scores;"
   ]
  },
  {
   "cell_type": "code",
   "execution_count": 421,
   "metadata": {},
   "outputs": [
    {
     "data": {
      "image/png": "[encoded data removed]",
      "text/plain": [
       "<matplotlib.figure.Figure at 0x115d01d68>"
      ]
     },
     "metadata": {},
     "output_type": "display_data"
    }
   ],
   "source": [
    "_=plt.barh(range(2, len(scores)+2),scores)\n",
    "_=plt.yticks(range(2,len(scores)+2))"
   ]
  },
  {
   "cell_type": "code",
   "execution_count": 422,
   "metadata": {
    "collapsed": true
   },
   "outputs": [],
   "source": [
    "km = KMeans(n_clusters=5)\n",
    "km.fit(scaled)\n",
    "clustered= km.predict(scaled) "
   ]
  },
  {
   "cell_type": "code",
   "execution_count": 423,
   "metadata": {},
   "outputs": [
    {
     "data": {
      "text/plain": [
       "127"
      ]
     },
     "execution_count": 423,
     "metadata": {},
     "output_type": "execute_result"
    }
   ],
   "source": [
    "len(clustered)"
   ]
  },
  {
   "cell_type": "code",
   "execution_count": 426,
   "metadata": {},
   "outputs": [
    {
     "name": "stderr",
     "output_type": "stream",
     "text": [
      "/Applications/anaconda/lib/python3.6/site-packages/ipykernel_launcher.py:1: SettingWithCopyWarning: \n",
      "A value is trying to be set on a copy of a slice from a DataFrame.\n",
      "Try using .loc[row_indexer,col_indexer] = value instead\n",
      "\n",
      "See the caveats in the documentation: http://pandas.pydata.org/pandas-docs/stable/indexing.html#indexing-view-versus-copy\n",
      "  \"\"\"Entry point for launching an IPython kernel.\n"
     ]
    }
   ],
   "source": [
    "product_shots['clusters']= clustered"
   ]
  },
  {
   "cell_type": "code",
   "execution_count": 427,
   "metadata": {},
   "outputs": [
    {
     "name": "stdout",
     "output_type": "stream",
     "text": [
      "For cluster 0:\n",
      "groupsize: 36\n",
      "mean: 282.27777777777777\n",
      "std: 77.70847025393273\n",
      "For cluster 1:\n",
      "groupsize: 15\n",
      "mean: 296.6\n",
      "std: 82.52514768238831\n",
      "For cluster 2:\n",
      "groupsize: 16\n",
      "mean: 306.4375\n",
      "std: 81.95280654132597\n",
      "For cluster 3:\n",
      "groupsize: 57\n",
      "mean: 266.64912280701753\n",
      "std: 66.77453835430894\n",
      "For cluster 4:\n",
      "groupsize: 3\n",
      "mean: 179.66666666666666\n",
      "std: 21.1266025033211\n"
     ]
    }
   ],
   "source": [
    "for i in range(5):\n",
    "    print('For cluster {}:'.format(i))\n",
    "    print('groupsize: {}'.format(len(product_shots[product_shots['clusters']==i])))\n",
    "    print('mean: {}'.format(product_shots[product_shots['clusters']==i].number_of_likes.mean()))\n",
    "    print('std: {}'.format(product_shots[product_shots['clusters']==i].number_of_likes.std()))"
   ]
  },
  {
   "cell_type": "code",
   "execution_count": 428,
   "metadata": {},
   "outputs": [],
   "source": [
    "c1 = list(product_shots[product_shots['clusters']==0].number_of_likes)\n",
    "c2 =list(product_shots[product_shots['clusters']==1].number_of_likes)\n",
    "c3=list(product_shots[product_shots['clusters']==2].number_of_likes)\n",
    "c4=list(product_shots[product_shots['clusters']==3].number_of_likes)\n",
    "c5=list(product_shots[product_shots['clusters']==4].number_of_likes)"
   ]
  },
  {
   "cell_type": "code",
   "execution_count": 430,
   "metadata": {},
   "outputs": [
    {
     "data": {
      "image/png": "[encoded data removed]",
      "text/plain": [
       "<matplotlib.figure.Figure at 0x115dda9b0>"
      ]
     },
     "metadata": {},
     "output_type": "display_data"
    }
   ],
   "source": [
    "_=plt.boxplot([c1,c2,c3,c4, c5])"
   ]
  },
  {
   "cell_type": "code",
   "execution_count": 417,
   "metadata": {
    "scrolled": true
   },
   "outputs": [],
   "source": [
    "off_ppl_product_shot = product_shots[product_shots['clusters']==2]"
   ]
  },
  {
   "cell_type": "code",
   "execution_count": 457,
   "metadata": {},
   "outputs": [
    {
     "name": "stdout",
     "output_type": "stream",
     "text": [
      "\n",
      "num_people: 0.68 | 0.45 | 0.53 | -0.82 | 2.33\n",
      "faces_visible: 1.21 | -0.45 | -0.46 | -0.57 | 0.9\n",
      "edited: 0.04 | -0.22 | 0.37 | -0.06 | -0.22\n",
      "butt_pic: -0.39 | 0.59 | 1.81 | -0.39 | -0.39\n",
      "ocean: -0.3 | 2.43 | -0.19 | -0.38 | -0.38\n",
      "skate: -0.16 | -0.16 | -0.16 | -0.16 | 6.43\n",
      "drift_content: -0.76 | -0.64 | -0.79 | 0.93 | -1.04\n",
      "product_shot: 0.0 | 0.0 | 0.0 | 0.0 | 0.0\n",
      "lifestyle: 0.48 | 1.01 | 0.51 | -0.74 | 0.6\n",
      "in_shop: -0.44 | -0.99 | -0.74 | 0.8 | -0.99\n",
      "pro\\model: 0.51 | -0.23 | 1.09 | -0.54 | -0.54\n",
      "in_nature: -0.11 | 1.95 | 0.18 | -0.47 | -0.47\n",
      "surf: 0.14 | 0.58 | -0.18 | -0.18 | -0.18\n",
      "bikini: 0.29 | 0.59 | 1.13 | -0.61 | -0.89\n",
      "apparel: -0.1 | -0.61 | -1.05 | 0.48 | 0.77\n"
     ]
    }
   ],
   "source": [
    "print()\n",
    "for name, val1,val2,val3,val4,val5 in zip(without_dow.columns,km.cluster_centers_[0],km.cluster_centers_[1],km.cluster_centers_[2],km.cluster_centers_[3],km.cluster_centers_[4]):\n",
    "    print(\"{}: {} | {} | {} | {} | {}\".format(name, round(val1,2), round(val2,2), round(val3,2), round(val4,2), round(val5,2)))"
   ]
  },
  {
   "cell_type": "code",
   "execution_count": 458,
   "metadata": {},
   "outputs": [
    {
     "data": {
      "text/plain": [
       "Index([            'DOW_0',             'DOW_1',             'DOW_2',\n",
       "                   'DOW_3',             'DOW_4',             'DOW_5',\n",
       "                   'DOW_6',              'hour',             'month',\n",
       "       'num_people_tagged',\n",
       "       ...\n",
       "                       418,                 419,                 420,\n",
       "                       421,                 422,                 423,\n",
       "                       424,                 425,                 426,\n",
       "                       427],\n",
       "      dtype='object', length=460)"
      ]
     },
     "execution_count": 458,
     "metadata": {},
     "output_type": "execute_result"
    }
   ],
   "source": [
    "combined3.columns"
   ]
  },
  {
   "cell_type": "markdown",
   "metadata": {},
   "source": [
    "# answering questions"
   ]
  },
  {
   "cell_type": "code",
   "execution_count": 471,
   "metadata": {},
   "outputs": [],
   "source": [
    "bikinis = combined2[(combined2['bikini']== True)|(combined2['biki+apparel']== True)]\n",
    "apparel = combined2[(combined2['apparel']== True)|(combined2['biki+apparel']== True)]\n",
    "bikini_app_comb = combined2[combined2['biki+apparel']== True]\n"
   ]
  },
  {
   "cell_type": "code",
   "execution_count": 466,
   "metadata": {},
   "outputs": [
    {
     "name": "stdout",
     "output_type": "stream",
     "text": [
      "293.5\n",
      "74.56696037084635\n",
      "96\n"
     ]
    }
   ],
   "source": [
    "print(bikinis.number_of_likes.mean())\n",
    "print(bikinis.number_of_likes.std())\n",
    "print(len(bikinis))"
   ]
  },
  {
   "cell_type": "code",
   "execution_count": 467,
   "metadata": {},
   "outputs": [
    {
     "name": "stdout",
     "output_type": "stream",
     "text": [
      "270.25333333333333\n",
      "71.23825104277273\n",
      "150\n"
     ]
    }
   ],
   "source": [
    "print(apparel.number_of_likes.mean())\n",
    "print(apparel.number_of_likes.std())\n",
    "print(len(apparel))"
   ]
  },
  {
   "cell_type": "markdown",
   "metadata": {},
   "source": [
    "## it appears apparel pictures on average perform slightly worse that bikini pictures"
   ]
  },
  {
   "cell_type": "code",
   "execution_count": 468,
   "metadata": {
    "collapsed": true
   },
   "outputs": [],
   "source": [
    "butt_pics = bikinis[bikinis['butt_pic']==True]\n",
    "bikinis_no_butts = bikinis[bikinis['butt_pic']==False]"
   ]
  },
  {
   "cell_type": "code",
   "execution_count": 469,
   "metadata": {},
   "outputs": [
    {
     "name": "stdout",
     "output_type": "stream",
     "text": [
      "317.41379310344826\n",
      "73.47668106344028\n",
      "29\n"
     ]
    }
   ],
   "source": [
    "print(butt_pics.number_of_likes.mean())\n",
    "print(butt_pics.number_of_likes.std())\n",
    "print(len(butt_pics))"
   ]
  },
  {
   "cell_type": "code",
   "execution_count": 470,
   "metadata": {},
   "outputs": [
    {
     "name": "stdout",
     "output_type": "stream",
     "text": [
      "283.14925373134326\n",
      "73.16363017058185\n",
      "67\n"
     ]
    }
   ],
   "source": [
    "print(bikinis_no_butts.number_of_likes.mean())\n",
    "print(bikinis_no_butts.number_of_likes.std())\n",
    "print(len(bikinis_no_butts))"
   ]
  },
  {
   "cell_type": "markdown",
   "metadata": {},
   "source": [
    "## further, bikini pics with butts perform better than bikini pics w/o butts. however bother still perfom bettter than the general apparel pics"
   ]
  },
  {
   "cell_type": "code",
   "execution_count": 472,
   "metadata": {},
   "outputs": [
    {
     "name": "stdout",
     "output_type": "stream",
     "text": [
      "273.2142857142857\n",
      "100.48817655014756\n",
      "14\n"
     ]
    }
   ],
   "source": [
    "print(bikini_app_comb.number_of_likes.mean())\n",
    "print(bikini_app_comb.number_of_likes.std())\n",
    "print(len(bikini_app_comb))"
   ]
  },
  {
   "cell_type": "code",
   "execution_count": 474,
   "metadata": {},
   "outputs": [],
   "source": [
    "bikini_no_ppl= bikinis[bikinis['num_people']==0]\n",
    "apparel_no_ppl= apparel[apparel['num_people']==0]"
   ]
  },
  {
   "cell_type": "code",
   "execution_count": 475,
   "metadata": {},
   "outputs": [
    {
     "name": "stdout",
     "output_type": "stream",
     "text": [
      "308.1111111111111\n",
      "36.937259117469864\n",
      "9\n"
     ]
    }
   ],
   "source": [
    "print(bikini_no_ppl.number_of_likes.mean())\n",
    "print(bikini_no_ppl.number_of_likes.std())\n",
    "print(len(bikini_no_ppl))"
   ]
  },
  {
   "cell_type": "code",
   "execution_count": 476,
   "metadata": {},
   "outputs": [
    {
     "name": "stdout",
     "output_type": "stream",
     "text": [
      "260.8627450980392\n",
      "64.22025213523945\n",
      "51\n"
     ]
    }
   ],
   "source": [
    "print(apparel_no_ppl.number_of_likes.mean())\n",
    "print(apparel_no_ppl.number_of_likes.std())\n",
    "print(len(apparel_no_ppl))"
   ]
  },
  {
   "cell_type": "code",
   "execution_count": 488,
   "metadata": {},
   "outputs": [
    {
     "name": "stdout",
     "output_type": "stream",
     "text": [
      "255.1875\n",
      "74.75668866395836\n",
      "16\n",
      "\n",
      "255.63636363636363\n",
      "69.08279742767297\n",
      "22\n",
      "\n",
      "276.6923076923077\n",
      "38.50191470430316\n",
      "13\n"
     ]
    }
   ],
   "source": [
    "print(apparel_no_ppl[apparel_no_ppl['female']==1].number_of_likes.mean())\n",
    "print(apparel_no_ppl[apparel_no_ppl['female']==1].number_of_likes.std())\n",
    "print(len(apparel_no_ppl[apparel_no_ppl['female']==1]))\n",
    "\n",
    "print()\n",
    "print(apparel_no_ppl[apparel_no_ppl['mixed_gender']==1].number_of_likes.mean())\n",
    "print(apparel_no_ppl[apparel_no_ppl['mixed_gender']==1].number_of_likes.std())\n",
    "print(len(apparel_no_ppl[apparel_no_ppl['mixed_gender']==1]))\n",
    "\n",
    "print()\n",
    "print(apparel_no_ppl[apparel_no_ppl['male']==1].number_of_likes.mean())\n",
    "print(apparel_no_ppl[apparel_no_ppl['male']==1].number_of_likes.std())\n",
    "print(len(apparel_no_ppl[apparel_no_ppl['male']==1]))\n"
   ]
  },
  {
   "cell_type": "markdown",
   "metadata": {},
   "source": [
    "# However, pictures without people with male content does better than female or mixed gender"
   ]
  },
  {
   "cell_type": "code",
   "execution_count": 493,
   "metadata": {},
   "outputs": [
    {
     "name": "stdout",
     "output_type": "stream",
     "text": [
      "305.5\n",
      "267.1\n",
      "66\n",
      "30\n"
     ]
    }
   ],
   "source": [
    "print(bikinis[bikinis['lifestyle']==1].number_of_likes.mean())\n",
    "print(bikinis[bikinis['lifestyle']==0].number_of_likes.mean())\n",
    "print(len(bikinis[bikinis['lifestyle']==1]))\n",
    "print(len(bikinis[bikinis['lifestyle']==0]))"
   ]
  },
  {
   "cell_type": "code",
   "execution_count": 497,
   "metadata": {},
   "outputs": [
    {
     "name": "stdout",
     "output_type": "stream",
     "text": [
      "278.075\n",
      "261.3142857142857\n",
      "80\n",
      "70\n"
     ]
    }
   ],
   "source": [
    "print(apparel[apparel['lifestyle']==1].number_of_likes.mean())\n",
    "print(apparel[apparel['lifestyle']==0].number_of_likes.mean())\n",
    "print(len(apparel[apparel['lifestyle']==1]))\n",
    "print(len(apparel[apparel['lifestyle']==0]))"
   ]
  },
  {
   "cell_type": "markdown",
   "metadata": {},
   "source": [
    "# lifestyle shots are more successful for both apparel and bikinis, especially big difference for bikinis"
   ]
  },
  {
   "cell_type": "code",
   "execution_count": 498,
   "metadata": {
    "collapsed": true
   },
   "outputs": [],
   "source": [
    "modelly = combined2[combined2['pro\\\\model']== True]\n",
    "not_modelly = combined2[combined2['pro\\\\model']== False]"
   ]
  },
  {
   "cell_type": "code",
   "execution_count": 508,
   "metadata": {},
   "outputs": [
    {
     "name": "stdout",
     "output_type": "stream",
     "text": [
      "298.3783783783784\n",
      "81.29280115434281\n",
      "37\n",
      "\n",
      "272.48068669527896\n",
      "72.92811065470124\n",
      "233\n"
     ]
    }
   ],
   "source": [
    "print(modelly.number_of_likes.mean())\n",
    "print(modelly.number_of_likes.std())\n",
    "print(len(modelly))\n",
    "print()\n",
    "print(not_modelly.number_of_likes.mean())\n",
    "print(not_modelly.number_of_likes.std())\n",
    "print(len(not_modelly))"
   ]
  },
  {
   "cell_type": "code",
   "execution_count": 507,
   "metadata": {},
   "outputs": [
    {
     "name": "stdout",
     "output_type": "stream",
     "text": [
      "291.5\n",
      "398.0\n",
      "267.0\n",
      "26\n",
      "4\n",
      "7\n"
     ]
    }
   ],
   "source": [
    "print(modelly[modelly['bikini']==True].number_of_likes.mean())\n",
    "print(modelly[modelly['apparel']==True].number_of_likes.mean())\n",
    "print(modelly[modelly['biki+apparel']==True].number_of_likes.mean())\n",
    "print(len(modelly[modelly['bikini']==True]))\n",
    "print(len(modelly[modelly['apparel']==True]))\n",
    "print(len(modelly[modelly['biki+apparel']==True]))\n"
   ]
  },
  {
   "cell_type": "code",
   "execution_count": 513,
   "metadata": {},
   "outputs": [
    {
     "name": "stdout",
     "output_type": "stream",
     "text": [
      "299.5\n",
      "67.02943722384558\n",
      "26\n"
     ]
    }
   ],
   "source": [
    "print(not_modelly[not_modelly['bikini']==True].number_of_likes.mean())\n",
    "print(not_modelly[not_modelly['bikini']==True].number_of_likes.std())\n",
    "print(len(modelly[modelly['bikini']==True]))\n"
   ]
  },
  {
   "cell_type": "code",
   "execution_count": 516,
   "metadata": {},
   "outputs": [
    {
     "data": {
      "text/plain": [
       "269.9485294117647"
      ]
     },
     "execution_count": 516,
     "metadata": {},
     "output_type": "execute_result"
    }
   ],
   "source": [
    "combined2[combined2['apparel']==True].number_of_likes.mean()"
   ]
  },
  {
   "cell_type": "markdown",
   "metadata": {},
   "source": [
    "# modelly pictures perform better than the general population, however not modelly bikini pics slightly outperforn modelly ones (real girls win!)\n",
    "1. moddely apparel shots outperform non modelly apparel shots, but limited data\n",
    "2. change for experiment here "
   ]
  },
  {
   "cell_type": "code",
   "execution_count": 528,
   "metadata": {
    "scrolled": true
   },
   "outputs": [
    {
     "name": "stdout",
     "output_type": "stream",
     "text": [
      "In General\n",
      "283.9605263157895\n",
      "278.3658536585366\n",
      "\n",
      "Bikinis\n",
      "297.1470588235294\n",
      "287.85185185185185\n",
      "\n",
      "Apparel\n",
      "280.3170731707317\n",
      "271.3965517241379\n",
      "\n",
      "Modelly\n",
      "298.2631578947368\n",
      "298.5\n",
      "18\n"
     ]
    }
   ],
   "source": [
    "print('In General')\n",
    "print(combined2[combined2['faces_visible']==True].number_of_likes.mean())\n",
    "print(combined2[(combined2['faces_visible']==False)&(combined2['num_people']>0)].number_of_likes.mean())\n",
    "print()\n",
    "print('Bikinis')\n",
    "print(bikinis[bikinis['faces_visible']==True].number_of_likes.mean())\n",
    "print(bikinis[(bikinis['faces_visible']==False)&(bikinis['num_people']>0)].number_of_likes.mean())\n",
    "print()\n",
    "print('Apparel')\n",
    "print(apparel[apparel['faces_visible']==True].number_of_likes.mean())\n",
    "print(apparel[(apparel['faces_visible']==False)&(apparel['num_people']>0) ].number_of_likes.mean())\n",
    "print()\n",
    "print('Modelly')\n",
    "print(modelly[modelly['faces_visible']==True].number_of_likes.mean())\n",
    "print(modelly[(modelly['faces_visible']==False)&(modelly['num_people']>0) ].number_of_likes.mean())\n",
    "print(len(modelly[(modelly['faces_visible']==False)&(modelly['num_people']>0) ]))"
   ]
  },
  {
   "cell_type": "markdown",
   "metadata": {},
   "source": [
    "###  Having faces visible is better across virtually all categories INCLUDING bikinis where its v hard to have visible faces and butt pictures"
   ]
  },
  {
   "cell_type": "code",
   "execution_count": 545,
   "metadata": {},
   "outputs": [
    {
     "name": "stdout",
     "output_type": "stream",
     "text": [
      "In General\n",
      "301.2352941176471\n",
      "269.9384615384615\n",
      "\n",
      "Bikinis\n",
      "307.5217391304348\n",
      "274.5609756097561\n",
      "282.1818181818182\n",
      "271.76666666666665\n",
      "\n",
      "Apparel\n",
      "305.36842105263156\n",
      "267.9\n",
      "\n",
      "Modelly\n",
      "303.4\n",
      "10\n",
      "296.51851851851853\n"
     ]
    }
   ],
   "source": [
    "print('In General')\n",
    "\n",
    "print(combined2[(combined2['in_nature']==True )&(combined2['num_people']>0)].number_of_likes.mean())\n",
    "print(combined2[(combined2['in_nature']==False)&(combined2['num_people']>0)].number_of_likes.mean())\n",
    "print()\n",
    "print('Bikinis')\n",
    "print(bikinis[(bikinis['in_nature']==True)&(bikinis['num_people']>0)].number_of_likes.mean())\n",
    "print(bikinis[(bikinis['in_nature']==False)&(bikinis['num_people']>0)].number_of_likes.mean())\n",
    "print(bikinis[(bikinis['in_nature']==False)&(bikinis['num_people']>0)&(bikinis['in_shop']==True)].number_of_likes.mean())\n",
    "print(bikinis[(bikinis['in_nature']==False)&(bikinis['num_people']>0)&(bikinis['in_shop']==False)].number_of_likes.mean())\n",
    "\n",
    "print()\n",
    "print('Apparel')\n",
    "print(apparel[(apparel['in_nature']==True)&(apparel['num_people']>0) ].number_of_likes.mean())\n",
    "print(apparel[(apparel['in_nature']==False)&(apparel['num_people']>0) ].number_of_likes.mean())\n",
    "print()\n",
    "print('Modelly')\n",
    "print(modelly[(modelly['in_nature']==True)&(modelly['num_people']>0)].number_of_likes.mean())\n",
    "print(len(modelly[(modelly['in_nature']==True)&(modelly['num_people']>0)]))\n",
    "print(modelly[(modelly['in_nature']==False)&(modelly['num_people']>0) ].number_of_likes.mean())\n"
   ]
  },
  {
   "cell_type": "code",
   "execution_count": 574,
   "metadata": {
    "collapsed": true
   },
   "outputs": [],
   "source": [
    "biki_in_nat_w_ppl = bikinis[(bikinis['in_nature']==True )&(bikinis['num_people']>0)].number_of_likes\n",
    "biki_in_shop_w_ppl = bikinis[(bikinis['in_nature']==False )&(bikinis['num_people']>0)&(bikinis['in_shop']==True)].number_of_likes\n",
    "biki_no_nat_or_shop_w_ppl = bikinis[(bikinis['in_nature']==False )&(bikinis['num_people']>0)&(bikinis['in_shop']==False)].number_of_likes"
   ]
  },
  {
   "cell_type": "code",
   "execution_count": 576,
   "metadata": {},
   "outputs": [
    {
     "data": {
      "image/png": "[encoded data removed]",
      "text/plain": [
       "<matplotlib.figure.Figure at 0x116bf5ef0>"
      ]
     },
     "metadata": {},
     "output_type": "display_data"
    }
   ],
   "source": [
    "_=plt.boxplot([biki_in_nat_w_ppl, biki_no_nat_or_shop_w_ppl, biki_in_shop_w_ppl])"
   ]
  },
  {
   "cell_type": "code",
   "execution_count": 572,
   "metadata": {
    "collapsed": true
   },
   "outputs": [],
   "source": [
    "in_nat_w_ppl = list(combined2[(combined2['in_nature']==True )&(combined2['num_people']>0)].number_of_likes)\n",
    "no_nat_w_ppl = combined2[(combined2['in_nature']==False )&(combined2['num_people']>0)].number_of_likes"
   ]
  },
  {
   "cell_type": "code",
   "execution_count": 573,
   "metadata": {},
   "outputs": [
    {
     "data": {
      "image/png": "[encoded data removed]",
      "text/plain": [
       "<matplotlib.figure.Figure at 0x116ae19b0>"
      ]
     },
     "metadata": {},
     "output_type": "display_data"
    }
   ],
   "source": [
    "_=plt.boxplot([in_nat_w_ppl, no_nat_w_ppl])"
   ]
  },
  {
   "cell_type": "code",
   "execution_count": 571,
   "metadata": {},
   "outputs": [
    {
     "data": {
      "text/html": [
       "<div>\n",
       "<style scoped>\n",
       "    .dataframe tbody tr th:only-of-type {\n",
       "        vertical-align: middle;\n",
       "    }\n",
       "\n",
       "    .dataframe tbody tr th {\n",
       "        vertical-align: top;\n",
       "    }\n",
       "\n",
       "    .dataframe thead th {\n",
       "        text-align: right;\n",
       "    }\n",
       "</style>\n",
       "<table border=\"1\" class=\"dataframe\">\n",
       "  <thead>\n",
       "    <tr style=\"text-align: right;\">\n",
       "      <th></th>\n",
       "      <th>DOW_0</th>\n",
       "      <th>DOW_1</th>\n",
       "      <th>DOW_2</th>\n",
       "      <th>DOW_3</th>\n",
       "      <th>DOW_4</th>\n",
       "      <th>DOW_5</th>\n",
       "      <th>DOW_6</th>\n",
       "      <th>hour</th>\n",
       "      <th>month</th>\n",
       "      <th>num_people_tagged</th>\n",
       "      <th>...</th>\n",
       "      <th>pro\\model</th>\n",
       "      <th>in_nature</th>\n",
       "      <th>surf</th>\n",
       "      <th>male</th>\n",
       "      <th>female</th>\n",
       "      <th>mixed_gender</th>\n",
       "      <th>bikini</th>\n",
       "      <th>apparel</th>\n",
       "      <th>biki+apparel</th>\n",
       "      <th>no_product</th>\n",
       "    </tr>\n",
       "    <tr>\n",
       "      <th>url</th>\n",
       "      <th></th>\n",
       "      <th></th>\n",
       "      <th></th>\n",
       "      <th></th>\n",
       "      <th></th>\n",
       "      <th></th>\n",
       "      <th></th>\n",
       "      <th></th>\n",
       "      <th></th>\n",
       "      <th></th>\n",
       "      <th></th>\n",
       "      <th></th>\n",
       "      <th></th>\n",
       "      <th></th>\n",
       "      <th></th>\n",
       "      <th></th>\n",
       "      <th></th>\n",
       "      <th></th>\n",
       "      <th></th>\n",
       "      <th></th>\n",
       "      <th></th>\n",
       "    </tr>\n",
       "  </thead>\n",
       "  <tbody>\n",
       "    <tr>\n",
       "      <th>http://www.instagram.com/p/BeN1t2onLY4/?taken</th>\n",
       "      <td>0</td>\n",
       "      <td>0</td>\n",
       "      <td>0</td>\n",
       "      <td>0</td>\n",
       "      <td>0</td>\n",
       "      <td>0</td>\n",
       "      <td>1</td>\n",
       "      <td>15</td>\n",
       "      <td>1</td>\n",
       "      <td>5</td>\n",
       "      <td>...</td>\n",
       "      <td>0</td>\n",
       "      <td>1</td>\n",
       "      <td>1</td>\n",
       "      <td>True</td>\n",
       "      <td>False</td>\n",
       "      <td>False</td>\n",
       "      <td>False</td>\n",
       "      <td>True</td>\n",
       "      <td>False</td>\n",
       "      <td>False</td>\n",
       "    </tr>\n",
       "    <tr>\n",
       "      <th>http://www.instagram.com/p/BeBk2rdnTo_/?taken</th>\n",
       "      <td>0</td>\n",
       "      <td>1</td>\n",
       "      <td>0</td>\n",
       "      <td>0</td>\n",
       "      <td>0</td>\n",
       "      <td>0</td>\n",
       "      <td>0</td>\n",
       "      <td>20</td>\n",
       "      <td>1</td>\n",
       "      <td>4</td>\n",
       "      <td>...</td>\n",
       "      <td>0</td>\n",
       "      <td>1</td>\n",
       "      <td>0</td>\n",
       "      <td>False</td>\n",
       "      <td>True</td>\n",
       "      <td>False</td>\n",
       "      <td>True</td>\n",
       "      <td>False</td>\n",
       "      <td>False</td>\n",
       "      <td>False</td>\n",
       "    </tr>\n",
       "    <tr>\n",
       "      <th>http://www.instagram.com/p/Bc7ngZ3n1eM/?taken</th>\n",
       "      <td>0</td>\n",
       "      <td>0</td>\n",
       "      <td>1</td>\n",
       "      <td>0</td>\n",
       "      <td>0</td>\n",
       "      <td>0</td>\n",
       "      <td>0</td>\n",
       "      <td>16</td>\n",
       "      <td>12</td>\n",
       "      <td>1</td>\n",
       "      <td>...</td>\n",
       "      <td>0</td>\n",
       "      <td>1</td>\n",
       "      <td>1</td>\n",
       "      <td>True</td>\n",
       "      <td>False</td>\n",
       "      <td>False</td>\n",
       "      <td>False</td>\n",
       "      <td>True</td>\n",
       "      <td>False</td>\n",
       "      <td>False</td>\n",
       "    </tr>\n",
       "    <tr>\n",
       "      <th>http://www.instagram.com/p/BckSPMDlWGN/?taken</th>\n",
       "      <td>1</td>\n",
       "      <td>0</td>\n",
       "      <td>0</td>\n",
       "      <td>0</td>\n",
       "      <td>0</td>\n",
       "      <td>0</td>\n",
       "      <td>0</td>\n",
       "      <td>15</td>\n",
       "      <td>12</td>\n",
       "      <td>6</td>\n",
       "      <td>...</td>\n",
       "      <td>0</td>\n",
       "      <td>1</td>\n",
       "      <td>1</td>\n",
       "      <td>True</td>\n",
       "      <td>False</td>\n",
       "      <td>False</td>\n",
       "      <td>False</td>\n",
       "      <td>False</td>\n",
       "      <td>False</td>\n",
       "      <td>True</td>\n",
       "    </tr>\n",
       "    <tr>\n",
       "      <th>http://www.instagram.com/p/Bbz55LuFRjZ/?taken</th>\n",
       "      <td>0</td>\n",
       "      <td>0</td>\n",
       "      <td>1</td>\n",
       "      <td>0</td>\n",
       "      <td>0</td>\n",
       "      <td>0</td>\n",
       "      <td>0</td>\n",
       "      <td>20</td>\n",
       "      <td>11</td>\n",
       "      <td>6</td>\n",
       "      <td>...</td>\n",
       "      <td>1</td>\n",
       "      <td>1</td>\n",
       "      <td>0</td>\n",
       "      <td>False</td>\n",
       "      <td>True</td>\n",
       "      <td>False</td>\n",
       "      <td>True</td>\n",
       "      <td>False</td>\n",
       "      <td>False</td>\n",
       "      <td>False</td>\n",
       "    </tr>\n",
       "    <tr>\n",
       "      <th>http://www.instagram.com/p/BZyof0rFuzY/?taken</th>\n",
       "      <td>0</td>\n",
       "      <td>1</td>\n",
       "      <td>0</td>\n",
       "      <td>0</td>\n",
       "      <td>0</td>\n",
       "      <td>0</td>\n",
       "      <td>0</td>\n",
       "      <td>15</td>\n",
       "      <td>10</td>\n",
       "      <td>2</td>\n",
       "      <td>...</td>\n",
       "      <td>0</td>\n",
       "      <td>1</td>\n",
       "      <td>0</td>\n",
       "      <td>False</td>\n",
       "      <td>True</td>\n",
       "      <td>False</td>\n",
       "      <td>True</td>\n",
       "      <td>False</td>\n",
       "      <td>False</td>\n",
       "      <td>False</td>\n",
       "    </tr>\n",
       "    <tr>\n",
       "      <th>http://www.instagram.com/p/BZpKFJNl7x8/?taken</th>\n",
       "      <td>0</td>\n",
       "      <td>0</td>\n",
       "      <td>0</td>\n",
       "      <td>0</td>\n",
       "      <td>1</td>\n",
       "      <td>0</td>\n",
       "      <td>0</td>\n",
       "      <td>23</td>\n",
       "      <td>9</td>\n",
       "      <td>3</td>\n",
       "      <td>...</td>\n",
       "      <td>1</td>\n",
       "      <td>1</td>\n",
       "      <td>0</td>\n",
       "      <td>False</td>\n",
       "      <td>True</td>\n",
       "      <td>False</td>\n",
       "      <td>True</td>\n",
       "      <td>False</td>\n",
       "      <td>False</td>\n",
       "      <td>False</td>\n",
       "    </tr>\n",
       "    <tr>\n",
       "      <th>http://www.instagram.com/p/BZblCUzFKhc/?taken</th>\n",
       "      <td>0</td>\n",
       "      <td>0</td>\n",
       "      <td>0</td>\n",
       "      <td>0</td>\n",
       "      <td>0</td>\n",
       "      <td>0</td>\n",
       "      <td>1</td>\n",
       "      <td>16</td>\n",
       "      <td>9</td>\n",
       "      <td>6</td>\n",
       "      <td>...</td>\n",
       "      <td>0</td>\n",
       "      <td>1</td>\n",
       "      <td>0</td>\n",
       "      <td>False</td>\n",
       "      <td>True</td>\n",
       "      <td>False</td>\n",
       "      <td>False</td>\n",
       "      <td>False</td>\n",
       "      <td>True</td>\n",
       "      <td>False</td>\n",
       "    </tr>\n",
       "    <tr>\n",
       "      <th>http://www.instagram.com/p/BZEeBuLFkb_/?taken</th>\n",
       "      <td>0</td>\n",
       "      <td>0</td>\n",
       "      <td>0</td>\n",
       "      <td>0</td>\n",
       "      <td>1</td>\n",
       "      <td>0</td>\n",
       "      <td>0</td>\n",
       "      <td>17</td>\n",
       "      <td>9</td>\n",
       "      <td>3</td>\n",
       "      <td>...</td>\n",
       "      <td>0</td>\n",
       "      <td>1</td>\n",
       "      <td>0</td>\n",
       "      <td>False</td>\n",
       "      <td>True</td>\n",
       "      <td>False</td>\n",
       "      <td>False</td>\n",
       "      <td>True</td>\n",
       "      <td>False</td>\n",
       "      <td>False</td>\n",
       "    </tr>\n",
       "    <tr>\n",
       "      <th>http://www.instagram.com/p/BYbaPXzFhF9/?taken</th>\n",
       "      <td>0</td>\n",
       "      <td>0</td>\n",
       "      <td>1</td>\n",
       "      <td>0</td>\n",
       "      <td>0</td>\n",
       "      <td>0</td>\n",
       "      <td>0</td>\n",
       "      <td>18</td>\n",
       "      <td>8</td>\n",
       "      <td>2</td>\n",
       "      <td>...</td>\n",
       "      <td>1</td>\n",
       "      <td>1</td>\n",
       "      <td>0</td>\n",
       "      <td>False</td>\n",
       "      <td>True</td>\n",
       "      <td>False</td>\n",
       "      <td>False</td>\n",
       "      <td>False</td>\n",
       "      <td>True</td>\n",
       "      <td>False</td>\n",
       "    </tr>\n",
       "    <tr>\n",
       "      <th>http://www.instagram.com/p/BYD3mwmlFB1/?taken</th>\n",
       "      <td>1</td>\n",
       "      <td>0</td>\n",
       "      <td>0</td>\n",
       "      <td>0</td>\n",
       "      <td>0</td>\n",
       "      <td>0</td>\n",
       "      <td>0</td>\n",
       "      <td>15</td>\n",
       "      <td>8</td>\n",
       "      <td>2</td>\n",
       "      <td>...</td>\n",
       "      <td>0</td>\n",
       "      <td>1</td>\n",
       "      <td>0</td>\n",
       "      <td>False</td>\n",
       "      <td>True</td>\n",
       "      <td>False</td>\n",
       "      <td>True</td>\n",
       "      <td>False</td>\n",
       "      <td>False</td>\n",
       "      <td>False</td>\n",
       "    </tr>\n",
       "    <tr>\n",
       "      <th>http://www.instagram.com/p/BXsigjqllwD/?taken</th>\n",
       "      <td>0</td>\n",
       "      <td>0</td>\n",
       "      <td>0</td>\n",
       "      <td>0</td>\n",
       "      <td>0</td>\n",
       "      <td>1</td>\n",
       "      <td>0</td>\n",
       "      <td>13</td>\n",
       "      <td>8</td>\n",
       "      <td>4</td>\n",
       "      <td>...</td>\n",
       "      <td>0</td>\n",
       "      <td>1</td>\n",
       "      <td>0</td>\n",
       "      <td>False</td>\n",
       "      <td>True</td>\n",
       "      <td>False</td>\n",
       "      <td>True</td>\n",
       "      <td>False</td>\n",
       "      <td>False</td>\n",
       "      <td>False</td>\n",
       "    </tr>\n",
       "    <tr>\n",
       "      <th>http://www.instagram.com/p/BXUOM05Ftwu/?taken</th>\n",
       "      <td>0</td>\n",
       "      <td>0</td>\n",
       "      <td>0</td>\n",
       "      <td>1</td>\n",
       "      <td>0</td>\n",
       "      <td>0</td>\n",
       "      <td>0</td>\n",
       "      <td>3</td>\n",
       "      <td>8</td>\n",
       "      <td>1</td>\n",
       "      <td>...</td>\n",
       "      <td>0</td>\n",
       "      <td>1</td>\n",
       "      <td>1</td>\n",
       "      <td>False</td>\n",
       "      <td>True</td>\n",
       "      <td>False</td>\n",
       "      <td>True</td>\n",
       "      <td>False</td>\n",
       "      <td>False</td>\n",
       "      <td>False</td>\n",
       "    </tr>\n",
       "    <tr>\n",
       "      <th>http://www.instagram.com/p/BXQfHABlLbh/?taken</th>\n",
       "      <td>0</td>\n",
       "      <td>1</td>\n",
       "      <td>0</td>\n",
       "      <td>0</td>\n",
       "      <td>0</td>\n",
       "      <td>0</td>\n",
       "      <td>0</td>\n",
       "      <td>16</td>\n",
       "      <td>8</td>\n",
       "      <td>2</td>\n",
       "      <td>...</td>\n",
       "      <td>0</td>\n",
       "      <td>1</td>\n",
       "      <td>1</td>\n",
       "      <td>True</td>\n",
       "      <td>False</td>\n",
       "      <td>False</td>\n",
       "      <td>False</td>\n",
       "      <td>False</td>\n",
       "      <td>False</td>\n",
       "      <td>True</td>\n",
       "    </tr>\n",
       "    <tr>\n",
       "      <th>http://www.instagram.com/p/BXLVLXglB2e/?taken</th>\n",
       "      <td>0</td>\n",
       "      <td>0</td>\n",
       "      <td>0</td>\n",
       "      <td>0</td>\n",
       "      <td>0</td>\n",
       "      <td>0</td>\n",
       "      <td>1</td>\n",
       "      <td>16</td>\n",
       "      <td>7</td>\n",
       "      <td>1</td>\n",
       "      <td>...</td>\n",
       "      <td>0</td>\n",
       "      <td>1</td>\n",
       "      <td>0</td>\n",
       "      <td>False</td>\n",
       "      <td>True</td>\n",
       "      <td>False</td>\n",
       "      <td>True</td>\n",
       "      <td>False</td>\n",
       "      <td>False</td>\n",
       "      <td>False</td>\n",
       "    </tr>\n",
       "    <tr>\n",
       "      <th>http://www.instagram.com/p/BW_eLS1leTB/?taken</th>\n",
       "      <td>0</td>\n",
       "      <td>0</td>\n",
       "      <td>1</td>\n",
       "      <td>0</td>\n",
       "      <td>0</td>\n",
       "      <td>0</td>\n",
       "      <td>0</td>\n",
       "      <td>1</td>\n",
       "      <td>7</td>\n",
       "      <td>4</td>\n",
       "      <td>...</td>\n",
       "      <td>0</td>\n",
       "      <td>1</td>\n",
       "      <td>0</td>\n",
       "      <td>False</td>\n",
       "      <td>True</td>\n",
       "      <td>False</td>\n",
       "      <td>True</td>\n",
       "      <td>False</td>\n",
       "      <td>False</td>\n",
       "      <td>False</td>\n",
       "    </tr>\n",
       "    <tr>\n",
       "      <th>http://www.instagram.com/p/BWtXXL5lqHi/?taken</th>\n",
       "      <td>0</td>\n",
       "      <td>0</td>\n",
       "      <td>1</td>\n",
       "      <td>0</td>\n",
       "      <td>0</td>\n",
       "      <td>0</td>\n",
       "      <td>0</td>\n",
       "      <td>0</td>\n",
       "      <td>7</td>\n",
       "      <td>6</td>\n",
       "      <td>...</td>\n",
       "      <td>0</td>\n",
       "      <td>1</td>\n",
       "      <td>1</td>\n",
       "      <td>False</td>\n",
       "      <td>False</td>\n",
       "      <td>True</td>\n",
       "      <td>True</td>\n",
       "      <td>False</td>\n",
       "      <td>False</td>\n",
       "      <td>False</td>\n",
       "    </tr>\n",
       "    <tr>\n",
       "      <th>http://www.instagram.com/p/BWrA9jzFBcl/?taken</th>\n",
       "      <td>0</td>\n",
       "      <td>1</td>\n",
       "      <td>0</td>\n",
       "      <td>0</td>\n",
       "      <td>0</td>\n",
       "      <td>0</td>\n",
       "      <td>0</td>\n",
       "      <td>3</td>\n",
       "      <td>7</td>\n",
       "      <td>6</td>\n",
       "      <td>...</td>\n",
       "      <td>0</td>\n",
       "      <td>1</td>\n",
       "      <td>0</td>\n",
       "      <td>True</td>\n",
       "      <td>False</td>\n",
       "      <td>False</td>\n",
       "      <td>False</td>\n",
       "      <td>True</td>\n",
       "      <td>False</td>\n",
       "      <td>False</td>\n",
       "    </tr>\n",
       "    <tr>\n",
       "      <th>http://www.instagram.com/p/BWoJqo3FeAo/?taken</th>\n",
       "      <td>1</td>\n",
       "      <td>0</td>\n",
       "      <td>0</td>\n",
       "      <td>0</td>\n",
       "      <td>0</td>\n",
       "      <td>0</td>\n",
       "      <td>0</td>\n",
       "      <td>0</td>\n",
       "      <td>7</td>\n",
       "      <td>2</td>\n",
       "      <td>...</td>\n",
       "      <td>0</td>\n",
       "      <td>1</td>\n",
       "      <td>0</td>\n",
       "      <td>False</td>\n",
       "      <td>True</td>\n",
       "      <td>False</td>\n",
       "      <td>False</td>\n",
       "      <td>False</td>\n",
       "      <td>True</td>\n",
       "      <td>False</td>\n",
       "    </tr>\n",
       "    <tr>\n",
       "      <th>http://www.instagram.com/p/BWYswDjlLS8/?taken</th>\n",
       "      <td>0</td>\n",
       "      <td>1</td>\n",
       "      <td>0</td>\n",
       "      <td>0</td>\n",
       "      <td>0</td>\n",
       "      <td>0</td>\n",
       "      <td>0</td>\n",
       "      <td>0</td>\n",
       "      <td>7</td>\n",
       "      <td>3</td>\n",
       "      <td>...</td>\n",
       "      <td>0</td>\n",
       "      <td>1</td>\n",
       "      <td>1</td>\n",
       "      <td>True</td>\n",
       "      <td>False</td>\n",
       "      <td>False</td>\n",
       "      <td>False</td>\n",
       "      <td>False</td>\n",
       "      <td>False</td>\n",
       "      <td>True</td>\n",
       "    </tr>\n",
       "    <tr>\n",
       "      <th>http://www.instagram.com/p/BWNlASxlV0l/?taken</th>\n",
       "      <td>0</td>\n",
       "      <td>0</td>\n",
       "      <td>0</td>\n",
       "      <td>1</td>\n",
       "      <td>0</td>\n",
       "      <td>0</td>\n",
       "      <td>0</td>\n",
       "      <td>16</td>\n",
       "      <td>7</td>\n",
       "      <td>3</td>\n",
       "      <td>...</td>\n",
       "      <td>0</td>\n",
       "      <td>1</td>\n",
       "      <td>0</td>\n",
       "      <td>False</td>\n",
       "      <td>True</td>\n",
       "      <td>False</td>\n",
       "      <td>True</td>\n",
       "      <td>False</td>\n",
       "      <td>False</td>\n",
       "      <td>False</td>\n",
       "    </tr>\n",
       "    <tr>\n",
       "      <th>http://www.instagram.com/p/BWDlh7nldUo/?taken</th>\n",
       "      <td>0</td>\n",
       "      <td>0</td>\n",
       "      <td>0</td>\n",
       "      <td>0</td>\n",
       "      <td>0</td>\n",
       "      <td>0</td>\n",
       "      <td>1</td>\n",
       "      <td>19</td>\n",
       "      <td>7</td>\n",
       "      <td>2</td>\n",
       "      <td>...</td>\n",
       "      <td>0</td>\n",
       "      <td>1</td>\n",
       "      <td>0</td>\n",
       "      <td>False</td>\n",
       "      <td>True</td>\n",
       "      <td>False</td>\n",
       "      <td>True</td>\n",
       "      <td>False</td>\n",
       "      <td>False</td>\n",
       "      <td>False</td>\n",
       "    </tr>\n",
       "    <tr>\n",
       "      <th>http://www.instagram.com/p/BVtPNZpljfi/?taken</th>\n",
       "      <td>0</td>\n",
       "      <td>0</td>\n",
       "      <td>0</td>\n",
       "      <td>0</td>\n",
       "      <td>0</td>\n",
       "      <td>1</td>\n",
       "      <td>0</td>\n",
       "      <td>3</td>\n",
       "      <td>6</td>\n",
       "      <td>3</td>\n",
       "      <td>...</td>\n",
       "      <td>0</td>\n",
       "      <td>1</td>\n",
       "      <td>0</td>\n",
       "      <td>True</td>\n",
       "      <td>False</td>\n",
       "      <td>False</td>\n",
       "      <td>False</td>\n",
       "      <td>True</td>\n",
       "      <td>False</td>\n",
       "      <td>False</td>\n",
       "    </tr>\n",
       "    <tr>\n",
       "      <th>http://www.instagram.com/p/BVn7zSUFfgv/?taken</th>\n",
       "      <td>0</td>\n",
       "      <td>0</td>\n",
       "      <td>0</td>\n",
       "      <td>1</td>\n",
       "      <td>0</td>\n",
       "      <td>0</td>\n",
       "      <td>0</td>\n",
       "      <td>1</td>\n",
       "      <td>6</td>\n",
       "      <td>4</td>\n",
       "      <td>...</td>\n",
       "      <td>0</td>\n",
       "      <td>1</td>\n",
       "      <td>0</td>\n",
       "      <td>False</td>\n",
       "      <td>True</td>\n",
       "      <td>False</td>\n",
       "      <td>False</td>\n",
       "      <td>True</td>\n",
       "      <td>False</td>\n",
       "      <td>False</td>\n",
       "    </tr>\n",
       "    <tr>\n",
       "      <th>http://www.instagram.com/p/BVhtH-kFKXP/?taken</th>\n",
       "      <td>1</td>\n",
       "      <td>0</td>\n",
       "      <td>0</td>\n",
       "      <td>0</td>\n",
       "      <td>0</td>\n",
       "      <td>0</td>\n",
       "      <td>0</td>\n",
       "      <td>15</td>\n",
       "      <td>6</td>\n",
       "      <td>4</td>\n",
       "      <td>...</td>\n",
       "      <td>0</td>\n",
       "      <td>1</td>\n",
       "      <td>0</td>\n",
       "      <td>False</td>\n",
       "      <td>True</td>\n",
       "      <td>False</td>\n",
       "      <td>False</td>\n",
       "      <td>True</td>\n",
       "      <td>False</td>\n",
       "      <td>False</td>\n",
       "    </tr>\n",
       "    <tr>\n",
       "      <th>http://www.instagram.com/p/BVTIkEOl1EK/?taken</th>\n",
       "      <td>0</td>\n",
       "      <td>1</td>\n",
       "      <td>0</td>\n",
       "      <td>0</td>\n",
       "      <td>0</td>\n",
       "      <td>0</td>\n",
       "      <td>0</td>\n",
       "      <td>23</td>\n",
       "      <td>6</td>\n",
       "      <td>3</td>\n",
       "      <td>...</td>\n",
       "      <td>0</td>\n",
       "      <td>1</td>\n",
       "      <td>1</td>\n",
       "      <td>False</td>\n",
       "      <td>True</td>\n",
       "      <td>False</td>\n",
       "      <td>True</td>\n",
       "      <td>False</td>\n",
       "      <td>False</td>\n",
       "      <td>False</td>\n",
       "    </tr>\n",
       "    <tr>\n",
       "      <th>http://www.instagram.com/p/BVFsYQyltEz/?taken</th>\n",
       "      <td>0</td>\n",
       "      <td>0</td>\n",
       "      <td>0</td>\n",
       "      <td>1</td>\n",
       "      <td>0</td>\n",
       "      <td>0</td>\n",
       "      <td>0</td>\n",
       "      <td>18</td>\n",
       "      <td>6</td>\n",
       "      <td>3</td>\n",
       "      <td>...</td>\n",
       "      <td>0</td>\n",
       "      <td>1</td>\n",
       "      <td>0</td>\n",
       "      <td>True</td>\n",
       "      <td>False</td>\n",
       "      <td>False</td>\n",
       "      <td>False</td>\n",
       "      <td>True</td>\n",
       "      <td>False</td>\n",
       "      <td>False</td>\n",
       "    </tr>\n",
       "    <tr>\n",
       "      <th>http://www.instagram.com/p/BU7h8GVlDRq/?taken</th>\n",
       "      <td>0</td>\n",
       "      <td>0</td>\n",
       "      <td>0</td>\n",
       "      <td>0</td>\n",
       "      <td>0</td>\n",
       "      <td>0</td>\n",
       "      <td>1</td>\n",
       "      <td>19</td>\n",
       "      <td>6</td>\n",
       "      <td>1</td>\n",
       "      <td>...</td>\n",
       "      <td>0</td>\n",
       "      <td>1</td>\n",
       "      <td>1</td>\n",
       "      <td>True</td>\n",
       "      <td>False</td>\n",
       "      <td>False</td>\n",
       "      <td>False</td>\n",
       "      <td>False</td>\n",
       "      <td>False</td>\n",
       "      <td>True</td>\n",
       "    </tr>\n",
       "    <tr>\n",
       "      <th>http://www.instagram.com/p/BUyDn9wFTPn/?taken</th>\n",
       "      <td>0</td>\n",
       "      <td>0</td>\n",
       "      <td>0</td>\n",
       "      <td>1</td>\n",
       "      <td>0</td>\n",
       "      <td>0</td>\n",
       "      <td>0</td>\n",
       "      <td>3</td>\n",
       "      <td>6</td>\n",
       "      <td>5</td>\n",
       "      <td>...</td>\n",
       "      <td>0</td>\n",
       "      <td>1</td>\n",
       "      <td>1</td>\n",
       "      <td>False</td>\n",
       "      <td>True</td>\n",
       "      <td>False</td>\n",
       "      <td>True</td>\n",
       "      <td>False</td>\n",
       "      <td>False</td>\n",
       "      <td>False</td>\n",
       "    </tr>\n",
       "    <tr>\n",
       "      <th>http://www.instagram.com/p/BUqLt7xFsVZ/?taken</th>\n",
       "      <td>1</td>\n",
       "      <td>0</td>\n",
       "      <td>0</td>\n",
       "      <td>0</td>\n",
       "      <td>0</td>\n",
       "      <td>0</td>\n",
       "      <td>0</td>\n",
       "      <td>2</td>\n",
       "      <td>5</td>\n",
       "      <td>1</td>\n",
       "      <td>...</td>\n",
       "      <td>0</td>\n",
       "      <td>1</td>\n",
       "      <td>1</td>\n",
       "      <td>False</td>\n",
       "      <td>True</td>\n",
       "      <td>False</td>\n",
       "      <td>True</td>\n",
       "      <td>False</td>\n",
       "      <td>False</td>\n",
       "      <td>False</td>\n",
       "    </tr>\n",
       "    <tr>\n",
       "      <th>...</th>\n",
       "      <td>...</td>\n",
       "      <td>...</td>\n",
       "      <td>...</td>\n",
       "      <td>...</td>\n",
       "      <td>...</td>\n",
       "      <td>...</td>\n",
       "      <td>...</td>\n",
       "      <td>...</td>\n",
       "      <td>...</td>\n",
       "      <td>...</td>\n",
       "      <td>...</td>\n",
       "      <td>...</td>\n",
       "      <td>...</td>\n",
       "      <td>...</td>\n",
       "      <td>...</td>\n",
       "      <td>...</td>\n",
       "      <td>...</td>\n",
       "      <td>...</td>\n",
       "      <td>...</td>\n",
       "      <td>...</td>\n",
       "      <td>...</td>\n",
       "    </tr>\n",
       "    <tr>\n",
       "      <th>http://www.instagram.com/p/BTXPGocFNv_/?taken</th>\n",
       "      <td>0</td>\n",
       "      <td>0</td>\n",
       "      <td>1</td>\n",
       "      <td>0</td>\n",
       "      <td>0</td>\n",
       "      <td>0</td>\n",
       "      <td>0</td>\n",
       "      <td>21</td>\n",
       "      <td>4</td>\n",
       "      <td>6</td>\n",
       "      <td>...</td>\n",
       "      <td>0</td>\n",
       "      <td>1</td>\n",
       "      <td>0</td>\n",
       "      <td>False</td>\n",
       "      <td>True</td>\n",
       "      <td>False</td>\n",
       "      <td>True</td>\n",
       "      <td>False</td>\n",
       "      <td>False</td>\n",
       "      <td>False</td>\n",
       "    </tr>\n",
       "    <tr>\n",
       "      <th>http://www.instagram.com/p/BTXPGocFNv_/?taken</th>\n",
       "      <td>0</td>\n",
       "      <td>0</td>\n",
       "      <td>1</td>\n",
       "      <td>0</td>\n",
       "      <td>0</td>\n",
       "      <td>0</td>\n",
       "      <td>0</td>\n",
       "      <td>21</td>\n",
       "      <td>4</td>\n",
       "      <td>6</td>\n",
       "      <td>...</td>\n",
       "      <td>0</td>\n",
       "      <td>1</td>\n",
       "      <td>0</td>\n",
       "      <td>True</td>\n",
       "      <td>False</td>\n",
       "      <td>False</td>\n",
       "      <td>False</td>\n",
       "      <td>True</td>\n",
       "      <td>False</td>\n",
       "      <td>False</td>\n",
       "    </tr>\n",
       "    <tr>\n",
       "      <th>http://www.instagram.com/p/BTO4LBCFuTi/?taken</th>\n",
       "      <td>0</td>\n",
       "      <td>0</td>\n",
       "      <td>0</td>\n",
       "      <td>0</td>\n",
       "      <td>0</td>\n",
       "      <td>0</td>\n",
       "      <td>1</td>\n",
       "      <td>15</td>\n",
       "      <td>4</td>\n",
       "      <td>1</td>\n",
       "      <td>...</td>\n",
       "      <td>1</td>\n",
       "      <td>1</td>\n",
       "      <td>0</td>\n",
       "      <td>False</td>\n",
       "      <td>True</td>\n",
       "      <td>False</td>\n",
       "      <td>True</td>\n",
       "      <td>False</td>\n",
       "      <td>False</td>\n",
       "      <td>False</td>\n",
       "    </tr>\n",
       "    <tr>\n",
       "      <th>http://www.instagram.com/p/BTMfz_Tl88w/?taken</th>\n",
       "      <td>0</td>\n",
       "      <td>0</td>\n",
       "      <td>0</td>\n",
       "      <td>0</td>\n",
       "      <td>0</td>\n",
       "      <td>1</td>\n",
       "      <td>0</td>\n",
       "      <td>17</td>\n",
       "      <td>4</td>\n",
       "      <td>2</td>\n",
       "      <td>...</td>\n",
       "      <td>0</td>\n",
       "      <td>1</td>\n",
       "      <td>0</td>\n",
       "      <td>False</td>\n",
       "      <td>True</td>\n",
       "      <td>False</td>\n",
       "      <td>False</td>\n",
       "      <td>True</td>\n",
       "      <td>False</td>\n",
       "      <td>False</td>\n",
       "    </tr>\n",
       "    <tr>\n",
       "      <th>http://www.instagram.com/p/BTDMFMHlMRA/?taken</th>\n",
       "      <td>0</td>\n",
       "      <td>0</td>\n",
       "      <td>1</td>\n",
       "      <td>0</td>\n",
       "      <td>0</td>\n",
       "      <td>0</td>\n",
       "      <td>0</td>\n",
       "      <td>2</td>\n",
       "      <td>4</td>\n",
       "      <td>1</td>\n",
       "      <td>...</td>\n",
       "      <td>0</td>\n",
       "      <td>1</td>\n",
       "      <td>0</td>\n",
       "      <td>True</td>\n",
       "      <td>False</td>\n",
       "      <td>False</td>\n",
       "      <td>False</td>\n",
       "      <td>True</td>\n",
       "      <td>False</td>\n",
       "      <td>False</td>\n",
       "    </tr>\n",
       "    <tr>\n",
       "      <th>http://www.instagram.com/p/BTAkN6nlYuH/?taken</th>\n",
       "      <td>0</td>\n",
       "      <td>1</td>\n",
       "      <td>0</td>\n",
       "      <td>0</td>\n",
       "      <td>0</td>\n",
       "      <td>0</td>\n",
       "      <td>0</td>\n",
       "      <td>1</td>\n",
       "      <td>4</td>\n",
       "      <td>4</td>\n",
       "      <td>...</td>\n",
       "      <td>1</td>\n",
       "      <td>1</td>\n",
       "      <td>0</td>\n",
       "      <td>False</td>\n",
       "      <td>True</td>\n",
       "      <td>False</td>\n",
       "      <td>True</td>\n",
       "      <td>False</td>\n",
       "      <td>False</td>\n",
       "      <td>False</td>\n",
       "    </tr>\n",
       "    <tr>\n",
       "      <th>http://www.instagram.com/p/BS9GLvDlEjH/?taken</th>\n",
       "      <td>0</td>\n",
       "      <td>0</td>\n",
       "      <td>0</td>\n",
       "      <td>0</td>\n",
       "      <td>0</td>\n",
       "      <td>0</td>\n",
       "      <td>1</td>\n",
       "      <td>17</td>\n",
       "      <td>4</td>\n",
       "      <td>5</td>\n",
       "      <td>...</td>\n",
       "      <td>0</td>\n",
       "      <td>1</td>\n",
       "      <td>1</td>\n",
       "      <td>False</td>\n",
       "      <td>True</td>\n",
       "      <td>False</td>\n",
       "      <td>False</td>\n",
       "      <td>False</td>\n",
       "      <td>False</td>\n",
       "      <td>True</td>\n",
       "    </tr>\n",
       "    <tr>\n",
       "      <th>http://www.instagram.com/p/BS6Hw80l94x/?taken</th>\n",
       "      <td>0</td>\n",
       "      <td>0</td>\n",
       "      <td>0</td>\n",
       "      <td>0</td>\n",
       "      <td>0</td>\n",
       "      <td>1</td>\n",
       "      <td>0</td>\n",
       "      <td>13</td>\n",
       "      <td>4</td>\n",
       "      <td>2</td>\n",
       "      <td>...</td>\n",
       "      <td>0</td>\n",
       "      <td>1</td>\n",
       "      <td>0</td>\n",
       "      <td>False</td>\n",
       "      <td>True</td>\n",
       "      <td>False</td>\n",
       "      <td>False</td>\n",
       "      <td>True</td>\n",
       "      <td>False</td>\n",
       "      <td>False</td>\n",
       "    </tr>\n",
       "    <tr>\n",
       "      <th>http://www.instagram.com/p/BS04bT8lzVa/?taken</th>\n",
       "      <td>0</td>\n",
       "      <td>0</td>\n",
       "      <td>0</td>\n",
       "      <td>1</td>\n",
       "      <td>0</td>\n",
       "      <td>0</td>\n",
       "      <td>0</td>\n",
       "      <td>12</td>\n",
       "      <td>4</td>\n",
       "      <td>3</td>\n",
       "      <td>...</td>\n",
       "      <td>0</td>\n",
       "      <td>1</td>\n",
       "      <td>0</td>\n",
       "      <td>True</td>\n",
       "      <td>False</td>\n",
       "      <td>False</td>\n",
       "      <td>False</td>\n",
       "      <td>True</td>\n",
       "      <td>False</td>\n",
       "      <td>False</td>\n",
       "    </tr>\n",
       "    <tr>\n",
       "      <th>http://www.instagram.com/p/BSfG3RGlfDp/?taken</th>\n",
       "      <td>0</td>\n",
       "      <td>0</td>\n",
       "      <td>1</td>\n",
       "      <td>0</td>\n",
       "      <td>0</td>\n",
       "      <td>0</td>\n",
       "      <td>0</td>\n",
       "      <td>1</td>\n",
       "      <td>4</td>\n",
       "      <td>5</td>\n",
       "      <td>...</td>\n",
       "      <td>1</td>\n",
       "      <td>1</td>\n",
       "      <td>1</td>\n",
       "      <td>False</td>\n",
       "      <td>True</td>\n",
       "      <td>False</td>\n",
       "      <td>True</td>\n",
       "      <td>False</td>\n",
       "      <td>False</td>\n",
       "      <td>False</td>\n",
       "    </tr>\n",
       "    <tr>\n",
       "      <th>http://www.instagram.com/p/BSOU6LyFOix/?taken</th>\n",
       "      <td>0</td>\n",
       "      <td>0</td>\n",
       "      <td>1</td>\n",
       "      <td>0</td>\n",
       "      <td>0</td>\n",
       "      <td>0</td>\n",
       "      <td>0</td>\n",
       "      <td>13</td>\n",
       "      <td>3</td>\n",
       "      <td>3</td>\n",
       "      <td>...</td>\n",
       "      <td>0</td>\n",
       "      <td>1</td>\n",
       "      <td>0</td>\n",
       "      <td>False</td>\n",
       "      <td>True</td>\n",
       "      <td>False</td>\n",
       "      <td>True</td>\n",
       "      <td>False</td>\n",
       "      <td>False</td>\n",
       "      <td>False</td>\n",
       "    </tr>\n",
       "    <tr>\n",
       "      <th>http://www.instagram.com/p/BR1BnNFl_wP/?taken</th>\n",
       "      <td>0</td>\n",
       "      <td>0</td>\n",
       "      <td>0</td>\n",
       "      <td>0</td>\n",
       "      <td>0</td>\n",
       "      <td>0</td>\n",
       "      <td>1</td>\n",
       "      <td>17</td>\n",
       "      <td>3</td>\n",
       "      <td>2</td>\n",
       "      <td>...</td>\n",
       "      <td>0</td>\n",
       "      <td>1</td>\n",
       "      <td>0</td>\n",
       "      <td>False</td>\n",
       "      <td>True</td>\n",
       "      <td>False</td>\n",
       "      <td>True</td>\n",
       "      <td>False</td>\n",
       "      <td>False</td>\n",
       "      <td>False</td>\n",
       "    </tr>\n",
       "    <tr>\n",
       "      <th>http://www.instagram.com/p/BRuL_IeljK5/?taken</th>\n",
       "      <td>0</td>\n",
       "      <td>0</td>\n",
       "      <td>0</td>\n",
       "      <td>0</td>\n",
       "      <td>1</td>\n",
       "      <td>0</td>\n",
       "      <td>0</td>\n",
       "      <td>1</td>\n",
       "      <td>3</td>\n",
       "      <td>4</td>\n",
       "      <td>...</td>\n",
       "      <td>0</td>\n",
       "      <td>1</td>\n",
       "      <td>0</td>\n",
       "      <td>False</td>\n",
       "      <td>True</td>\n",
       "      <td>False</td>\n",
       "      <td>True</td>\n",
       "      <td>False</td>\n",
       "      <td>False</td>\n",
       "      <td>False</td>\n",
       "    </tr>\n",
       "    <tr>\n",
       "      <th>http://www.instagram.com/p/BRWJac_Fovt/?taken</th>\n",
       "      <td>0</td>\n",
       "      <td>1</td>\n",
       "      <td>0</td>\n",
       "      <td>0</td>\n",
       "      <td>0</td>\n",
       "      <td>0</td>\n",
       "      <td>0</td>\n",
       "      <td>17</td>\n",
       "      <td>3</td>\n",
       "      <td>3</td>\n",
       "      <td>...</td>\n",
       "      <td>0</td>\n",
       "      <td>1</td>\n",
       "      <td>0</td>\n",
       "      <td>False</td>\n",
       "      <td>True</td>\n",
       "      <td>False</td>\n",
       "      <td>True</td>\n",
       "      <td>False</td>\n",
       "      <td>False</td>\n",
       "      <td>False</td>\n",
       "    </tr>\n",
       "    <tr>\n",
       "      <th>http://www.instagram.com/p/BRFKmgwl5XS/?taken</th>\n",
       "      <td>0</td>\n",
       "      <td>0</td>\n",
       "      <td>1</td>\n",
       "      <td>0</td>\n",
       "      <td>0</td>\n",
       "      <td>0</td>\n",
       "      <td>0</td>\n",
       "      <td>3</td>\n",
       "      <td>3</td>\n",
       "      <td>5</td>\n",
       "      <td>...</td>\n",
       "      <td>0</td>\n",
       "      <td>1</td>\n",
       "      <td>0</td>\n",
       "      <td>False</td>\n",
       "      <td>True</td>\n",
       "      <td>False</td>\n",
       "      <td>True</td>\n",
       "      <td>False</td>\n",
       "      <td>False</td>\n",
       "      <td>False</td>\n",
       "    </tr>\n",
       "    <tr>\n",
       "      <th>http://www.instagram.com/p/BREK-EylYrl/?taken</th>\n",
       "      <td>0</td>\n",
       "      <td>1</td>\n",
       "      <td>0</td>\n",
       "      <td>0</td>\n",
       "      <td>0</td>\n",
       "      <td>0</td>\n",
       "      <td>0</td>\n",
       "      <td>18</td>\n",
       "      <td>2</td>\n",
       "      <td>3</td>\n",
       "      <td>...</td>\n",
       "      <td>0</td>\n",
       "      <td>1</td>\n",
       "      <td>0</td>\n",
       "      <td>True</td>\n",
       "      <td>False</td>\n",
       "      <td>False</td>\n",
       "      <td>False</td>\n",
       "      <td>False</td>\n",
       "      <td>False</td>\n",
       "      <td>True</td>\n",
       "    </tr>\n",
       "    <tr>\n",
       "      <th>http://www.instagram.com/p/BRBhItoluAT/?taken</th>\n",
       "      <td>1</td>\n",
       "      <td>0</td>\n",
       "      <td>0</td>\n",
       "      <td>0</td>\n",
       "      <td>0</td>\n",
       "      <td>0</td>\n",
       "      <td>0</td>\n",
       "      <td>17</td>\n",
       "      <td>2</td>\n",
       "      <td>1</td>\n",
       "      <td>...</td>\n",
       "      <td>0</td>\n",
       "      <td>1</td>\n",
       "      <td>0</td>\n",
       "      <td>False</td>\n",
       "      <td>True</td>\n",
       "      <td>False</td>\n",
       "      <td>True</td>\n",
       "      <td>False</td>\n",
       "      <td>False</td>\n",
       "      <td>False</td>\n",
       "    </tr>\n",
       "    <tr>\n",
       "      <th>http://www.instagram.com/p/BQ6n2UZllm5/?taken</th>\n",
       "      <td>0</td>\n",
       "      <td>0</td>\n",
       "      <td>0</td>\n",
       "      <td>0</td>\n",
       "      <td>0</td>\n",
       "      <td>1</td>\n",
       "      <td>0</td>\n",
       "      <td>1</td>\n",
       "      <td>2</td>\n",
       "      <td>3</td>\n",
       "      <td>...</td>\n",
       "      <td>0</td>\n",
       "      <td>1</td>\n",
       "      <td>1</td>\n",
       "      <td>False</td>\n",
       "      <td>True</td>\n",
       "      <td>False</td>\n",
       "      <td>True</td>\n",
       "      <td>False</td>\n",
       "      <td>False</td>\n",
       "      <td>False</td>\n",
       "    </tr>\n",
       "    <tr>\n",
       "      <th>http://www.instagram.com/p/BQgu23IF8-F/?taken</th>\n",
       "      <td>0</td>\n",
       "      <td>0</td>\n",
       "      <td>1</td>\n",
       "      <td>0</td>\n",
       "      <td>0</td>\n",
       "      <td>0</td>\n",
       "      <td>0</td>\n",
       "      <td>0</td>\n",
       "      <td>2</td>\n",
       "      <td>3</td>\n",
       "      <td>...</td>\n",
       "      <td>0</td>\n",
       "      <td>1</td>\n",
       "      <td>0</td>\n",
       "      <td>False</td>\n",
       "      <td>True</td>\n",
       "      <td>False</td>\n",
       "      <td>True</td>\n",
       "      <td>False</td>\n",
       "      <td>False</td>\n",
       "      <td>False</td>\n",
       "    </tr>\n",
       "    <tr>\n",
       "      <th>http://www.instagram.com/p/BP1EOswABqp/?taken</th>\n",
       "      <td>0</td>\n",
       "      <td>0</td>\n",
       "      <td>0</td>\n",
       "      <td>0</td>\n",
       "      <td>0</td>\n",
       "      <td>0</td>\n",
       "      <td>1</td>\n",
       "      <td>1</td>\n",
       "      <td>1</td>\n",
       "      <td>3</td>\n",
       "      <td>...</td>\n",
       "      <td>1</td>\n",
       "      <td>1</td>\n",
       "      <td>0</td>\n",
       "      <td>False</td>\n",
       "      <td>True</td>\n",
       "      <td>False</td>\n",
       "      <td>True</td>\n",
       "      <td>False</td>\n",
       "      <td>False</td>\n",
       "      <td>False</td>\n",
       "    </tr>\n",
       "    <tr>\n",
       "      <th>http://www.instagram.com/p/BPvhpaJgrRL/?taken</th>\n",
       "      <td>0</td>\n",
       "      <td>0</td>\n",
       "      <td>0</td>\n",
       "      <td>1</td>\n",
       "      <td>0</td>\n",
       "      <td>0</td>\n",
       "      <td>0</td>\n",
       "      <td>21</td>\n",
       "      <td>1</td>\n",
       "      <td>6</td>\n",
       "      <td>...</td>\n",
       "      <td>0</td>\n",
       "      <td>1</td>\n",
       "      <td>1</td>\n",
       "      <td>False</td>\n",
       "      <td>True</td>\n",
       "      <td>False</td>\n",
       "      <td>True</td>\n",
       "      <td>False</td>\n",
       "      <td>False</td>\n",
       "      <td>False</td>\n",
       "    </tr>\n",
       "    <tr>\n",
       "      <th>http://www.instagram.com/p/BPtAsOjAEz5/?taken</th>\n",
       "      <td>0</td>\n",
       "      <td>0</td>\n",
       "      <td>1</td>\n",
       "      <td>0</td>\n",
       "      <td>0</td>\n",
       "      <td>0</td>\n",
       "      <td>0</td>\n",
       "      <td>21</td>\n",
       "      <td>1</td>\n",
       "      <td>4</td>\n",
       "      <td>...</td>\n",
       "      <td>0</td>\n",
       "      <td>1</td>\n",
       "      <td>0</td>\n",
       "      <td>False</td>\n",
       "      <td>True</td>\n",
       "      <td>False</td>\n",
       "      <td>True</td>\n",
       "      <td>False</td>\n",
       "      <td>False</td>\n",
       "      <td>False</td>\n",
       "    </tr>\n",
       "    <tr>\n",
       "      <th>http://www.instagram.com/p/BPqGcAbgG7T/?taken</th>\n",
       "      <td>0</td>\n",
       "      <td>1</td>\n",
       "      <td>0</td>\n",
       "      <td>0</td>\n",
       "      <td>0</td>\n",
       "      <td>0</td>\n",
       "      <td>0</td>\n",
       "      <td>18</td>\n",
       "      <td>1</td>\n",
       "      <td>5</td>\n",
       "      <td>...</td>\n",
       "      <td>0</td>\n",
       "      <td>1</td>\n",
       "      <td>1</td>\n",
       "      <td>False</td>\n",
       "      <td>True</td>\n",
       "      <td>False</td>\n",
       "      <td>True</td>\n",
       "      <td>False</td>\n",
       "      <td>False</td>\n",
       "      <td>False</td>\n",
       "    </tr>\n",
       "    <tr>\n",
       "      <th>http://www.instagram.com/p/BPlgjlFAuKa/?taken</th>\n",
       "      <td>1</td>\n",
       "      <td>0</td>\n",
       "      <td>0</td>\n",
       "      <td>0</td>\n",
       "      <td>0</td>\n",
       "      <td>0</td>\n",
       "      <td>0</td>\n",
       "      <td>0</td>\n",
       "      <td>1</td>\n",
       "      <td>3</td>\n",
       "      <td>...</td>\n",
       "      <td>1</td>\n",
       "      <td>1</td>\n",
       "      <td>0</td>\n",
       "      <td>False</td>\n",
       "      <td>True</td>\n",
       "      <td>False</td>\n",
       "      <td>True</td>\n",
       "      <td>False</td>\n",
       "      <td>False</td>\n",
       "      <td>False</td>\n",
       "    </tr>\n",
       "    <tr>\n",
       "      <th>http://www.instagram.com/p/BPi6__pgsKL/?taken</th>\n",
       "      <td>0</td>\n",
       "      <td>0</td>\n",
       "      <td>0</td>\n",
       "      <td>0</td>\n",
       "      <td>0</td>\n",
       "      <td>1</td>\n",
       "      <td>0</td>\n",
       "      <td>23</td>\n",
       "      <td>1</td>\n",
       "      <td>5</td>\n",
       "      <td>...</td>\n",
       "      <td>0</td>\n",
       "      <td>1</td>\n",
       "      <td>0</td>\n",
       "      <td>False</td>\n",
       "      <td>True</td>\n",
       "      <td>False</td>\n",
       "      <td>True</td>\n",
       "      <td>False</td>\n",
       "      <td>False</td>\n",
       "      <td>False</td>\n",
       "    </tr>\n",
       "    <tr>\n",
       "      <th>http://www.instagram.com/p/BPbiCG4A7ai/?taken</th>\n",
       "      <td>0</td>\n",
       "      <td>0</td>\n",
       "      <td>0</td>\n",
       "      <td>1</td>\n",
       "      <td>0</td>\n",
       "      <td>0</td>\n",
       "      <td>0</td>\n",
       "      <td>3</td>\n",
       "      <td>1</td>\n",
       "      <td>4</td>\n",
       "      <td>...</td>\n",
       "      <td>0</td>\n",
       "      <td>1</td>\n",
       "      <td>1</td>\n",
       "      <td>False</td>\n",
       "      <td>True</td>\n",
       "      <td>False</td>\n",
       "      <td>True</td>\n",
       "      <td>False</td>\n",
       "      <td>False</td>\n",
       "      <td>False</td>\n",
       "    </tr>\n",
       "    <tr>\n",
       "      <th>http://www.instagram.com/p/BPY_n3KgIU3/?taken</th>\n",
       "      <td>0</td>\n",
       "      <td>0</td>\n",
       "      <td>1</td>\n",
       "      <td>0</td>\n",
       "      <td>0</td>\n",
       "      <td>0</td>\n",
       "      <td>0</td>\n",
       "      <td>3</td>\n",
       "      <td>1</td>\n",
       "      <td>4</td>\n",
       "      <td>...</td>\n",
       "      <td>0</td>\n",
       "      <td>1</td>\n",
       "      <td>0</td>\n",
       "      <td>False</td>\n",
       "      <td>True</td>\n",
       "      <td>False</td>\n",
       "      <td>True</td>\n",
       "      <td>False</td>\n",
       "      <td>False</td>\n",
       "      <td>False</td>\n",
       "    </tr>\n",
       "    <tr>\n",
       "      <th>http://www.instagram.com/p/BPWZXDAgJer/?taken</th>\n",
       "      <td>0</td>\n",
       "      <td>1</td>\n",
       "      <td>0</td>\n",
       "      <td>0</td>\n",
       "      <td>0</td>\n",
       "      <td>0</td>\n",
       "      <td>0</td>\n",
       "      <td>3</td>\n",
       "      <td>1</td>\n",
       "      <td>7</td>\n",
       "      <td>...</td>\n",
       "      <td>0</td>\n",
       "      <td>1</td>\n",
       "      <td>0</td>\n",
       "      <td>False</td>\n",
       "      <td>True</td>\n",
       "      <td>False</td>\n",
       "      <td>True</td>\n",
       "      <td>False</td>\n",
       "      <td>False</td>\n",
       "      <td>False</td>\n",
       "    </tr>\n",
       "    <tr>\n",
       "      <th>http://www.instagram.com/p/BPOrQXXADDk/?taken</th>\n",
       "      <td>0</td>\n",
       "      <td>0</td>\n",
       "      <td>0</td>\n",
       "      <td>0</td>\n",
       "      <td>0</td>\n",
       "      <td>1</td>\n",
       "      <td>0</td>\n",
       "      <td>3</td>\n",
       "      <td>1</td>\n",
       "      <td>3</td>\n",
       "      <td>...</td>\n",
       "      <td>0</td>\n",
       "      <td>1</td>\n",
       "      <td>0</td>\n",
       "      <td>False</td>\n",
       "      <td>True</td>\n",
       "      <td>False</td>\n",
       "      <td>True</td>\n",
       "      <td>False</td>\n",
       "      <td>False</td>\n",
       "      <td>False</td>\n",
       "    </tr>\n",
       "    <tr>\n",
       "      <th>http://www.instagram.com/p/BO43TrwAjP5/?taken</th>\n",
       "      <td>0</td>\n",
       "      <td>0</td>\n",
       "      <td>0</td>\n",
       "      <td>1</td>\n",
       "      <td>0</td>\n",
       "      <td>0</td>\n",
       "      <td>0</td>\n",
       "      <td>15</td>\n",
       "      <td>1</td>\n",
       "      <td>6</td>\n",
       "      <td>...</td>\n",
       "      <td>0</td>\n",
       "      <td>1</td>\n",
       "      <td>1</td>\n",
       "      <td>False</td>\n",
       "      <td>True</td>\n",
       "      <td>False</td>\n",
       "      <td>True</td>\n",
       "      <td>False</td>\n",
       "      <td>False</td>\n",
       "      <td>False</td>\n",
       "    </tr>\n",
       "  </tbody>\n",
       "</table>\n",
       "<p>68 rows × 32 columns</p>\n",
       "</div>"
      ],
      "text/plain": [
       "                                               DOW_0  DOW_1  DOW_2  DOW_3  \\\n",
       "url                                                                         \n",
       "http://www.instagram.com/p/BeN1t2onLY4/?taken      0      0      0      0   \n",
       "http://www.instagram.com/p/BeBk2rdnTo_/?taken      0      1      0      0   \n",
       "http://www.instagram.com/p/Bc7ngZ3n1eM/?taken      0      0      1      0   \n",
       "http://www.instagram.com/p/BckSPMDlWGN/?taken      1      0      0      0   \n",
       "http://www.instagram.com/p/Bbz55LuFRjZ/?taken      0      0      1      0   \n",
       "http://www.instagram.com/p/BZyof0rFuzY/?taken      0      1      0      0   \n",
       "http://www.instagram.com/p/BZpKFJNl7x8/?taken      0      0      0      0   \n",
       "http://www.instagram.com/p/BZblCUzFKhc/?taken      0      0      0      0   \n",
       "http://www.instagram.com/p/BZEeBuLFkb_/?taken      0      0      0      0   \n",
       "http://www.instagram.com/p/BYbaPXzFhF9/?taken      0      0      1      0   \n",
       "http://www.instagram.com/p/BYD3mwmlFB1/?taken      1      0      0      0   \n",
       "http://www.instagram.com/p/BXsigjqllwD/?taken      0      0      0      0   \n",
       "http://www.instagram.com/p/BXUOM05Ftwu/?taken      0      0      0      1   \n",
       "http://www.instagram.com/p/BXQfHABlLbh/?taken      0      1      0      0   \n",
       "http://www.instagram.com/p/BXLVLXglB2e/?taken      0      0      0      0   \n",
       "http://www.instagram.com/p/BW_eLS1leTB/?taken      0      0      1      0   \n",
       "http://www.instagram.com/p/BWtXXL5lqHi/?taken      0      0      1      0   \n",
       "http://www.instagram.com/p/BWrA9jzFBcl/?taken      0      1      0      0   \n",
       "http://www.instagram.com/p/BWoJqo3FeAo/?taken      1      0      0      0   \n",
       "http://www.instagram.com/p/BWYswDjlLS8/?taken      0      1      0      0   \n",
       "http://www.instagram.com/p/BWNlASxlV0l/?taken      0      0      0      1   \n",
       "http://www.instagram.com/p/BWDlh7nldUo/?taken      0      0      0      0   \n",
       "http://www.instagram.com/p/BVtPNZpljfi/?taken      0      0      0      0   \n",
       "http://www.instagram.com/p/BVn7zSUFfgv/?taken      0      0      0      1   \n",
       "http://www.instagram.com/p/BVhtH-kFKXP/?taken      1      0      0      0   \n",
       "http://www.instagram.com/p/BVTIkEOl1EK/?taken      0      1      0      0   \n",
       "http://www.instagram.com/p/BVFsYQyltEz/?taken      0      0      0      1   \n",
       "http://www.instagram.com/p/BU7h8GVlDRq/?taken      0      0      0      0   \n",
       "http://www.instagram.com/p/BUyDn9wFTPn/?taken      0      0      0      1   \n",
       "http://www.instagram.com/p/BUqLt7xFsVZ/?taken      1      0      0      0   \n",
       "...                                              ...    ...    ...    ...   \n",
       "http://www.instagram.com/p/BTXPGocFNv_/?taken      0      0      1      0   \n",
       "http://www.instagram.com/p/BTXPGocFNv_/?taken      0      0      1      0   \n",
       "http://www.instagram.com/p/BTO4LBCFuTi/?taken      0      0      0      0   \n",
       "http://www.instagram.com/p/BTMfz_Tl88w/?taken      0      0      0      0   \n",
       "http://www.instagram.com/p/BTDMFMHlMRA/?taken      0      0      1      0   \n",
       "http://www.instagram.com/p/BTAkN6nlYuH/?taken      0      1      0      0   \n",
       "http://www.instagram.com/p/BS9GLvDlEjH/?taken      0      0      0      0   \n",
       "http://www.instagram.com/p/BS6Hw80l94x/?taken      0      0      0      0   \n",
       "http://www.instagram.com/p/BS04bT8lzVa/?taken      0      0      0      1   \n",
       "http://www.instagram.com/p/BSfG3RGlfDp/?taken      0      0      1      0   \n",
       "http://www.instagram.com/p/BSOU6LyFOix/?taken      0      0      1      0   \n",
       "http://www.instagram.com/p/BR1BnNFl_wP/?taken      0      0      0      0   \n",
       "http://www.instagram.com/p/BRuL_IeljK5/?taken      0      0      0      0   \n",
       "http://www.instagram.com/p/BRWJac_Fovt/?taken      0      1      0      0   \n",
       "http://www.instagram.com/p/BRFKmgwl5XS/?taken      0      0      1      0   \n",
       "http://www.instagram.com/p/BREK-EylYrl/?taken      0      1      0      0   \n",
       "http://www.instagram.com/p/BRBhItoluAT/?taken      1      0      0      0   \n",
       "http://www.instagram.com/p/BQ6n2UZllm5/?taken      0      0      0      0   \n",
       "http://www.instagram.com/p/BQgu23IF8-F/?taken      0      0      1      0   \n",
       "http://www.instagram.com/p/BP1EOswABqp/?taken      0      0      0      0   \n",
       "http://www.instagram.com/p/BPvhpaJgrRL/?taken      0      0      0      1   \n",
       "http://www.instagram.com/p/BPtAsOjAEz5/?taken      0      0      1      0   \n",
       "http://www.instagram.com/p/BPqGcAbgG7T/?taken      0      1      0      0   \n",
       "http://www.instagram.com/p/BPlgjlFAuKa/?taken      1      0      0      0   \n",
       "http://www.instagram.com/p/BPi6__pgsKL/?taken      0      0      0      0   \n",
       "http://www.instagram.com/p/BPbiCG4A7ai/?taken      0      0      0      1   \n",
       "http://www.instagram.com/p/BPY_n3KgIU3/?taken      0      0      1      0   \n",
       "http://www.instagram.com/p/BPWZXDAgJer/?taken      0      1      0      0   \n",
       "http://www.instagram.com/p/BPOrQXXADDk/?taken      0      0      0      0   \n",
       "http://www.instagram.com/p/BO43TrwAjP5/?taken      0      0      0      1   \n",
       "\n",
       "                                               DOW_4  DOW_5  DOW_6  hour  \\\n",
       "url                                                                        \n",
       "http://www.instagram.com/p/BeN1t2onLY4/?taken      0      0      1    15   \n",
       "http://www.instagram.com/p/BeBk2rdnTo_/?taken      0      0      0    20   \n",
       "http://www.instagram.com/p/Bc7ngZ3n1eM/?taken      0      0      0    16   \n",
       "http://www.instagram.com/p/BckSPMDlWGN/?taken      0      0      0    15   \n",
       "http://www.instagram.com/p/Bbz55LuFRjZ/?taken      0      0      0    20   \n",
       "http://www.instagram.com/p/BZyof0rFuzY/?taken      0      0      0    15   \n",
       "http://www.instagram.com/p/BZpKFJNl7x8/?taken      1      0      0    23   \n",
       "http://www.instagram.com/p/BZblCUzFKhc/?taken      0      0      1    16   \n",
       "http://www.instagram.com/p/BZEeBuLFkb_/?taken      1      0      0    17   \n",
       "http://www.instagram.com/p/BYbaPXzFhF9/?taken      0      0      0    18   \n",
       "http://www.instagram.com/p/BYD3mwmlFB1/?taken      0      0      0    15   \n",
       "http://www.instagram.com/p/BXsigjqllwD/?taken      0      1      0    13   \n",
       "http://www.instagram.com/p/BXUOM05Ftwu/?taken      0      0      0     3   \n",
       "http://www.instagram.com/p/BXQfHABlLbh/?taken      0      0      0    16   \n",
       "http://www.instagram.com/p/BXLVLXglB2e/?taken      0      0      1    16   \n",
       "http://www.instagram.com/p/BW_eLS1leTB/?taken      0      0      0     1   \n",
       "http://www.instagram.com/p/BWtXXL5lqHi/?taken      0      0      0     0   \n",
       "http://www.instagram.com/p/BWrA9jzFBcl/?taken      0      0      0     3   \n",
       "http://www.instagram.com/p/BWoJqo3FeAo/?taken      0      0      0     0   \n",
       "http://www.instagram.com/p/BWYswDjlLS8/?taken      0      0      0     0   \n",
       "http://www.instagram.com/p/BWNlASxlV0l/?taken      0      0      0    16   \n",
       "http://www.instagram.com/p/BWDlh7nldUo/?taken      0      0      1    19   \n",
       "http://www.instagram.com/p/BVtPNZpljfi/?taken      0      1      0     3   \n",
       "http://www.instagram.com/p/BVn7zSUFfgv/?taken      0      0      0     1   \n",
       "http://www.instagram.com/p/BVhtH-kFKXP/?taken      0      0      0    15   \n",
       "http://www.instagram.com/p/BVTIkEOl1EK/?taken      0      0      0    23   \n",
       "http://www.instagram.com/p/BVFsYQyltEz/?taken      0      0      0    18   \n",
       "http://www.instagram.com/p/BU7h8GVlDRq/?taken      0      0      1    19   \n",
       "http://www.instagram.com/p/BUyDn9wFTPn/?taken      0      0      0     3   \n",
       "http://www.instagram.com/p/BUqLt7xFsVZ/?taken      0      0      0     2   \n",
       "...                                              ...    ...    ...   ...   \n",
       "http://www.instagram.com/p/BTXPGocFNv_/?taken      0      0      0    21   \n",
       "http://www.instagram.com/p/BTXPGocFNv_/?taken      0      0      0    21   \n",
       "http://www.instagram.com/p/BTO4LBCFuTi/?taken      0      0      1    15   \n",
       "http://www.instagram.com/p/BTMfz_Tl88w/?taken      0      1      0    17   \n",
       "http://www.instagram.com/p/BTDMFMHlMRA/?taken      0      0      0     2   \n",
       "http://www.instagram.com/p/BTAkN6nlYuH/?taken      0      0      0     1   \n",
       "http://www.instagram.com/p/BS9GLvDlEjH/?taken      0      0      1    17   \n",
       "http://www.instagram.com/p/BS6Hw80l94x/?taken      0      1      0    13   \n",
       "http://www.instagram.com/p/BS04bT8lzVa/?taken      0      0      0    12   \n",
       "http://www.instagram.com/p/BSfG3RGlfDp/?taken      0      0      0     1   \n",
       "http://www.instagram.com/p/BSOU6LyFOix/?taken      0      0      0    13   \n",
       "http://www.instagram.com/p/BR1BnNFl_wP/?taken      0      0      1    17   \n",
       "http://www.instagram.com/p/BRuL_IeljK5/?taken      1      0      0     1   \n",
       "http://www.instagram.com/p/BRWJac_Fovt/?taken      0      0      0    17   \n",
       "http://www.instagram.com/p/BRFKmgwl5XS/?taken      0      0      0     3   \n",
       "http://www.instagram.com/p/BREK-EylYrl/?taken      0      0      0    18   \n",
       "http://www.instagram.com/p/BRBhItoluAT/?taken      0      0      0    17   \n",
       "http://www.instagram.com/p/BQ6n2UZllm5/?taken      0      1      0     1   \n",
       "http://www.instagram.com/p/BQgu23IF8-F/?taken      0      0      0     0   \n",
       "http://www.instagram.com/p/BP1EOswABqp/?taken      0      0      1     1   \n",
       "http://www.instagram.com/p/BPvhpaJgrRL/?taken      0      0      0    21   \n",
       "http://www.instagram.com/p/BPtAsOjAEz5/?taken      0      0      0    21   \n",
       "http://www.instagram.com/p/BPqGcAbgG7T/?taken      0      0      0    18   \n",
       "http://www.instagram.com/p/BPlgjlFAuKa/?taken      0      0      0     0   \n",
       "http://www.instagram.com/p/BPi6__pgsKL/?taken      0      1      0    23   \n",
       "http://www.instagram.com/p/BPbiCG4A7ai/?taken      0      0      0     3   \n",
       "http://www.instagram.com/p/BPY_n3KgIU3/?taken      0      0      0     3   \n",
       "http://www.instagram.com/p/BPWZXDAgJer/?taken      0      0      0     3   \n",
       "http://www.instagram.com/p/BPOrQXXADDk/?taken      0      1      0     3   \n",
       "http://www.instagram.com/p/BO43TrwAjP5/?taken      0      0      0    15   \n",
       "\n",
       "                                               month  num_people_tagged  \\\n",
       "url                                                                       \n",
       "http://www.instagram.com/p/BeN1t2onLY4/?taken      1                  5   \n",
       "http://www.instagram.com/p/BeBk2rdnTo_/?taken      1                  4   \n",
       "http://www.instagram.com/p/Bc7ngZ3n1eM/?taken     12                  1   \n",
       "http://www.instagram.com/p/BckSPMDlWGN/?taken     12                  6   \n",
       "http://www.instagram.com/p/Bbz55LuFRjZ/?taken     11                  6   \n",
       "http://www.instagram.com/p/BZyof0rFuzY/?taken     10                  2   \n",
       "http://www.instagram.com/p/BZpKFJNl7x8/?taken      9                  3   \n",
       "http://www.instagram.com/p/BZblCUzFKhc/?taken      9                  6   \n",
       "http://www.instagram.com/p/BZEeBuLFkb_/?taken      9                  3   \n",
       "http://www.instagram.com/p/BYbaPXzFhF9/?taken      8                  2   \n",
       "http://www.instagram.com/p/BYD3mwmlFB1/?taken      8                  2   \n",
       "http://www.instagram.com/p/BXsigjqllwD/?taken      8                  4   \n",
       "http://www.instagram.com/p/BXUOM05Ftwu/?taken      8                  1   \n",
       "http://www.instagram.com/p/BXQfHABlLbh/?taken      8                  2   \n",
       "http://www.instagram.com/p/BXLVLXglB2e/?taken      7                  1   \n",
       "http://www.instagram.com/p/BW_eLS1leTB/?taken      7                  4   \n",
       "http://www.instagram.com/p/BWtXXL5lqHi/?taken      7                  6   \n",
       "http://www.instagram.com/p/BWrA9jzFBcl/?taken      7                  6   \n",
       "http://www.instagram.com/p/BWoJqo3FeAo/?taken      7                  2   \n",
       "http://www.instagram.com/p/BWYswDjlLS8/?taken      7                  3   \n",
       "http://www.instagram.com/p/BWNlASxlV0l/?taken      7                  3   \n",
       "http://www.instagram.com/p/BWDlh7nldUo/?taken      7                  2   \n",
       "http://www.instagram.com/p/BVtPNZpljfi/?taken      6                  3   \n",
       "http://www.instagram.com/p/BVn7zSUFfgv/?taken      6                  4   \n",
       "http://www.instagram.com/p/BVhtH-kFKXP/?taken      6                  4   \n",
       "http://www.instagram.com/p/BVTIkEOl1EK/?taken      6                  3   \n",
       "http://www.instagram.com/p/BVFsYQyltEz/?taken      6                  3   \n",
       "http://www.instagram.com/p/BU7h8GVlDRq/?taken      6                  1   \n",
       "http://www.instagram.com/p/BUyDn9wFTPn/?taken      6                  5   \n",
       "http://www.instagram.com/p/BUqLt7xFsVZ/?taken      5                  1   \n",
       "...                                              ...                ...   \n",
       "http://www.instagram.com/p/BTXPGocFNv_/?taken      4                  6   \n",
       "http://www.instagram.com/p/BTXPGocFNv_/?taken      4                  6   \n",
       "http://www.instagram.com/p/BTO4LBCFuTi/?taken      4                  1   \n",
       "http://www.instagram.com/p/BTMfz_Tl88w/?taken      4                  2   \n",
       "http://www.instagram.com/p/BTDMFMHlMRA/?taken      4                  1   \n",
       "http://www.instagram.com/p/BTAkN6nlYuH/?taken      4                  4   \n",
       "http://www.instagram.com/p/BS9GLvDlEjH/?taken      4                  5   \n",
       "http://www.instagram.com/p/BS6Hw80l94x/?taken      4                  2   \n",
       "http://www.instagram.com/p/BS04bT8lzVa/?taken      4                  3   \n",
       "http://www.instagram.com/p/BSfG3RGlfDp/?taken      4                  5   \n",
       "http://www.instagram.com/p/BSOU6LyFOix/?taken      3                  3   \n",
       "http://www.instagram.com/p/BR1BnNFl_wP/?taken      3                  2   \n",
       "http://www.instagram.com/p/BRuL_IeljK5/?taken      3                  4   \n",
       "http://www.instagram.com/p/BRWJac_Fovt/?taken      3                  3   \n",
       "http://www.instagram.com/p/BRFKmgwl5XS/?taken      3                  5   \n",
       "http://www.instagram.com/p/BREK-EylYrl/?taken      2                  3   \n",
       "http://www.instagram.com/p/BRBhItoluAT/?taken      2                  1   \n",
       "http://www.instagram.com/p/BQ6n2UZllm5/?taken      2                  3   \n",
       "http://www.instagram.com/p/BQgu23IF8-F/?taken      2                  3   \n",
       "http://www.instagram.com/p/BP1EOswABqp/?taken      1                  3   \n",
       "http://www.instagram.com/p/BPvhpaJgrRL/?taken      1                  6   \n",
       "http://www.instagram.com/p/BPtAsOjAEz5/?taken      1                  4   \n",
       "http://www.instagram.com/p/BPqGcAbgG7T/?taken      1                  5   \n",
       "http://www.instagram.com/p/BPlgjlFAuKa/?taken      1                  3   \n",
       "http://www.instagram.com/p/BPi6__pgsKL/?taken      1                  5   \n",
       "http://www.instagram.com/p/BPbiCG4A7ai/?taken      1                  4   \n",
       "http://www.instagram.com/p/BPY_n3KgIU3/?taken      1                  4   \n",
       "http://www.instagram.com/p/BPWZXDAgJer/?taken      1                  7   \n",
       "http://www.instagram.com/p/BPOrQXXADDk/?taken      1                  3   \n",
       "http://www.instagram.com/p/BO43TrwAjP5/?taken      1                  6   \n",
       "\n",
       "                                                  ...      pro\\model  \\\n",
       "url                                               ...                  \n",
       "http://www.instagram.com/p/BeN1t2onLY4/?taken     ...              0   \n",
       "http://www.instagram.com/p/BeBk2rdnTo_/?taken     ...              0   \n",
       "http://www.instagram.com/p/Bc7ngZ3n1eM/?taken     ...              0   \n",
       "http://www.instagram.com/p/BckSPMDlWGN/?taken     ...              0   \n",
       "http://www.instagram.com/p/Bbz55LuFRjZ/?taken     ...              1   \n",
       "http://www.instagram.com/p/BZyof0rFuzY/?taken     ...              0   \n",
       "http://www.instagram.com/p/BZpKFJNl7x8/?taken     ...              1   \n",
       "http://www.instagram.com/p/BZblCUzFKhc/?taken     ...              0   \n",
       "http://www.instagram.com/p/BZEeBuLFkb_/?taken     ...              0   \n",
       "http://www.instagram.com/p/BYbaPXzFhF9/?taken     ...              1   \n",
       "http://www.instagram.com/p/BYD3mwmlFB1/?taken     ...              0   \n",
       "http://www.instagram.com/p/BXsigjqllwD/?taken     ...              0   \n",
       "http://www.instagram.com/p/BXUOM05Ftwu/?taken     ...              0   \n",
       "http://www.instagram.com/p/BXQfHABlLbh/?taken     ...              0   \n",
       "http://www.instagram.com/p/BXLVLXglB2e/?taken     ...              0   \n",
       "http://www.instagram.com/p/BW_eLS1leTB/?taken     ...              0   \n",
       "http://www.instagram.com/p/BWtXXL5lqHi/?taken     ...              0   \n",
       "http://www.instagram.com/p/BWrA9jzFBcl/?taken     ...              0   \n",
       "http://www.instagram.com/p/BWoJqo3FeAo/?taken     ...              0   \n",
       "http://www.instagram.com/p/BWYswDjlLS8/?taken     ...              0   \n",
       "http://www.instagram.com/p/BWNlASxlV0l/?taken     ...              0   \n",
       "http://www.instagram.com/p/BWDlh7nldUo/?taken     ...              0   \n",
       "http://www.instagram.com/p/BVtPNZpljfi/?taken     ...              0   \n",
       "http://www.instagram.com/p/BVn7zSUFfgv/?taken     ...              0   \n",
       "http://www.instagram.com/p/BVhtH-kFKXP/?taken     ...              0   \n",
       "http://www.instagram.com/p/BVTIkEOl1EK/?taken     ...              0   \n",
       "http://www.instagram.com/p/BVFsYQyltEz/?taken     ...              0   \n",
       "http://www.instagram.com/p/BU7h8GVlDRq/?taken     ...              0   \n",
       "http://www.instagram.com/p/BUyDn9wFTPn/?taken     ...              0   \n",
       "http://www.instagram.com/p/BUqLt7xFsVZ/?taken     ...              0   \n",
       "...                                               ...            ...   \n",
       "http://www.instagram.com/p/BTXPGocFNv_/?taken     ...              0   \n",
       "http://www.instagram.com/p/BTXPGocFNv_/?taken     ...              0   \n",
       "http://www.instagram.com/p/BTO4LBCFuTi/?taken     ...              1   \n",
       "http://www.instagram.com/p/BTMfz_Tl88w/?taken     ...              0   \n",
       "http://www.instagram.com/p/BTDMFMHlMRA/?taken     ...              0   \n",
       "http://www.instagram.com/p/BTAkN6nlYuH/?taken     ...              1   \n",
       "http://www.instagram.com/p/BS9GLvDlEjH/?taken     ...              0   \n",
       "http://www.instagram.com/p/BS6Hw80l94x/?taken     ...              0   \n",
       "http://www.instagram.com/p/BS04bT8lzVa/?taken     ...              0   \n",
       "http://www.instagram.com/p/BSfG3RGlfDp/?taken     ...              1   \n",
       "http://www.instagram.com/p/BSOU6LyFOix/?taken     ...              0   \n",
       "http://www.instagram.com/p/BR1BnNFl_wP/?taken     ...              0   \n",
       "http://www.instagram.com/p/BRuL_IeljK5/?taken     ...              0   \n",
       "http://www.instagram.com/p/BRWJac_Fovt/?taken     ...              0   \n",
       "http://www.instagram.com/p/BRFKmgwl5XS/?taken     ...              0   \n",
       "http://www.instagram.com/p/BREK-EylYrl/?taken     ...              0   \n",
       "http://www.instagram.com/p/BRBhItoluAT/?taken     ...              0   \n",
       "http://www.instagram.com/p/BQ6n2UZllm5/?taken     ...              0   \n",
       "http://www.instagram.com/p/BQgu23IF8-F/?taken     ...              0   \n",
       "http://www.instagram.com/p/BP1EOswABqp/?taken     ...              1   \n",
       "http://www.instagram.com/p/BPvhpaJgrRL/?taken     ...              0   \n",
       "http://www.instagram.com/p/BPtAsOjAEz5/?taken     ...              0   \n",
       "http://www.instagram.com/p/BPqGcAbgG7T/?taken     ...              0   \n",
       "http://www.instagram.com/p/BPlgjlFAuKa/?taken     ...              1   \n",
       "http://www.instagram.com/p/BPi6__pgsKL/?taken     ...              0   \n",
       "http://www.instagram.com/p/BPbiCG4A7ai/?taken     ...              0   \n",
       "http://www.instagram.com/p/BPY_n3KgIU3/?taken     ...              0   \n",
       "http://www.instagram.com/p/BPWZXDAgJer/?taken     ...              0   \n",
       "http://www.instagram.com/p/BPOrQXXADDk/?taken     ...              0   \n",
       "http://www.instagram.com/p/BO43TrwAjP5/?taken     ...              0   \n",
       "\n",
       "                                               in_nature  surf   male  female  \\\n",
       "url                                                                             \n",
       "http://www.instagram.com/p/BeN1t2onLY4/?taken          1     1   True   False   \n",
       "http://www.instagram.com/p/BeBk2rdnTo_/?taken          1     0  False    True   \n",
       "http://www.instagram.com/p/Bc7ngZ3n1eM/?taken          1     1   True   False   \n",
       "http://www.instagram.com/p/BckSPMDlWGN/?taken          1     1   True   False   \n",
       "http://www.instagram.com/p/Bbz55LuFRjZ/?taken          1     0  False    True   \n",
       "http://www.instagram.com/p/BZyof0rFuzY/?taken          1     0  False    True   \n",
       "http://www.instagram.com/p/BZpKFJNl7x8/?taken          1     0  False    True   \n",
       "http://www.instagram.com/p/BZblCUzFKhc/?taken          1     0  False    True   \n",
       "http://www.instagram.com/p/BZEeBuLFkb_/?taken          1     0  False    True   \n",
       "http://www.instagram.com/p/BYbaPXzFhF9/?taken          1     0  False    True   \n",
       "http://www.instagram.com/p/BYD3mwmlFB1/?taken          1     0  False    True   \n",
       "http://www.instagram.com/p/BXsigjqllwD/?taken          1     0  False    True   \n",
       "http://www.instagram.com/p/BXUOM05Ftwu/?taken          1     1  False    True   \n",
       "http://www.instagram.com/p/BXQfHABlLbh/?taken          1     1   True   False   \n",
       "http://www.instagram.com/p/BXLVLXglB2e/?taken          1     0  False    True   \n",
       "http://www.instagram.com/p/BW_eLS1leTB/?taken          1     0  False    True   \n",
       "http://www.instagram.com/p/BWtXXL5lqHi/?taken          1     1  False   False   \n",
       "http://www.instagram.com/p/BWrA9jzFBcl/?taken          1     0   True   False   \n",
       "http://www.instagram.com/p/BWoJqo3FeAo/?taken          1     0  False    True   \n",
       "http://www.instagram.com/p/BWYswDjlLS8/?taken          1     1   True   False   \n",
       "http://www.instagram.com/p/BWNlASxlV0l/?taken          1     0  False    True   \n",
       "http://www.instagram.com/p/BWDlh7nldUo/?taken          1     0  False    True   \n",
       "http://www.instagram.com/p/BVtPNZpljfi/?taken          1     0   True   False   \n",
       "http://www.instagram.com/p/BVn7zSUFfgv/?taken          1     0  False    True   \n",
       "http://www.instagram.com/p/BVhtH-kFKXP/?taken          1     0  False    True   \n",
       "http://www.instagram.com/p/BVTIkEOl1EK/?taken          1     1  False    True   \n",
       "http://www.instagram.com/p/BVFsYQyltEz/?taken          1     0   True   False   \n",
       "http://www.instagram.com/p/BU7h8GVlDRq/?taken          1     1   True   False   \n",
       "http://www.instagram.com/p/BUyDn9wFTPn/?taken          1     1  False    True   \n",
       "http://www.instagram.com/p/BUqLt7xFsVZ/?taken          1     1  False    True   \n",
       "...                                                  ...   ...    ...     ...   \n",
       "http://www.instagram.com/p/BTXPGocFNv_/?taken          1     0  False    True   \n",
       "http://www.instagram.com/p/BTXPGocFNv_/?taken          1     0   True   False   \n",
       "http://www.instagram.com/p/BTO4LBCFuTi/?taken          1     0  False    True   \n",
       "http://www.instagram.com/p/BTMfz_Tl88w/?taken          1     0  False    True   \n",
       "http://www.instagram.com/p/BTDMFMHlMRA/?taken          1     0   True   False   \n",
       "http://www.instagram.com/p/BTAkN6nlYuH/?taken          1     0  False    True   \n",
       "http://www.instagram.com/p/BS9GLvDlEjH/?taken          1     1  False    True   \n",
       "http://www.instagram.com/p/BS6Hw80l94x/?taken          1     0  False    True   \n",
       "http://www.instagram.com/p/BS04bT8lzVa/?taken          1     0   True   False   \n",
       "http://www.instagram.com/p/BSfG3RGlfDp/?taken          1     1  False    True   \n",
       "http://www.instagram.com/p/BSOU6LyFOix/?taken          1     0  False    True   \n",
       "http://www.instagram.com/p/BR1BnNFl_wP/?taken          1     0  False    True   \n",
       "http://www.instagram.com/p/BRuL_IeljK5/?taken          1     0  False    True   \n",
       "http://www.instagram.com/p/BRWJac_Fovt/?taken          1     0  False    True   \n",
       "http://www.instagram.com/p/BRFKmgwl5XS/?taken          1     0  False    True   \n",
       "http://www.instagram.com/p/BREK-EylYrl/?taken          1     0   True   False   \n",
       "http://www.instagram.com/p/BRBhItoluAT/?taken          1     0  False    True   \n",
       "http://www.instagram.com/p/BQ6n2UZllm5/?taken          1     1  False    True   \n",
       "http://www.instagram.com/p/BQgu23IF8-F/?taken          1     0  False    True   \n",
       "http://www.instagram.com/p/BP1EOswABqp/?taken          1     0  False    True   \n",
       "http://www.instagram.com/p/BPvhpaJgrRL/?taken          1     1  False    True   \n",
       "http://www.instagram.com/p/BPtAsOjAEz5/?taken          1     0  False    True   \n",
       "http://www.instagram.com/p/BPqGcAbgG7T/?taken          1     1  False    True   \n",
       "http://www.instagram.com/p/BPlgjlFAuKa/?taken          1     0  False    True   \n",
       "http://www.instagram.com/p/BPi6__pgsKL/?taken          1     0  False    True   \n",
       "http://www.instagram.com/p/BPbiCG4A7ai/?taken          1     1  False    True   \n",
       "http://www.instagram.com/p/BPY_n3KgIU3/?taken          1     0  False    True   \n",
       "http://www.instagram.com/p/BPWZXDAgJer/?taken          1     0  False    True   \n",
       "http://www.instagram.com/p/BPOrQXXADDk/?taken          1     0  False    True   \n",
       "http://www.instagram.com/p/BO43TrwAjP5/?taken          1     1  False    True   \n",
       "\n",
       "                                               mixed_gender  bikini  apparel  \\\n",
       "url                                                                            \n",
       "http://www.instagram.com/p/BeN1t2onLY4/?taken         False   False     True   \n",
       "http://www.instagram.com/p/BeBk2rdnTo_/?taken         False    True    False   \n",
       "http://www.instagram.com/p/Bc7ngZ3n1eM/?taken         False   False     True   \n",
       "http://www.instagram.com/p/BckSPMDlWGN/?taken         False   False    False   \n",
       "http://www.instagram.com/p/Bbz55LuFRjZ/?taken         False    True    False   \n",
       "http://www.instagram.com/p/BZyof0rFuzY/?taken         False    True    False   \n",
       "http://www.instagram.com/p/BZpKFJNl7x8/?taken         False    True    False   \n",
       "http://www.instagram.com/p/BZblCUzFKhc/?taken         False   False    False   \n",
       "http://www.instagram.com/p/BZEeBuLFkb_/?taken         False   False     True   \n",
       "http://www.instagram.com/p/BYbaPXzFhF9/?taken         False   False    False   \n",
       "http://www.instagram.com/p/BYD3mwmlFB1/?taken         False    True    False   \n",
       "http://www.instagram.com/p/BXsigjqllwD/?taken         False    True    False   \n",
       "http://www.instagram.com/p/BXUOM05Ftwu/?taken         False    True    False   \n",
       "http://www.instagram.com/p/BXQfHABlLbh/?taken         False   False    False   \n",
       "http://www.instagram.com/p/BXLVLXglB2e/?taken         False    True    False   \n",
       "http://www.instagram.com/p/BW_eLS1leTB/?taken         False    True    False   \n",
       "http://www.instagram.com/p/BWtXXL5lqHi/?taken          True    True    False   \n",
       "http://www.instagram.com/p/BWrA9jzFBcl/?taken         False   False     True   \n",
       "http://www.instagram.com/p/BWoJqo3FeAo/?taken         False   False    False   \n",
       "http://www.instagram.com/p/BWYswDjlLS8/?taken         False   False    False   \n",
       "http://www.instagram.com/p/BWNlASxlV0l/?taken         False    True    False   \n",
       "http://www.instagram.com/p/BWDlh7nldUo/?taken         False    True    False   \n",
       "http://www.instagram.com/p/BVtPNZpljfi/?taken         False   False     True   \n",
       "http://www.instagram.com/p/BVn7zSUFfgv/?taken         False   False     True   \n",
       "http://www.instagram.com/p/BVhtH-kFKXP/?taken         False   False     True   \n",
       "http://www.instagram.com/p/BVTIkEOl1EK/?taken         False    True    False   \n",
       "http://www.instagram.com/p/BVFsYQyltEz/?taken         False   False     True   \n",
       "http://www.instagram.com/p/BU7h8GVlDRq/?taken         False   False    False   \n",
       "http://www.instagram.com/p/BUyDn9wFTPn/?taken         False    True    False   \n",
       "http://www.instagram.com/p/BUqLt7xFsVZ/?taken         False    True    False   \n",
       "...                                                     ...     ...      ...   \n",
       "http://www.instagram.com/p/BTXPGocFNv_/?taken         False    True    False   \n",
       "http://www.instagram.com/p/BTXPGocFNv_/?taken         False   False     True   \n",
       "http://www.instagram.com/p/BTO4LBCFuTi/?taken         False    True    False   \n",
       "http://www.instagram.com/p/BTMfz_Tl88w/?taken         False   False     True   \n",
       "http://www.instagram.com/p/BTDMFMHlMRA/?taken         False   False     True   \n",
       "http://www.instagram.com/p/BTAkN6nlYuH/?taken         False    True    False   \n",
       "http://www.instagram.com/p/BS9GLvDlEjH/?taken         False   False    False   \n",
       "http://www.instagram.com/p/BS6Hw80l94x/?taken         False   False     True   \n",
       "http://www.instagram.com/p/BS04bT8lzVa/?taken         False   False     True   \n",
       "http://www.instagram.com/p/BSfG3RGlfDp/?taken         False    True    False   \n",
       "http://www.instagram.com/p/BSOU6LyFOix/?taken         False    True    False   \n",
       "http://www.instagram.com/p/BR1BnNFl_wP/?taken         False    True    False   \n",
       "http://www.instagram.com/p/BRuL_IeljK5/?taken         False    True    False   \n",
       "http://www.instagram.com/p/BRWJac_Fovt/?taken         False    True    False   \n",
       "http://www.instagram.com/p/BRFKmgwl5XS/?taken         False    True    False   \n",
       "http://www.instagram.com/p/BREK-EylYrl/?taken         False   False    False   \n",
       "http://www.instagram.com/p/BRBhItoluAT/?taken         False    True    False   \n",
       "http://www.instagram.com/p/BQ6n2UZllm5/?taken         False    True    False   \n",
       "http://www.instagram.com/p/BQgu23IF8-F/?taken         False    True    False   \n",
       "http://www.instagram.com/p/BP1EOswABqp/?taken         False    True    False   \n",
       "http://www.instagram.com/p/BPvhpaJgrRL/?taken         False    True    False   \n",
       "http://www.instagram.com/p/BPtAsOjAEz5/?taken         False    True    False   \n",
       "http://www.instagram.com/p/BPqGcAbgG7T/?taken         False    True    False   \n",
       "http://www.instagram.com/p/BPlgjlFAuKa/?taken         False    True    False   \n",
       "http://www.instagram.com/p/BPi6__pgsKL/?taken         False    True    False   \n",
       "http://www.instagram.com/p/BPbiCG4A7ai/?taken         False    True    False   \n",
       "http://www.instagram.com/p/BPY_n3KgIU3/?taken         False    True    False   \n",
       "http://www.instagram.com/p/BPWZXDAgJer/?taken         False    True    False   \n",
       "http://www.instagram.com/p/BPOrQXXADDk/?taken         False    True    False   \n",
       "http://www.instagram.com/p/BO43TrwAjP5/?taken         False    True    False   \n",
       "\n",
       "                                               biki+apparel  no_product  \n",
       "url                                                                      \n",
       "http://www.instagram.com/p/BeN1t2onLY4/?taken         False       False  \n",
       "http://www.instagram.com/p/BeBk2rdnTo_/?taken         False       False  \n",
       "http://www.instagram.com/p/Bc7ngZ3n1eM/?taken         False       False  \n",
       "http://www.instagram.com/p/BckSPMDlWGN/?taken         False        True  \n",
       "http://www.instagram.com/p/Bbz55LuFRjZ/?taken         False       False  \n",
       "http://www.instagram.com/p/BZyof0rFuzY/?taken         False       False  \n",
       "http://www.instagram.com/p/BZpKFJNl7x8/?taken         False       False  \n",
       "http://www.instagram.com/p/BZblCUzFKhc/?taken          True       False  \n",
       "http://www.instagram.com/p/BZEeBuLFkb_/?taken         False       False  \n",
       "http://www.instagram.com/p/BYbaPXzFhF9/?taken          True       False  \n",
       "http://www.instagram.com/p/BYD3mwmlFB1/?taken         False       False  \n",
       "http://www.instagram.com/p/BXsigjqllwD/?taken         False       False  \n",
       "http://www.instagram.com/p/BXUOM05Ftwu/?taken         False       False  \n",
       "http://www.instagram.com/p/BXQfHABlLbh/?taken         False        True  \n",
       "http://www.instagram.com/p/BXLVLXglB2e/?taken         False       False  \n",
       "http://www.instagram.com/p/BW_eLS1leTB/?taken         False       False  \n",
       "http://www.instagram.com/p/BWtXXL5lqHi/?taken         False       False  \n",
       "http://www.instagram.com/p/BWrA9jzFBcl/?taken         False       False  \n",
       "http://www.instagram.com/p/BWoJqo3FeAo/?taken          True       False  \n",
       "http://www.instagram.com/p/BWYswDjlLS8/?taken         False        True  \n",
       "http://www.instagram.com/p/BWNlASxlV0l/?taken         False       False  \n",
       "http://www.instagram.com/p/BWDlh7nldUo/?taken         False       False  \n",
       "http://www.instagram.com/p/BVtPNZpljfi/?taken         False       False  \n",
       "http://www.instagram.com/p/BVn7zSUFfgv/?taken         False       False  \n",
       "http://www.instagram.com/p/BVhtH-kFKXP/?taken         False       False  \n",
       "http://www.instagram.com/p/BVTIkEOl1EK/?taken         False       False  \n",
       "http://www.instagram.com/p/BVFsYQyltEz/?taken         False       False  \n",
       "http://www.instagram.com/p/BU7h8GVlDRq/?taken         False        True  \n",
       "http://www.instagram.com/p/BUyDn9wFTPn/?taken         False       False  \n",
       "http://www.instagram.com/p/BUqLt7xFsVZ/?taken         False       False  \n",
       "...                                                     ...         ...  \n",
       "http://www.instagram.com/p/BTXPGocFNv_/?taken         False       False  \n",
       "http://www.instagram.com/p/BTXPGocFNv_/?taken         False       False  \n",
       "http://www.instagram.com/p/BTO4LBCFuTi/?taken         False       False  \n",
       "http://www.instagram.com/p/BTMfz_Tl88w/?taken         False       False  \n",
       "http://www.instagram.com/p/BTDMFMHlMRA/?taken         False       False  \n",
       "http://www.instagram.com/p/BTAkN6nlYuH/?taken         False       False  \n",
       "http://www.instagram.com/p/BS9GLvDlEjH/?taken         False        True  \n",
       "http://www.instagram.com/p/BS6Hw80l94x/?taken         False       False  \n",
       "http://www.instagram.com/p/BS04bT8lzVa/?taken         False       False  \n",
       "http://www.instagram.com/p/BSfG3RGlfDp/?taken         False       False  \n",
       "http://www.instagram.com/p/BSOU6LyFOix/?taken         False       False  \n",
       "http://www.instagram.com/p/BR1BnNFl_wP/?taken         False       False  \n",
       "http://www.instagram.com/p/BRuL_IeljK5/?taken         False       False  \n",
       "http://www.instagram.com/p/BRWJac_Fovt/?taken         False       False  \n",
       "http://www.instagram.com/p/BRFKmgwl5XS/?taken         False       False  \n",
       "http://www.instagram.com/p/BREK-EylYrl/?taken         False        True  \n",
       "http://www.instagram.com/p/BRBhItoluAT/?taken         False       False  \n",
       "http://www.instagram.com/p/BQ6n2UZllm5/?taken         False       False  \n",
       "http://www.instagram.com/p/BQgu23IF8-F/?taken         False       False  \n",
       "http://www.instagram.com/p/BP1EOswABqp/?taken         False       False  \n",
       "http://www.instagram.com/p/BPvhpaJgrRL/?taken         False       False  \n",
       "http://www.instagram.com/p/BPtAsOjAEz5/?taken         False       False  \n",
       "http://www.instagram.com/p/BPqGcAbgG7T/?taken         False       False  \n",
       "http://www.instagram.com/p/BPlgjlFAuKa/?taken         False       False  \n",
       "http://www.instagram.com/p/BPi6__pgsKL/?taken         False       False  \n",
       "http://www.instagram.com/p/BPbiCG4A7ai/?taken         False       False  \n",
       "http://www.instagram.com/p/BPY_n3KgIU3/?taken         False       False  \n",
       "http://www.instagram.com/p/BPWZXDAgJer/?taken         False       False  \n",
       "http://www.instagram.com/p/BPOrQXXADDk/?taken         False       False  \n",
       "http://www.instagram.com/p/BO43TrwAjP5/?taken         False       False  \n",
       "\n",
       "[68 rows x 32 columns]"
      ]
     },
     "execution_count": 571,
     "metadata": {},
     "output_type": "execute_result"
    }
   ],
   "source": [
    "in_nat_w_ppl"
   ]
  },
  {
   "cell_type": "markdown",
   "metadata": {},
   "source": [
    "# pictures in nature CONSISTENTLY perform better as well "
   ]
  },
  {
   "cell_type": "code",
   "execution_count": 542,
   "metadata": {},
   "outputs": [
    {
     "name": "stdout",
     "output_type": "stream",
     "text": [
      "263.22222222222223\n",
      "280.6868686868687\n",
      "\n",
      "Bikinis\n",
      "308.1111111111111\n",
      "9\n",
      "291.98850574712645\n",
      "87\n",
      "\n",
      "Apparel\n",
      "260.8627450980392\n",
      "275.09090909090907\n",
      "\n",
      "Modelly\n",
      "nan\n",
      "0\n",
      "298.3783783783784\n"
     ]
    }
   ],
   "source": [
    "print(combined2[combined2['num_people']==0].number_of_likes.mean())\n",
    "print(combined2[combined2['num_people']>0].number_of_likes.mean())\n",
    "print()\n",
    "print('Bikinis')\n",
    "print(bikinis[(bikinis['num_people']==0)].number_of_likes.mean())\n",
    "print(len(bikinis[(bikinis['num_people']==0)]))\n",
    "print(bikinis[(bikinis['num_people']>0)].number_of_likes.mean())\n",
    "print(len(bikinis[(bikinis['num_people']>0)]))\n",
    "\n",
    "print()\n",
    "print('Apparel')\n",
    "print(apparel[(apparel['num_people']==0)].number_of_likes.mean())\n",
    "print(apparel[(apparel['num_people']>0)].number_of_likes.mean())\n",
    "print()\n",
    "print('Modelly')\n",
    "print(modelly[(modelly['num_people']==0)].number_of_likes.mean())\n",
    "print(len(modelly[modelly['num_people']==0]))\n",
    "print(modelly[(modelly['num_people']>0) ].number_of_likes.mean())\n"
   ]
  },
  {
   "cell_type": "code",
   "execution_count": 566,
   "metadata": {
    "collapsed": true
   },
   "outputs": [],
   "source": [
    "biki_no_ppl =list(bikinis[(bikinis['num_people']==0)].number_of_likes)\n",
    "biki_ppl = list(bikinis[(bikinis['num_people']>0)].number_of_likes)\n",
    "\n",
    "apar_no_ppl = list(apparel[(apparel['num_people']==0)].number_of_likes)\n",
    "apar_ppl =list(apparel[(apparel['num_people']>0)].number_of_likes)\n",
    "\n",
    "no_ppl = list(combined2[combined2['num_people']==0].number_of_likes)\n",
    "ppl= list(combined2[combined2['num_people']>0].number_of_likes)\n"
   ]
  },
  {
   "cell_type": "code",
   "execution_count": 568,
   "metadata": {},
   "outputs": [
    {
     "data": {
      "image/png": "[encoded data removed]",
      "text/plain": [
       "<matplotlib.figure.Figure at 0x11659e358>"
      ]
     },
     "metadata": {},
     "output_type": "display_data"
    }
   ],
   "source": [
    "_=plt.boxplot([ppl, no_ppl,apar_ppl,apar_no_ppl, biki_ppl, biki_no_ppl])"
   ]
  },
  {
   "cell_type": "markdown",
   "metadata": {},
   "source": [
    "# pictures with ppl in them perform better EXCEPT in with bikinis!! \n",
    "1. only 9 posts with bikinis and no ppl \n",
    "2. quite a bit higher average without ppl tho "
   ]
  },
  {
   "cell_type": "code",
   "execution_count": 549,
   "metadata": {},
   "outputs": [
    {
     "name": "stdout",
     "output_type": "stream",
     "text": [
      "in general\n",
      "283.96774193548384\n",
      "280.07784431137725\n",
      "270.72727272727275\n",
      "238.94117647058823\n",
      "bikinis\n",
      "282.1818181818182\n",
      "293.4078947368421\n",
      "316.14285714285717\n",
      "280.0\n",
      "apparel\n",
      "279.95652173913044\n",
      "273.61842105263156\n",
      "263.03508771929825\n",
      "264.72340425531917\n",
      "215.5\n"
     ]
    }
   ],
   "source": [
    "print('in general')\n",
    "print(combined2[(combined2['num_people']>0)&(combined2['in_shop']==True)].number_of_likes.mean())\n",
    "print(combined2[(combined2['num_people']>0)&(combined2['in_shop']==False)].number_of_likes.mean())\n",
    "print(combined2[(combined2['num_people']==0)&(combined2['in_shop']==True)].number_of_likes.mean())\n",
    "print(combined2[(combined2['num_people']==0)&(combined2['in_shop']==False)].number_of_likes.mean())\n",
    "print('bikinis')\n",
    "print(bikinis[(bikinis['num_people']>0)&(bikinis['in_shop']==True)].number_of_likes.mean())\n",
    "print(bikinis[(bikinis['num_people']>0)&(bikinis['in_shop']==False)].number_of_likes.mean())\n",
    "print(bikinis[(bikinis['num_people']==0)&(bikinis['in_shop']==True)].number_of_likes.mean())\n",
    "print(bikinis[(bikinis['num_people']==0)&(bikinis['in_shop']==False)].number_of_likes.mean())\n",
    "print('apparel')\n",
    "print(apparel[(apparel['num_people']>0)&(apparel['in_shop']==True)].number_of_likes.mean())\n",
    "print(apparel[(apparel['num_people']>0)&(apparel['in_shop']==False)].number_of_likes.mean())\n",
    "print(apparel[(apparel['num_people']>0)&(apparel['in_shop']==False)&(apparel['in_nature']==False)].number_of_likes.mean())\n",
    "print(apparel[(apparel['num_people']==0)&(apparel['in_shop']==True)].number_of_likes.mean())\n",
    "print(apparel[(apparel['num_people']==0)&(apparel['in_shop']==False)].number_of_likes.mean())"
   ]
  },
  {
   "cell_type": "markdown",
   "metadata": {},
   "source": [
    "# Other than for bikini posts with ppl in them, in shop pictures preform better than out of shop pics"
   ]
  },
  {
   "cell_type": "code",
   "execution_count": 553,
   "metadata": {},
   "outputs": [],
   "source": [
    "prod_shot = combined2[combined2['product_shot']==True]"
   ]
  },
  {
   "cell_type": "code",
   "execution_count": 556,
   "metadata": {},
   "outputs": [
    {
     "name": "stdout",
     "output_type": "stream",
     "text": [
      "277.5748031496063\n",
      "more than one person\n",
      "263.42857142857144\n",
      "46.33162038628746\n",
      "one person\n",
      "285.6666666666667\n",
      "83.40733968737696\n",
      "no people\n",
      "268.5686274509804\n",
      "65.90121543703447\n"
     ]
    }
   ],
   "source": [
    "print(prod_shot.number_of_likes.mean())\n",
    "print('more than one person')\n",
    "\n",
    "print(prod_shot[prod_shot['num_people']>1].number_of_likes.mean())\n",
    "print(prod_shot[prod_shot['num_people']>1].number_of_likes.std())\n",
    "print('one person')\n",
    "\n",
    "print(prod_shot[prod_shot['num_people']==1].number_of_likes.mean())\n",
    "print(prod_shot[prod_shot['num_people']==1].number_of_likes.std())\n",
    "print('no people')\n",
    "print(prod_shot[prod_shot['num_people']==0].number_of_likes.mean())\n",
    "print(prod_shot[prod_shot['num_people']==0].number_of_likes.std())"
   ]
  },
  {
   "cell_type": "code",
   "execution_count": 557,
   "metadata": {
    "collapsed": true
   },
   "outputs": [],
   "source": [
    "none = list(prod_shot[prod_shot['num_people']==0].number_of_likes)\n",
    "one = list(prod_shot[prod_shot['num_people']==1].number_of_likes)\n",
    "more = list(prod_shot[prod_shot['num_people']>1].number_of_likes)"
   ]
  },
  {
   "cell_type": "code",
   "execution_count": 562,
   "metadata": {
    "collapsed": true
   },
   "outputs": [],
   "source": [
    "none_biki = list(prod_shot[(prod_shot['num_people']==0)&(prod_shot['bikini']==True)].number_of_likes)\n",
    "one_biki = list(prod_shot[(prod_shot['num_people']==1)&(prod_shot['bikini']==True)].number_of_likes)\n",
    "more_biki = list(prod_shot[(prod_shot['num_people']>1)&(prod_shot['bikini']==True)].number_of_likes)"
   ]
  },
  {
   "cell_type": "markdown",
   "metadata": {},
   "source": [
    "product shots with one person are most successful"
   ]
  },
  {
   "cell_type": "code",
   "execution_count": 561,
   "metadata": {},
   "outputs": [
    {
     "data": {
      "image/png": "[encoded data removed]",
      "text/plain": [
       "<matplotlib.figure.Figure at 0x1162e87f0>"
      ]
     },
     "metadata": {},
     "output_type": "display_data"
    }
   ],
   "source": [
    "_=plt.boxplot([none, one, more])"
   ]
  },
  {
   "cell_type": "markdown",
   "metadata": {},
   "source": [
    "#### the below plot suggests that there isnt enough data to conclude that bikini pics w/o ppl are more successful that w/ ppl"
   ]
  },
  {
   "cell_type": "code",
   "execution_count": 563,
   "metadata": {},
   "outputs": [
    {
     "data": {
      "image/png": "[encoded data removed]",
      "text/plain": [
       "<matplotlib.figure.Figure at 0x11639e3c8>"
      ]
     },
     "metadata": {},
     "output_type": "display_data"
    }
   ],
   "source": [
    "_=plt.boxplot([none_biki, one_biki, more_biki])"
   ]
  },
  {
   "cell_type": "code",
   "execution_count": 564,
   "metadata": {
    "collapsed": true
   },
   "outputs": [],
   "source": [
    "none_apar = list(prod_shot[(prod_shot['num_people']==0)&(prod_shot['apparel']==True)].number_of_likes)\n",
    "one_apar = list(prod_shot[(prod_shot['num_people']==1)&(prod_shot['apparel']==True)].number_of_likes)\n",
    "more_apar = list(prod_shot[(prod_shot['num_people']>1)&(prod_shot['apparel']==True)].number_of_likes)"
   ]
  },
  {
   "cell_type": "code",
   "execution_count": 565,
   "metadata": {},
   "outputs": [
    {
     "data": {
      "image/png": "[encoded data removed]",
      "text/plain": [
       "<matplotlib.figure.Figure at 0x1164f5b00>"
      ]
     },
     "metadata": {},
     "output_type": "display_data"
    }
   ],
   "source": [
    "_=plt.boxplot([none_apar, one_apar, more_apar])"
   ]
  },
  {
   "cell_type": "code",
   "execution_count": null,
   "metadata": {
    "collapsed": true
   },
   "outputs": [],
   "source": []
  }
 ],
 "metadata": {
  "kernelspec": {
   "display_name": "Python 3",
   "language": "python",
   "name": "python3"
  },
  "language_info": {
   "codemirror_mode": {
    "name": "ipython",
    "version": 3
   },
   "file_extension": ".py",
   "mimetype": "text/x-python",
   "name": "python",
   "nbconvert_exporter": "python",
   "pygments_lexer": "ipython3",
   "version": "3.6.1"
  }
 },
 "nbformat": 4,
 "nbformat_minor": 2
}
