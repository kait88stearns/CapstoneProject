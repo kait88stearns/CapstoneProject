{
 "cells": [
  {
   "cell_type": "code",
   "execution_count": 10,
   "metadata": {
    "collapsed": true
   },
   "outputs": [],
   "source": [
    "import pandas as pd\n",
    "import src.scrape_insta\n",
    "import src.clean as clean\n",
    "%autoreload\n",
    "import numpy as np\n",
    "import re \n",
    "from selenium import webdriver\n",
    "import requests\n",
    "import matplotlib.pyplot as plt\n",
    "%matplotlib inline\n",
    "import pickle\n",
    "from IPython.display import HTML\n",
    "from bs4 import BeautifulSoup\n",
    "import json.decoder as decoder\n",
    "from sklearn.ensemble import GradientBoostingRegressor\n",
    "from sklearn.metrics import mean_squared_error\n",
    "from sklearn.model_selection import train_test_split\n",
    "from sklearn.feature_extraction.text import TfidfVectorizer\n",
    "from sklearn.metrics import silhouette_score\n",
    "from sklearn.model_selection import cross_val_score\n",
    "from sklearn import preprocessing\n",
    "from sklearn.cluster import KMeans"
   ]
  },
  {
   "cell_type": "code",
   "execution_count": 112,
   "metadata": {
    "collapsed": true
   },
   "outputs": [],
   "source": [
    "qualdf = pd.read_csv('soft_content.txt', sep=\"|\")"
   ]
  },
  {
   "cell_type": "code",
   "execution_count": 113,
   "metadata": {},
   "outputs": [],
   "source": [
    "urls = list(qualdf.url.unique())\n",
    "pickle_in2 = open(\"quant_data.pkl\",\"rb\")\n",
    "quant_df = pickle.load(pickle_in2)"
   ]
  },
  {
   "cell_type": "code",
   "execution_count": 114,
   "metadata": {},
   "outputs": [],
   "source": [
    "combined = clean.combine_data(qualdf,quant_df)\n",
    "combined2 = clean.clean_combined(combined)"
   ]
  },
  {
   "cell_type": "markdown",
   "metadata": {},
   "source": [
    "# Changing columns for clustering"
   ]
  },
  {
   "cell_type": "code",
   "execution_count": 24,
   "metadata": {},
   "outputs": [],
   "source": [
    "combined2['female'] = (combined2['female'] | combined2['mixed_gender'])\n",
    "combined2['male'] = (combined2['male'] | combined2['mixed_gender'])\n",
    "combined2['bikini'] = (combined2['bikini'] | combined2['biki+apparel'])\n",
    "combined2['apparel'] = (combined2['apparel'] | combined2['biki+apparel'])"
   ]
  },
  {
   "cell_type": "code",
   "execution_count": 62,
   "metadata": {},
   "outputs": [],
   "source": [
    "drop_redundency = combined2.drop(['DOW_0', 'DOW_1', 'DOW_2', 'DOW_3', 'DOW_4', 'DOW_5', 'DOW_6', 'hour',\n",
    "       'month', 'number_of_likes','mixed_gender', 'biki+apparel', 'no_product', 'num_people_tagged'], axis=1)"
   ]
  },
  {
   "cell_type": "code",
   "execution_count": 63,
   "metadata": {
    "collapsed": true
   },
   "outputs": [],
   "source": [
    "scaler = preprocessing.StandardScaler()\n",
    "scaled = scaler.fit_transform(drop_redundency)\n",
    "sil_scores=[]"
   ]
  },
  {
   "cell_type": "code",
   "execution_count": 84,
   "metadata": {},
   "outputs": [
    {
     "name": "stdout",
     "output_type": "stream",
     "text": [
      "0.3012527560325276\n"
     ]
    }
   ],
   "source": [
    "i=20\n",
    "kmeans = KMeans(n_clusters=i)\n",
    "kmeans.fit(scaled)\n",
    "clustered= kmeans.predict(scaled) \n",
    "sil = silhouette_score(scaled,clustered)\n",
    "print (sil)\n",
    "sil_scores.append((i,sil))\n",
    "scores = [tup[1] for tup in sil_scores]"
   ]
  },
  {
   "cell_type": "code",
   "execution_count": 88,
   "metadata": {},
   "outputs": [],
   "source": [
    "sil_scores\n",
    "scores = [tup[1] for tup in sil_scores]"
   ]
  },
  {
   "cell_type": "code",
   "execution_count": 55,
   "metadata": {},
   "outputs": [
    {
     "data": {
      "text/plain": [
       "20"
      ]
     },
     "execution_count": 55,
     "metadata": {},
     "output_type": "execute_result"
    }
   ],
   "source": [
    "len(scores)+2"
   ]
  },
  {
   "cell_type": "code",
   "execution_count": 89,
   "metadata": {
    "scrolled": true
   },
   "outputs": [
    {
     "data": {
      "image/png": "[encoded data removed]",
      "text/plain": [
       "<matplotlib.figure.Figure at 0x11247d470>"
      ]
     },
     "metadata": {},
     "output_type": "display_data"
    }
   ],
   "source": [
    "_=plt.barh(range(2, len(scores)+2),scores)\n",
    "_=plt.yticks(range(2,len(scores)+2))"
   ]
  },
  {
   "cell_type": "code",
   "execution_count": 90,
   "metadata": {
    "collapsed": true
   },
   "outputs": [],
   "source": [
    "kmeans = KMeans(n_clusters=9)\n",
    "kmeans.fit(scaled)\n",
    "clustered= kmeans.predict(scaled) "
   ]
  },
  {
   "cell_type": "code",
   "execution_count": 106,
   "metadata": {},
   "outputs": [
    {
     "data": {
      "text/plain": [
       "0"
      ]
     },
     "execution_count": 106,
     "metadata": {},
     "output_type": "execute_result"
    }
   ],
   "source": [
    "(clustered).sum()"
   ]
  },
  {
   "cell_type": "markdown",
   "metadata": {},
   "source": [
    "# with all data, Gradient Boosted Model"
   ]
  },
  {
   "cell_type": "code",
   "execution_count": 120,
   "metadata": {
    "collapsed": true
   },
   "outputs": [],
   "source": [
    "vocab, hashtag_tfidf = clean.make_hashtag_tfidf(combined)"
   ]
  },
  {
   "cell_type": "code",
   "execution_count": 121,
   "metadata": {
    "collapsed": true
   },
   "outputs": [],
   "source": [
    "combined3 = pd.concat([combined2, hashtag_tfidf], axis=1)"
   ]
  },
  {
   "cell_type": "code",
   "execution_count": 122,
   "metadata": {
    "collapsed": true
   },
   "outputs": [],
   "source": [
    "y = combined3['number_of_likes']\n",
    "X = combined3.drop(['number_of_likes',], axis=1)"
   ]
  },
  {
   "cell_type": "code",
   "execution_count": 138,
   "metadata": {
    "collapsed": true
   },
   "outputs": [],
   "source": [
    "gbr = GradientBoostingRegressor(learning_rate=0.01, loss='ls',\n",
    "                                min_samples_split=4, n_estimators=600,\n",
    "                                max_depth=5)"
   ]
  },
  {
   "cell_type": "code",
   "execution_count": 139,
   "metadata": {},
   "outputs": [
    {
     "name": "stdout",
     "output_type": "stream",
     "text": [
      "-47.39873085759742\n",
      "[-49.838075   -34.12012204 -53.9843142  -48.58321049 -63.72727159\n",
      " -77.97460304 -43.30489597 -58.76824535 -40.20633421 -34.09746574\n",
      " -58.6871968  -36.14093648 -41.75383339 -59.80677589 -68.11078115\n",
      " -37.37500358 -35.00983749 -27.31764488 -43.37304048 -31.24419324\n",
      " -32.05144336 -35.40207187 -29.30096329 -32.88283838 -38.71303053\n",
      " -41.34173143 -49.61178419 -65.07943797 -55.39758844 -54.84723184\n",
      " -25.81548032 -49.86086603 -43.67470039 -71.57666666 -40.6638613\n",
      " -71.31276686 -75.79349753 -31.35528974 -66.46807139 -41.37613179]\n"
     ]
    }
   ],
   "source": [
    "scores = cross_val_score(gbr, X, y,cv=40, scoring= 'neg_mean_absolute_error')\n",
    "print(scores.mean())\n",
    "print(scores)"
   ]
  },
  {
   "cell_type": "code",
   "execution_count": 135,
   "metadata": {},
   "outputs": [
    {
     "name": "stdout",
     "output_type": "stream",
     "text": [
      "-46.70920500777229\n",
      "[-54.48138522 -31.81324439 -50.36633968 -52.68573809 -58.21127373\n",
      " -72.55953648 -37.0740229  -51.3888506  -43.79867118 -30.31943009\n",
      " -56.88270972 -45.80547014 -50.67626939 -56.56372853 -67.05357854\n",
      " -36.97257314 -30.94725663 -35.66019022 -43.80198209 -32.47095404\n",
      " -40.75282747 -36.54770504 -26.43894449 -35.08625148 -45.09246542\n",
      " -39.02489699 -49.68799814 -65.54683539 -63.26900041 -48.25248014\n",
      " -21.68331523 -45.50784708 -39.79483085 -61.46150434 -41.75406755\n",
      " -69.43898426 -67.93290031 -26.00337208 -62.17765514 -43.38111372]\n"
     ]
    }
   ],
   "source": [
    "scores = cross_val_score(gbr, X, y,cv=40, scoring= 'neg_mean_absolute_error')\n",
    "print(scores.mean())\n",
    "print(scores)"
   ]
  },
  {
   "cell_type": "code",
   "execution_count": 140,
   "metadata": {
    "collapsed": true
   },
   "outputs": [],
   "source": [
    "max_depth =[(2,47.05287822339375),(3,46.70920500777229),(4,46.05935529376886),(5,47.39873085759742)]"
   ]
  },
  {
   "cell_type": "code",
   "execution_count": 144,
   "metadata": {
    "scrolled": true
   },
   "outputs": [
    {
     "data": {
      "image/png": "[encoded data removed]",
      "text/plain": [
       "<matplotlib.figure.Figure at 0x112ea3588>"
      ]
     },
     "metadata": {},
     "output_type": "display_data"
    }
   ],
   "source": [
    "_=plt.plot([tup[0] for tup in max_depth],[tup[1] for tup in max_depth])"
   ]
  },
  {
   "cell_type": "code",
   "execution_count": 147,
   "metadata": {},
   "outputs": [
    {
     "name": "stdout",
     "output_type": "stream",
     "text": [
      "276.02962962962965\n",
      "74.50495263004379\n"
     ]
    }
   ],
   "source": [
    "print(combined3['number_of_likes'].mean())\n",
    "print(combined3['number_of_likes'].std())\n"
   ]
  },
  {
   "cell_type": "code",
   "execution_count": 156,
   "metadata": {},
   "outputs": [
    {
     "data": {
      "text/plain": [
       "<matplotlib.axes._subplots.AxesSubplot at 0x112e96f28>"
      ]
     },
     "execution_count": 156,
     "metadata": {},
     "output_type": "execute_result"
    },
    {
     "data": {
      "image/png": "[encoded data removed]",
      "text/plain": [
       "<matplotlib.figure.Figure at 0x113b44588>"
      ]
     },
     "metadata": {},
     "output_type": "display_data"
    }
   ],
   "source": [
    "combined3['number_of_likes'].hist(bins=16)"
   ]
  },
  {
   "cell_type": "code",
   "execution_count": 166,
   "metadata": {},
   "outputs": [],
   "source": [
    "X_train, X_test, y_train, y_test=train_test_split(X.as_matrix(), y.as_matrix(),test_size=.1)"
   ]
  },
  {
   "cell_type": "code",
   "execution_count": 169,
   "metadata": {},
   "outputs": [
    {
     "data": {
      "text/plain": [
       "GradientBoostingRegressor(alpha=0.9, criterion='friedman_mse', init=None,\n",
       "             learning_rate=0.01, loss='ls', max_depth=5, max_features=None,\n",
       "             max_leaf_nodes=None, min_impurity_decrease=0.0,\n",
       "             min_impurity_split=None, min_samples_leaf=1,\n",
       "             min_samples_split=4, min_weight_fraction_leaf=0.0,\n",
       "             n_estimators=600, presort='auto', random_state=None,\n",
       "             subsample=1.0, verbose=0, warm_start=False)"
      ]
     },
     "execution_count": 169,
     "metadata": {},
     "output_type": "execute_result"
    }
   ],
   "source": [
    "gbr.fit(X,y)"
   ]
  },
  {
   "cell_type": "code",
   "execution_count": 171,
   "metadata": {},
   "outputs": [],
   "source": [
    "feats=gbr.feature_importances_"
   ]
  },
  {
   "cell_type": "code",
   "execution_count": 188,
   "metadata": {},
   "outputs": [
    {
     "name": "stdout",
     "output_type": "stream",
     "text": [
      "hour : 0.057\n",
      "month : 0.107\n",
      "num_people_tagged : 0.027\n",
      "butt_pic : 0.018\n",
      "pro\\model : 0.02\n",
      "no_product : 0.012\n",
      "48-cheekybikini : 0.011\n",
      "87-driftbikinis : 0.022\n",
      "114-fempreneur : 0.011\n",
      "134-grainisgood : 0.011\n",
      "136-grassroots : 0.016\n",
      "140-handmadebikini : 0.01\n",
      "163-indiansummer : 0.014\n",
      "208-minimalzine : 0.031\n",
      "219-mytinyatlas : 0.019\n",
      "225-northeastcollective : 0.015\n",
      "227-nothingincommon : 0.021\n",
      "236-oneofakind : 0.012\n",
      "260-portraits_mf : 0.011\n",
      "262-portsmouth : 0.016\n",
      "263-portsmouthnh : 0.019\n",
      "302-shoplocal : 0.016\n",
      "366-thedriftcollective : 0.026\n",
      "397-vintage : 0.015\n",
      "402-vintagedenim : 0.013\n",
      "403-vintagefashion : 0.015\n"
     ]
    }
   ],
   "source": [
    "for name, imp in zip(X.columns, feats):\n",
    "    if imp > .01:\n",
    "        if type(name) == int:\n",
    "            name = '{}-{}'.format(name, rev_dict[name])\n",
    "\n",
    "            print(\"{} : {}\".format(name, round(imp,3)))"
   ]
  },
  {
   "cell_type": "code",
   "execution_count": 296,
   "metadata": {},
   "outputs": [],
   "source": [
    "only_appears_once = []\n",
    "for tag in hashtag_occurances.keys():\n",
    "    if hashtag_occurances[tag] == 1:\n",
    "        only_appears_once.append(tag)"
   ]
  },
  {
   "cell_type": "code",
   "execution_count": 301,
   "metadata": {},
   "outputs": [],
   "source": [
    "numbers_to_remove = []\n",
    "for tag in only_appears_once:\n",
    "    numbers_to_remove.append(vocab[tag.lower()])"
   ]
  },
  {
   "cell_type": "code",
   "execution_count": 302,
   "metadata": {},
   "outputs": [
    {
     "data": {
      "text/plain": [
       "[244,\n",
       " 240,\n",
       " 115,\n",
       " 355,\n",
       " 28,\n",
       " 360,\n",
       " 321,\n",
       " 350,\n",
       " 352,\n",
       " 413,\n",
       " 295,\n",
       " 398,\n",
       " 395,\n",
       " 311,\n",
       " 71,\n",
       " 313,\n",
       " 392,\n",
       " 393,\n",
       " 268,\n",
       " 197,\n",
       " 315,\n",
       " 284,\n",
       " 290,\n",
       " 235,\n",
       " 168,\n",
       " 167,\n",
       " 275,\n",
       " 209,\n",
       " 23,\n",
       " 196,\n",
       " 177,\n",
       " 351,\n",
       " 384,\n",
       " 16,\n",
       " 56,\n",
       " 210,\n",
       " 382,\n",
       " 427,\n",
       " 332,\n",
       " 10,\n",
       " 410,\n",
       " 408,\n",
       " 330,\n",
       " 280,\n",
       " 283,\n",
       " 409,\n",
       " 211,\n",
       " 65,\n",
       " 102,\n",
       " 308,\n",
       " 50,\n",
       " 145,\n",
       " 19,\n",
       " 133,\n",
       " 334,\n",
       " 318,\n",
       " 387,\n",
       " 99,\n",
       " 285,\n",
       " 165,\n",
       " 47,\n",
       " 258,\n",
       " 25,\n",
       " 192,\n",
       " 286,\n",
       " 193,\n",
       " 312,\n",
       " 333,\n",
       " 394,\n",
       " 124,\n",
       " 35,\n",
       " 57,\n",
       " 41,\n",
       " 375,\n",
       " 80,\n",
       " 319,\n",
       " 108,\n",
       " 42,\n",
       " 220,\n",
       " 37,\n",
       " 89,\n",
       " 234,\n",
       " 72,\n",
       " 146,\n",
       " 399,\n",
       " 53,\n",
       " 54,\n",
       " 302,\n",
       " 34,\n",
       " 340,\n",
       " 81,\n",
       " 149,\n",
       " 7,\n",
       " 379,\n",
       " 249,\n",
       " 101,\n",
       " 178,\n",
       " 5,\n",
       " 155,\n",
       " 305,\n",
       " 297,\n",
       " 217,\n",
       " 74,\n",
       " 43,\n",
       " 224,\n",
       " 373,\n",
       " 238,\n",
       " 335,\n",
       " 254,\n",
       " 2,\n",
       " 253,\n",
       " 162,\n",
       " 239,\n",
       " 267,\n",
       " 269,\n",
       " 251,\n",
       " 11,\n",
       " 76,\n",
       " 195,\n",
       " 181,\n",
       " 6,\n",
       " 154,\n",
       " 119,\n",
       " 61,\n",
       " 20,\n",
       " 316,\n",
       " 12,\n",
       " 383,\n",
       " 299,\n",
       " 21,\n",
       " 376,\n",
       " 270,\n",
       " 293,\n",
       " 354,\n",
       " 153,\n",
       " 73,\n",
       " 296,\n",
       " 88,\n",
       " 150,\n",
       " 199,\n",
       " 363,\n",
       " 250,\n",
       " 75,\n",
       " 407,\n",
       " 248,\n",
       " 105,\n",
       " 106,\n",
       " 189,\n",
       " 24,\n",
       " 343,\n",
       " 78,\n",
       " 31,\n",
       " 107,\n",
       " 164,\n",
       " 227,\n",
       " 60,\n",
       " 310,\n",
       " 327,\n",
       " 347,\n",
       " 121,\n",
       " 256,\n",
       " 125,\n",
       " 137,\n",
       " 255,\n",
       " 153,\n",
       " 127,\n",
       " 128,\n",
       " 271,\n",
       " 272,\n",
       " 287,\n",
       " 86,\n",
       " 328,\n",
       " 144,\n",
       " 109,\n",
       " 95,\n",
       " 180,\n",
       " 348,\n",
       " 385,\n",
       " 380,\n",
       " 126,\n",
       " 245,\n",
       " 281,\n",
       " 341,\n",
       " 206,\n",
       " 111,\n",
       " 68,\n",
       " 309,\n",
       " 344,\n",
       " 292,\n",
       " 97,\n",
       " 49,\n",
       " 417,\n",
       " 131,\n",
       " 349,\n",
       " 67,\n",
       " 40,\n",
       " 291,\n",
       " 415,\n",
       " 396,\n",
       " 277,\n",
       " 362,\n",
       " 372,\n",
       " 39,\n",
       " 233,\n",
       " 3,\n",
       " 390,\n",
       " 247,\n",
       " 314,\n",
       " 112,\n",
       " 233,\n",
       " 366,\n",
       " 94,\n",
       " 182,\n",
       " 27,\n",
       " 166,\n",
       " 83,\n",
       " 389,\n",
       " 147,\n",
       " 190,\n",
       " 236,\n",
       " 32,\n",
       " 44,\n",
       " 92,\n",
       " 120,\n",
       " 82,\n",
       " 300,\n",
       " 194,\n",
       " 231,\n",
       " 187,\n",
       " 237,\n",
       " 198,\n",
       " 88,\n",
       " 378]"
      ]
     },
     "execution_count": 302,
     "metadata": {},
     "output_type": "execute_result"
    }
   ],
   "source": [
    "numbers_to_remove"
   ]
  },
  {
   "cell_type": "code",
   "execution_count": 299,
   "metadata": {},
   "outputs": [
    {
     "data": {
      "text/plain": [
       "{'35analog': 0,\n",
       " '35mm': 1,\n",
       " '35mmfilm': 2,\n",
       " '603': 3,\n",
       " '90sfashion': 4,\n",
       " '90shiphop': 5,\n",
       " '90skids': 6,\n",
       " '90sparty': 7,\n",
       " 'abikiniaday': 8,\n",
       " 'accidentalzine': 9,\n",
       " 'acidwash': 10,\n",
       " 'acrylicpainting': 11,\n",
       " 'acurrentaffair': 12,\n",
       " 'analogue': 13,\n",
       " 'analoguevibes': 14,\n",
       " 'analogvibes': 15,\n",
       " 'antiques': 16,\n",
       " 'archivecollectivemag': 17,\n",
       " 'artistcollaboration': 18,\n",
       " 'asburypark': 19,\n",
       " 'atelier': 20,\n",
       " 'babetown': 21,\n",
       " 'beach': 22,\n",
       " 'beachwear': 23,\n",
       " 'beastcoast': 24,\n",
       " 'beckley': 25,\n",
       " 'bestfitsdaily': 26,\n",
       " 'betheadventure': 27,\n",
       " 'biarritz': 28,\n",
       " 'biggie': 29,\n",
       " 'bikiniready': 30,\n",
       " 'birthdaygirl': 31,\n",
       " 'birthdayshots': 32,\n",
       " 'bleachmyfilm': 33,\n",
       " 'blockisland': 34,\n",
       " 'boston': 35,\n",
       " 'bostonblogger': 36,\n",
       " 'bowie': 37,\n",
       " 'broadmag': 38,\n",
       " 'bubblerock': 39,\n",
       " 'cactus': 40,\n",
       " 'cali': 41,\n",
       " 'camouflage': 42,\n",
       " 'capecod': 43,\n",
       " 'champagne': 44,\n",
       " 'chasinglight': 45,\n",
       " 'cheadsmagazine': 46,\n",
       " 'cheeky': 47,\n",
       " 'cheekybikini': 48,\n",
       " 'cheers': 49,\n",
       " 'chugandshop': 50,\n",
       " 'coastallife': 51,\n",
       " 'collaborationmastered': 52,\n",
       " 'colorado': 53,\n",
       " 'coloradosprings': 54,\n",
       " 'colorblock': 55,\n",
       " 'colorblockcrewww': 56,\n",
       " 'colorblocking': 57,\n",
       " 'contemporaryart': 58,\n",
       " 'contemporarydesign': 59,\n",
       " 'cosmic': 60,\n",
       " 'craftsmanship': 61,\n",
       " 'createcommune': 62,\n",
       " 'createcultivate': 63,\n",
       " 'createexploretakeover': 64,\n",
       " 'creativeentrepreneur': 65,\n",
       " 'creativesontherise': 66,\n",
       " 'cuba': 67,\n",
       " 'currentdesignsituation': 68,\n",
       " 'currentlywearing': 69,\n",
       " 'customapparel': 70,\n",
       " 'custombikini': 71,\n",
       " 'customjacket': 72,\n",
       " 'dangerbeach': 73,\n",
       " 'darlingweekend': 74,\n",
       " 'denimondenim': 75,\n",
       " 'depression': 76,\n",
       " 'designcommunity': 77,\n",
       " 'designporn': 78,\n",
       " 'designworld': 79,\n",
       " 'dewtour': 80,\n",
       " 'discokiller': 81,\n",
       " 'downtownportsmouth': 82,\n",
       " 'dreamteam': 83,\n",
       " 'dressupbox': 84,\n",
       " 'drift': 85,\n",
       " 'driftbikini': 86,\n",
       " 'driftbikinis': 87,\n",
       " 'driftbyyou': 88,\n",
       " 'driftexclusive': 89,\n",
       " 'driftfam': 90,\n",
       " 'driftfamily': 91,\n",
       " 'driftoriginals': 92,\n",
       " 'driftsummer17': 93,\n",
       " 'earth_portraits': 94,\n",
       " 'earthday': 95,\n",
       " 'eastcoast': 96,\n",
       " 'eastcoastweekendvibes': 97,\n",
       " 'endfastfashion': 98,\n",
       " 'entrepreneurlife': 99,\n",
       " 'entrepreneurlifestyle': 100,\n",
       " 'eventplanning': 101,\n",
       " 'explorecreatetakeover': 102,\n",
       " 'exploretocreate': 103,\n",
       " 'expofilm': 104,\n",
       " 'fashionblogger': 105,\n",
       " 'fashiondesigner': 106,\n",
       " 'fashionkilla': 107,\n",
       " 'fashionkiller': 108,\n",
       " 'fashionrevolutionweek': 109,\n",
       " 'featuremebest': 110,\n",
       " 'featuremeofh': 111,\n",
       " 'featuremeseas': 112,\n",
       " 'featurepalette': 113,\n",
       " 'fempreneur': 114,\n",
       " 'film': 115,\n",
       " 'filmisnotdead': 116,\n",
       " 'flashesofdelight': 117,\n",
       " 'flatlay': 118,\n",
       " 'fleafinds': 119,\n",
       " 'fleetst': 120,\n",
       " 'fleetstreet': 121,\n",
       " 'foammagazine': 122,\n",
       " 'folkportraits': 123,\n",
       " 'followingboston': 124,\n",
       " 'fotomobile': 125,\n",
       " 'getready': 126,\n",
       " 'girlboss': 127,\n",
       " 'girlcrush': 128,\n",
       " 'girlgaze': 129,\n",
       " 'girlsonfilm': 130,\n",
       " 'goodvibes': 131,\n",
       " 'gooutside': 132,\n",
       " 'gotmilk': 133,\n",
       " 'grainisgood': 134,\n",
       " 'graphicdesign': 135,\n",
       " 'grassroots': 136,\n",
       " 'gupmagazine': 137,\n",
       " 'handmade': 138,\n",
       " 'handmadeapparel': 139,\n",
       " 'handmadebikini': 140,\n",
       " 'handmadebikinis': 141,\n",
       " 'handmadefashion': 142,\n",
       " 'handmadeswimwear': 143,\n",
       " 'happyearthday': 144,\n",
       " 'happyholidaze': 145,\n",
       " 'harleydavidson': 146,\n",
       " 'herecomestrouble': 147,\n",
       " 'hinfluencercollective': 148,\n",
       " 'hiphop': 149,\n",
       " 'hizaayy': 150,\n",
       " 'holidaysale': 151,\n",
       " 'hoodie': 152,\n",
       " 'humpday': 153,\n",
       " 'humpdayflair': 154,\n",
       " 'huntgram': 155,\n",
       " 'hvmansouls': 156,\n",
       " 'hypebae': 157,\n",
       " 'hypebeast': 158,\n",
       " 'ifyouleave': 159,\n",
       " 'igboston': 160,\n",
       " 'igersboston': 161,\n",
       " 'ilikeit': 162,\n",
       " 'indiansummer': 163,\n",
       " 'innertubeslookgoodonyou': 164,\n",
       " 'itgirlstyle': 165,\n",
       " 'iwd2017': 166,\n",
       " 'jetsetlife': 167,\n",
       " 'joiedevivre': 168,\n",
       " 'justgoshoot': 169,\n",
       " 'keepfilmalive': 170,\n",
       " 'keepitwild': 171,\n",
       " 'killergrams': 172,\n",
       " 'killerminimal': 173,\n",
       " 'kodak_photo': 174,\n",
       " 'l0tsabraids': 175,\n",
       " 'lastdaze': 176,\n",
       " 'lastminutegifts': 177,\n",
       " 'ldwsale': 178,\n",
       " 'learminimalism': 179,\n",
       " 'legends': 180,\n",
       " 'leopardisaneutral': 181,\n",
       " 'lifeawaits': 182,\n",
       " 'lifeofadventure': 183,\n",
       " 'lightandshadow': 184,\n",
       " 'lightleak': 185,\n",
       " 'livecolorfully': 186,\n",
       " 'livefolk': 187,\n",
       " 'local': 188,\n",
       " 'loveher': 189,\n",
       " 'loveyou': 190,\n",
       " 'lucecurated': 191,\n",
       " 'mainetheway': 192,\n",
       " 'marblebikini': 193,\n",
       " 'march': 194,\n",
       " 'marrisclan': 195,\n",
       " 'merrychristmas': 196,\n",
       " 'merrychristmaseve': 197,\n",
       " 'miami': 198,\n",
       " 'migos': 199,\n",
       " 'mindtheminimal': 200,\n",
       " 'minimal_graphy': 201,\n",
       " 'minimal_perfection': 202,\n",
       " 'minimalexperience': 203,\n",
       " 'minimalmood': 204,\n",
       " 'minimalmovement': 205,\n",
       " 'minimalove': 206,\n",
       " 'minimalstyle': 207,\n",
       " 'minimalzine': 208,\n",
       " 'mininalzine': 209,\n",
       " 'missthis': 210,\n",
       " 'moderndesign': 211,\n",
       " 'modernnotoriety': 212,\n",
       " 'modernstyle': 213,\n",
       " 'moodyports': 214,\n",
       " 'mycreativebiz': 215,\n",
       " 'mydailystreet': 216,\n",
       " 'myhumps': 217,\n",
       " 'mynewengland': 218,\n",
       " 'mytinyatlas': 219,\n",
       " 'nakedmannequin': 220,\n",
       " 'newengland': 221,\n",
       " 'newhampshire': 222,\n",
       " 'noicemag': 223,\n",
       " 'northeast': 224,\n",
       " 'northeastcollective': 225,\n",
       " 'northeastisbeast': 226,\n",
       " 'nothingincommon': 227,\n",
       " 'oceanminded': 228,\n",
       " 'of2humans': 229,\n",
       " 'offthewall': 230,\n",
       " 'oftheafterncoon': 231,\n",
       " 'oftheafternoon': 232,\n",
       " 'ohboy': 233,\n",
       " 'onboooooom': 234,\n",
       " 'onceuponatime': 235,\n",
       " 'oneofakind': 236,\n",
       " 'onholiday': 237,\n",
       " 'ootd': 238,\n",
       " 'openforbusiness': 239,\n",
       " 'oregon': 240,\n",
       " 'oregoncoast': 241,\n",
       " 'ourmomentum': 242,\n",
       " 'outfitsociety': 243,\n",
       " 'pacificcity': 244,\n",
       " 'painterforlife': 245,\n",
       " 'paperjournalmag': 246,\n",
       " 'parkcity': 247,\n",
       " 'partypants': 248,\n",
       " 'partyplanner': 249,\n",
       " 'partyshirts': 250,\n",
       " 'passionpassport': 251,\n",
       " 'peopleinwalls': 252,\n",
       " 'peoplescreative': 253,\n",
       " 'peopleskills': 254,\n",
       " 'photochallenge': 255,\n",
       " 'phroom': 256,\n",
       " 'phroommagazine': 257,\n",
       " 'pineapplebikini': 258,\n",
       " 'portraitcentral': 259,\n",
       " 'portraits_mf': 260,\n",
       " 'portraits_universe': 261,\n",
       " 'portsmouth': 262,\n",
       " 'portsmouthnh': 263,\n",
       " 'postitfortheaesthetic': 264,\n",
       " 'postmypicrsticks': 265,\n",
       " 'postmypicsticks': 266,\n",
       " 'postthepeople': 267,\n",
       " 'powderday': 268,\n",
       " 'printmaster': 269,\n",
       " 'prints': 270,\n",
       " 'psychedelic': 271,\n",
       " 'psychedelicrock': 272,\n",
       " 'pursuepretty': 273,\n",
       " 'pursuitofportraits': 274,\n",
       " 'putabowonit': 275,\n",
       " 'quietthechaos': 276,\n",
       " 'rad': 277,\n",
       " 'reachedsouls': 278,\n",
       " 'recreatedapparel': 279,\n",
       " 'recycledart': 280,\n",
       " 'renovations': 281,\n",
       " 'rentalmag': 282,\n",
       " 'repurposedart': 283,\n",
       " 'retrochristmas': 284,\n",
       " 'retrofashion': 285,\n",
       " 'retrostyle': 286,\n",
       " 'retrosurf': 287,\n",
       " 'reversiblebikini': 288,\n",
       " 'rsa_minimal': 289,\n",
       " 'sainttropezvintagefashion': 290,\n",
       " 'sale': 291,\n",
       " 'sales': 292,\n",
       " 'saltsoaked': 293,\n",
       " 'saturday': 294,\n",
       " 'savetheplanet': 295,\n",
       " 'screenprinting': 296,\n",
       " 'sealovesurfboards': 297,\n",
       " 'seamyphotos': 298,\n",
       " 'shekillsit': 299,\n",
       " 'shootfilm': 300,\n",
       " 'shophandmade': 301,\n",
       " 'shoplocal': 302,\n",
       " 'shopportsmouth': 303,\n",
       " 'shopsmall': 304,\n",
       " 'shopstyle': 305,\n",
       " 'shopsustainable': 306,\n",
       " 'shotaroundmag': 307,\n",
       " 'sipandshop': 308,\n",
       " 'sister': 309,\n",
       " 'sisters': 310,\n",
       " 'skateboard': 311,\n",
       " 'skateboarding': 312,\n",
       " 'skicolorado': 313,\n",
       " 'skiutah': 314,\n",
       " 'slimaarons': 315,\n",
       " 'slowfashion': 316,\n",
       " 'smallbusiness': 317,\n",
       " 'smallbusinesssaturday': 318,\n",
       " 'snowboarder': 319,\n",
       " 'snowboarding': 320,\n",
       " 'snowday': 321,\n",
       " 'snowisblack': 322,\n",
       " 'somewheremagazine': 323,\n",
       " 'spring': 324,\n",
       " 'springtime': 325,\n",
       " 'stayandwander': 326,\n",
       " 'stayfunky': 327,\n",
       " 'stayposted': 328,\n",
       " 'streetchic': 329,\n",
       " 'streetphotography': 330,\n",
       " 'streetstyle': 331,\n",
       " 'streetstylefashion': 332,\n",
       " 'streetwearfashion': 333,\n",
       " 'styleblogger': 334,\n",
       " 'stylecollective': 335,\n",
       " 'stylecrush': 336,\n",
       " 'subjectivelyobjective': 337,\n",
       " 'summer': 338,\n",
       " 'summer17': 339,\n",
       " 'summerin35mm': 340,\n",
       " 'summeriscoming': 341,\n",
       " 'summersunselection': 342,\n",
       " 'sunnies': 343,\n",
       " 'sunshine': 344,\n",
       " 'supportlocal': 345,\n",
       " 'supportsmallbiz': 346,\n",
       " 'supportsmallbusiness': 347,\n",
       " 'supportyourlocalartists': 348,\n",
       " 'surf': 349,\n",
       " 'surf_shots': 350,\n",
       " 'surfingsanta': 351,\n",
       " 'surflife': 352,\n",
       " 'surfphotography': 353,\n",
       " 'surfshop': 354,\n",
       " 'surfstyle': 355,\n",
       " 'surftrip': 356,\n",
       " 'sustainable': 357,\n",
       " 'sustainabledesign': 358,\n",
       " 'sustainablefashion': 359,\n",
       " 'takeuswithyou': 360,\n",
       " 'tangledinfilm': 361,\n",
       " 'teamworkmakesthedreamwork': 362,\n",
       " 'thebarn': 363,\n",
       " 'thecoolmagazine': 364,\n",
       " 'thecreatorclass': 365,\n",
       " 'thedriftcollective': 366,\n",
       " 'thefilmcommunity': 367,\n",
       " 'thehappynow': 368,\n",
       " 'theoutbound': 369,\n",
       " 'theportraitpr0ject': 370,\n",
       " 'thesartorialist': 371,\n",
       " 'thewall': 372,\n",
       " 'thewavecave': 373,\n",
       " 'thisveryinstant': 374,\n",
       " 'thrasher': 375,\n",
       " 'thriftshopfinds': 376,\n",
       " 'thriftstorefinds': 377,\n",
       " 'throughtheeyes': 378,\n",
       " 'throwback': 379,\n",
       " 'thuglife': 380,\n",
       " 'todaysdetails': 381,\n",
       " 'totearoundtown': 382,\n",
       " 'treasurebox': 383,\n",
       " 'tubular': 384,\n",
       " 'tupac': 385,\n",
       " 'under3kyo': 386,\n",
       " 'upcycledclothing': 387,\n",
       " 'urbanstyle': 388,\n",
       " 'usagainsttheworld': 389,\n",
       " 'utah': 390,\n",
       " 'vacationland': 391,\n",
       " 'vail': 392,\n",
       " 'vailcolorado': 393,\n",
       " 'vansoffthewall': 394,\n",
       " 'vansoldskool': 395,\n",
       " 'vibes': 396,\n",
       " 'vintage': 397,\n",
       " 'vintagebohemian': 398,\n",
       " 'vintageboutique': 399,\n",
       " 'vintagechristmas': 400,\n",
       " 'vintageclothing': 401,\n",
       " 'vintagedenim': 402,\n",
       " 'vintagefashion': 403,\n",
       " 'vintagelove': 404,\n",
       " 'vintageshop': 405,\n",
       " 'vintagestyle': 406,\n",
       " 'vintagetees': 407,\n",
       " 'vinyl': 408,\n",
       " 'vinyladay': 409,\n",
       " 'vinylcollectionpost': 410,\n",
       " 'visualsoflife': 411,\n",
       " 'vscocam': 412,\n",
       " 'wavecave': 413,\n",
       " 'waveporn': 414,\n",
       " 'wcw': 415,\n",
       " 'wearethepeoplemag': 416,\n",
       " 'weekendvibes': 417,\n",
       " 'westcoast': 418,\n",
       " 'wethecreators': 419,\n",
       " 'weworewhat': 420,\n",
       " 'whatiwore': 421,\n",
       " 'whowhatwear': 422,\n",
       " 'whywhiteworks': 423,\n",
       " 'whywhiteworrks': 424,\n",
       " 'womeninbiz': 425,\n",
       " 'womenwhowork': 426,\n",
       " 'yuletidedelights': 427}"
      ]
     },
     "execution_count": 299,
     "metadata": {},
     "output_type": "execute_result"
    }
   ],
   "source": []
  },
  {
   "cell_type": "code",
   "execution_count": 228,
   "metadata": {
    "collapsed": true
   },
   "outputs": [],
   "source": [
    "imp_tags = [(48,'cheekybikini'), (87,'driftbikinis'), (114,'fempreneur' ), \n",
    "(134,'grainisgood'),(136,'grassroots'), (140,'handmadebikini'),\n",
    "(163,'indiansummer'), (208,'minimalzine'), (219,'mytinyatlas'),\n",
    "(225,'northeastcollective'),(227,'nothingincommon'),(236,'oneofakind'),\n",
    "(260,'portraits_mf'),(262,'portsmouth' ), (263,'portsmouthnh'),\n",
    "(302,'shoplocal'),(366,'thedriftcollective'),(397,'vintage'),\n",
    "(402,'vintagedenim'),(403,'vintagefashion')]"
   ]
  },
  {
   "cell_type": "code",
   "execution_count": 235,
   "metadata": {},
   "outputs": [],
   "source": [
    "likes_data={}\n",
    "for num, tag in zip([tup[0] for tup in imp_tags],[tup[1] for tup in imp_tags]):\n",
    "    likes_data[tag] = (hashtag_occurances[tag], combined3[combined3[num] >0].number_of_likes.mean(), combined3[combined3[num] >0].number_of_likes.std())"
   ]
  },
  {
   "cell_type": "code",
   "execution_count": 236,
   "metadata": {},
   "outputs": [
    {
     "data": {
      "text/plain": [
       "{'cheekybikini': (8, 264.85714285714283, 66.81923019467916),\n",
       " 'driftbikinis': (32, 297.65625, 94.88791669054056),\n",
       " 'fempreneur': (12, 234.91666666666666, 83.17938810823632),\n",
       " 'grainisgood': (135, 263.5777777777778, 70.5737115094488),\n",
       " 'grassroots': (9, 310.3333333333333, 92.28488500290824),\n",
       " 'handmadebikini': (10, 300.3, 33.07247932781709),\n",
       " 'indiansummer': (2, 151.5, 60.10407640085654),\n",
       " 'minimalzine': (180, 278.3820224719101, 74.19816277104415),\n",
       " 'mytinyatlas': (43, 282.7906976744186, 64.87958008037987),\n",
       " 'northeastcollective': (5, 166.2, 49.2767693746252),\n",
       " 'nothingincommon': (31, 310.15625, 66.50399424094766),\n",
       " 'oneofakind': (1, 202.0, nan),\n",
       " 'portraits_mf': (12, 333.0, 73.63546576332507),\n",
       " 'portsmouth': (14, 318.92857142857144, 65.60893968837605),\n",
       " 'portsmouthnh': (68, 268.2238805970149, 67.24780516763586),\n",
       " 'shoplocal': (49, 285.0204081632653, 67.99769904070234),\n",
       " 'thedriftcollective': (131, 276.3484848484849, 73.22640670487776),\n",
       " 'vintage': (10, 322.6, 65.62892316315693),\n",
       " 'vintagedenim': (5, 192.4, 82.0993300825287),\n",
       " 'vintagefashion': (28, 224.67857142857142, 64.55950661351041)}"
      ]
     },
     "execution_count": 236,
     "metadata": {},
     "output_type": "execute_result"
    }
   ],
   "source": [
    "likes_data"
   ]
  },
  {
   "cell_type": "code",
   "execution_count": 176,
   "metadata": {},
   "outputs": [],
   "source": [
    "rev_dict={}\n",
    "for key, val in vocab.items():\n",
    "    rev_dict[val]= key"
   ]
  },
  {
   "cell_type": "code",
   "execution_count": 183,
   "metadata": {
    "scrolled": false
   },
   "outputs": [],
   "source": [
    "hashtag_occurances = {}\n",
    "for post in list(combined.hashtags):\n",
    "    for tag in post:\n",
    "        tag = re.sub('\\#', '', tag) \n",
    "        if tag not in hashtag_occurances:\n",
    "            hashtag_occurances[tag] = 1\n",
    "        else: \n",
    "            hashtag_occurances[tag] += 1"
   ]
  },
  {
   "cell_type": "code",
   "execution_count": 227,
   "metadata": {},
   "outputs": [
    {
     "name": "stdout",
     "output_type": "stream",
     "text": [
      "300.3\n",
      "33.07247932781709\n"
     ]
    }
   ],
   "source": [
    "print(combined3[combined3[140] >0].number_of_likes.mean())\n",
    "print(combined3[combined3[140] >0].number_of_likes.std())"
   ]
  },
  {
   "cell_type": "code",
   "execution_count": 213,
   "metadata": {},
   "outputs": [
    {
     "data": {
      "text/plain": [
       "274.03619909502265"
      ]
     },
     "execution_count": 213,
     "metadata": {},
     "output_type": "execute_result"
    }
   ],
   "source": [
    "combined3[combined3[302] <= 0].number_of_likes.mean()"
   ]
  },
  {
   "cell_type": "code",
   "execution_count": 206,
   "metadata": {},
   "outputs": [
    {
     "data": {
      "text/plain": [
       "276.02962962962965"
      ]
     },
     "execution_count": 206,
     "metadata": {},
     "output_type": "execute_result"
    }
   ],
   "source": [
    "combined3.number_of_likes.mean()"
   ]
  },
  {
   "cell_type": "code",
   "execution_count": 219,
   "metadata": {},
   "outputs": [
    {
     "data": {
      "text/plain": [
       "244"
      ]
     },
     "execution_count": 219,
     "metadata": {},
     "output_type": "execute_result"
    }
   ],
   "source": []
  },
  {
   "cell_type": "code",
   "execution_count": 241,
   "metadata": {},
   "outputs": [],
   "source": [
    "likes_by_hour={}\n",
    "for hour in combined3['hour'].unique():\n",
    "    count = len(combined3[combined3['hour']== hour])\n",
    "    mean = combined3[combined3['hour']== hour].number_of_likes.mean()\n",
    "    std = combined3[combined3['hour']== hour].number_of_likes.std()\n",
    "    likes_by_hour[hour] = (count,round(mean,2),round(std,2))"
   ]
  },
  {
   "cell_type": "code",
   "execution_count": 242,
   "metadata": {},
   "outputs": [
    {
     "data": {
      "text/plain": [
       "{0: (16, 318.62, 48.05),\n",
       " 1: (21, 313.29, 62.53),\n",
       " 2: (13, 311.38, 52.55),\n",
       " 3: (13, 334.15, 73.42),\n",
       " 4: (1, 402.0, nan),\n",
       " 11: (1, 283.0, nan),\n",
       " 12: (8, 310.5, 103.03),\n",
       " 13: (8, 263.62, 76.26),\n",
       " 14: (11, 249.27, 60.37),\n",
       " 15: (39, 264.82, 68.4),\n",
       " 16: (34, 239.06, 83.53),\n",
       " 17: (28, 242.57, 84.65),\n",
       " 18: (24, 251.71, 81.3),\n",
       " 19: (17, 291.12, 52.42),\n",
       " 20: (8, 256.75, 45.96),\n",
       " 21: (11, 286.82, 47.87),\n",
       " 22: (8, 286.62, 50.41),\n",
       " 23: (9, 299.89, 42.19)}"
      ]
     },
     "execution_count": 242,
     "metadata": {},
     "output_type": "execute_result"
    }
   ],
   "source": [
    "likes_by_hour"
   ]
  },
  {
   "cell_type": "code",
   "execution_count": 252,
   "metadata": {},
   "outputs": [
    {
     "data": {
      "image/png": "[encoded data removed]",
      "text/plain": [
       "<matplotlib.figure.Figure at 0x11376f940>"
      ]
     },
     "metadata": {},
     "output_type": "display_data"
    }
   ],
   "source": [
    "for hour in combined3['hour'].unique():\n",
    "    combined3[combined3['hour']== hour].number_of_likes.hist(alpha=.4)"
   ]
  },
  {
   "cell_type": "code",
   "execution_count": 261,
   "metadata": {
    "scrolled": false
   },
   "outputs": [
    {
     "data": {
      "text/plain": [
       "<matplotlib.axes._subplots.AxesSubplot at 0x115099b38>"
      ]
     },
     "execution_count": 261,
     "metadata": {},
     "output_type": "execute_result"
    },
    {
     "data": {
      "image/png": "[encoded data removed]",
      "text/plain": [
       "<matplotlib.figure.Figure at 0x114d81860>"
      ]
     },
     "metadata": {},
     "output_type": "display_data"
    }
   ],
   "source": [
    "combined3[combined3['hour']< 4].number_of_likes.hist(alpha=.4)\n",
    "combined3[(combined3['hour']> 10)&(combined3['hour']<16)].boxplot(column='number_of_likes')\n",
    "combined3[(combined3['hour']> 15)&(combined3['hour']<19)].boxplot(column='number_of_likes')\n",
    "combined3[(combined3['hour']> 18)&(combined3['hour']<24)].boxplot(column='number_of_likes')"
   ]
  },
  {
   "cell_type": "code",
   "execution_count": 262,
   "metadata": {},
   "outputs": [
    {
     "data": {
      "image/png": "[encoded data removed]",
      "text/plain": [
       "<matplotlib.figure.Figure at 0x115054630>"
      ]
     },
     "metadata": {},
     "output_type": "display_data"
    }
   ],
   "source": [
    "for month in combined3['month'].unique():\n",
    "    combined3[combined3['month']== month].number_of_likes.hist(alpha=.4)"
   ]
  },
  {
   "cell_type": "code",
   "execution_count": 265,
   "metadata": {},
   "outputs": [
    {
     "name": "stdout",
     "output_type": "stream",
     "text": [
      "317.41379310344826\n",
      "73.47668106344028\n"
     ]
    }
   ],
   "source": [
    "print(combined3[combined3['butt_pic']==True].number_of_likes.mean())\n",
    "print(combined3[combined3['butt_pic']==True].number_of_likes.std())"
   ]
  },
  {
   "cell_type": "code",
   "execution_count": 266,
   "metadata": {},
   "outputs": [
    {
     "name": "stdout",
     "output_type": "stream",
     "text": [
      "298.3783783783784\n",
      "81.29280115434281\n"
     ]
    }
   ],
   "source": [
    "print(combined3[combined3['pro\\\\model']==True].number_of_likes.mean())\n",
    "print(combined3[combined3['pro\\\\model']==True].number_of_likes.std())"
   ]
  },
  {
   "cell_type": "code",
   "execution_count": null,
   "metadata": {
    "collapsed": true
   },
   "outputs": [],
   "source": []
  }
 ],
 "metadata": {
  "kernelspec": {
   "display_name": "Python 3",
   "language": "python",
   "name": "python3"
  },
  "language_info": {
   "codemirror_mode": {
    "name": "ipython",
    "version": 3
   },
   "file_extension": ".py",
   "mimetype": "text/x-python",
   "name": "python",
   "nbconvert_exporter": "python",
   "pygments_lexer": "ipython3",
   "version": "3.6.1"
  }
 },
 "nbformat": 4,
 "nbformat_minor": 2
}
