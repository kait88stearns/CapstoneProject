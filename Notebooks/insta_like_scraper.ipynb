{
 "cells": [
  {
   "cell_type": "code",
   "execution_count": 10,
   "metadata": {
    "collapsed": true
   },
   "outputs": [],
   "source": [
    "import requests\n",
    "from bs4 import BeautifulSoup\n",
    "import re\n",
    "import json.decoder as decoder\n",
    "import pandas as pd\n",
    "import time \n",
    "from selenium import webdriver\n",
    "import time\n",
    "import math\n",
    "import pandas as pd\n",
    "from selenium.webdriver.common.desired_capabilities import DesiredCapabilities\n",
    "import re"
   ]
  },
  {
   "cell_type": "code",
   "execution_count": 32,
   "metadata": {
    "collapsed": true
   },
   "outputs": [],
   "source": [
    "user= 'driftbikinis@gmail.com'\n",
    "password = 'Stayrad_22'"
   ]
  },
  {
   "cell_type": "code",
   "execution_count": 2,
   "metadata": {
    "collapsed": true
   },
   "outputs": [],
   "source": [
    "response = requests.get('https://www.instagram.com/')\n",
    "soup = BeautifulSoup(response.text, \"html.parser\")\n",
    "decode = decoder.JSONDecoder()"
   ]
  },
  {
   "cell_type": "code",
   "execution_count": 9,
   "metadata": {},
   "outputs": [
    {
     "data": {
      "text/plain": [
       "''"
      ]
     },
     "execution_count": 9,
     "metadata": {},
     "output_type": "execute_result"
    }
   ],
   "source": [
    "soup.find_all('span')[0]"
   ]
  },
  {
   "cell_type": "code",
   "execution_count": 11,
   "metadata": {
    "collapsed": true
   },
   "outputs": [],
   "source": [
    "browser = webdriver.Firefox()"
   ]
  },
  {
   "cell_type": "code",
   "execution_count": 12,
   "metadata": {
    "collapsed": true
   },
   "outputs": [],
   "source": [
    "browser.get(\"https://www.instagram.com/\")\n",
    "browser.find_element_by_class_name(\"_g9ean\").find_element_by_tag_name('a').click()\n",
    "browser.find_element_by_id('f3820d418e8be1').click()\n",
    "browser.find_element_by_id('f3820d418e8be1').send_keys(user)\n",
    "browser.find_element_by_id('f313f32428ecf6a').click()\n",
    "browser.find_element_by_id('f313f32428ecf6a').send_keys(password)\n",
    "browser.find_element_by_tag_name('button').click()\n",
    "browser.find_element_by_class_name(\"_qlijk\").find_elements_by_xpath('div')[1].click()"
   ]
  },
  {
   "cell_type": "code",
   "execution_count": 22,
   "metadata": {
    "collapsed": true
   },
   "outputs": [],
   "source": [
    "browser.find_element_by_id('f313f32428ecf6a').send_keys(password)\n"
   ]
  },
  {
   "cell_type": "code",
   "execution_count": 53,
   "metadata": {},
   "outputs": [],
   "source": [
    "browser.find_element_by_class_name(\"_qlijk\").find_elements_by_xpath('div')[1].click()"
   ]
  },
  {
   "cell_type": "code",
   "execution_count": null,
   "metadata": {
    "collapsed": true
   },
   "outputs": [],
   "source": []
  }
 ],
 "metadata": {
  "kernelspec": {
   "display_name": "Python 3",
   "language": "python",
   "name": "python3"
  },
  "language_info": {
   "codemirror_mode": {
    "name": "ipython",
    "version": 3
   },
   "file_extension": ".py",
   "mimetype": "text/x-python",
   "name": "python",
   "nbconvert_exporter": "python",
   "pygments_lexer": "ipython3",
   "version": "3.6.1"
  }
 },
 "nbformat": 4,
 "nbformat_minor": 2
}
