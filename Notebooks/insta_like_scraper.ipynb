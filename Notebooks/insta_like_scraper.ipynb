{
 "cells": [
  {
   "cell_type": "code",
   "execution_count": 2,
   "metadata": {
    "collapsed": true
   },
   "outputs": [],
   "source": [
    "import requests\n",
    "from bs4 import BeautifulSoup\n",
    "import re\n",
    "import json.decoder as decoder\n",
    "import pandas as pd\n",
    "import time \n",
    "from selenium import webdriver\n",
    "import time\n",
    "import math\n",
    "import pandas as pd\n",
    "from selenium.webdriver.common.desired_capabilities import DesiredCapabilities\n",
    "import re\n",
    "import numpy as np\n"
   ]
  },
  {
   "cell_type": "code",
   "execution_count": 21,
   "metadata": {
    "collapsed": true
   },
   "outputs": [],
   "source": []
  },
  {
   "cell_type": "code",
   "execution_count": 2,
   "metadata": {
    "collapsed": true
   },
   "outputs": [],
   "source": [
    "response = requests.get('https://www.instagram.com/')\n",
    "soup = BeautifulSoup(response.text, \"html.parser\")\n",
    "decode = decoder.JSONDecoder()"
   ]
  },
  {
   "cell_type": "code",
   "execution_count": 9,
   "metadata": {},
   "outputs": [
    {
     "data": {
      "text/plain": [
       "''"
      ]
     },
     "execution_count": 9,
     "metadata": {},
     "output_type": "execute_result"
    }
   ],
   "source": [
    "soup.find_all('span')[0]"
   ]
  },
  {
   "cell_type": "code",
   "execution_count": 252,
   "metadata": {
    "collapsed": true
   },
   "outputs": [],
   "source": [
    "def login_insta():\n",
    "    browser = webdriver.Firefox()\n",
    "    time.sleep(3)\n",
    "    # log into insta and go to profile\n",
    "    browser.get(\"https://www.instagram.com/\")\n",
    "    time.sleep(2)\n",
    "    browser.find_elements_by_class_name('_f9sjj')[1].find_element_by_tag_name('a').click()\n",
    "    browser.find_element_by_class_name('_ev9xl').click()\n",
    "    browser.find_element_by_class_name('_ev9xl').send_keys(user)\n",
    "    browser.find_elements_by_class_name('_ev9xl')[1].click()\n",
    "    browser.find_elements_by_class_name('_ev9xl')[1].send_keys(password)\n",
    "    browser.find_element_by_tag_name('button').click()\n",
    "    return browser"
   ]
  },
  {
   "cell_type": "code",
   "execution_count": 259,
   "metadata": {
    "collapsed": true
   },
   "outputs": [],
   "source": [
    "def scrape_profile_info(browser, user_name):\n",
    "    # go to profile and click on followers\n",
    "    browser.get(\"https://www.instagram.com/{}/\".format(user_name))\n",
    "    time.sleep(2)\n",
    "    browser.find_element_by_class_name('_h9luf').find_elements_by_tag_name('li')[1].click()\n",
    "    num_followers = re.sub('followers','', browser.find_elements_by_class_name('_t98z6')[1].text)\n",
    "    num_followers = int(re.sub(',','', num_followers))\n",
    "    num_more = num_followers - 20\n",
    "    # scroll through page\n",
    "    followers = []\n",
    "    while len(followers) < num_followers:\n",
    "        browser.execute_script(\"\"\"flist= document.getElementsByClassName('_gs38e')[0];\n",
    "    flist.scrollTop = flist.scrollTopMax; \"\"\")\n",
    "        follower_tags = browser.find_elements_by_class_name(\"_2nunc\")\n",
    "        for i in range(len(followers),len(follower_tags)):\n",
    "            followers.append(follower_tags[i].find_element_by_tag_name('a').text)\n",
    "        time.sleep(np.random.normal(3, .2))\n",
    "        num_more -=10\n",
    "    num_posts = int(re.sub('posts', '', browser.find_elements_by_class_name('_t98z6')[0].text))    \n",
    "    num_following = int(re.sub('following', '', browser.find_elements_by_class_name('_t98z6')[2].text))\n",
    "    caption = []\n",
    "    for elem in browser.find_element_by_class_name(\"_tb97a\").find_elements_by_xpath('*'):\n",
    "        caption.append(elem.text)\n",
    "    return {'num_posts': num_posts, 'caption': caption, 'followers': followers, 'num_following':num_following, 'num_followers': num_followers}"
   ]
  },
  {
   "cell_type": "code",
   "execution_count": 260,
   "metadata": {},
   "outputs": [],
   "source": [
    "testing = scrape_profile_info(browser, 'becklerjr')"
   ]
  },
  {
   "cell_type": "code",
   "execution_count": 263,
   "metadata": {},
   "outputs": [
    {
     "data": {
      "text/plain": [
       "44"
      ]
     },
     "execution_count": 263,
     "metadata": {},
     "output_type": "execute_result"
    }
   ],
   "source": []
  },
  {
   "cell_type": "code",
   "execution_count": 224,
   "metadata": {},
   "outputs": [],
   "source": [
    "num_posts = int(re.sub('posts', '', browser.find_elements_by_class_name('_t98z6')[0].text))"
   ]
  },
  {
   "cell_type": "code",
   "execution_count": 228,
   "metadata": {},
   "outputs": [],
   "source": [
    "num_following = int(re.sub('following', '', browser.find_elements_by_class_name('_t98z6')[2].text))"
   ]
  },
  {
   "cell_type": "code",
   "execution_count": 249,
   "metadata": {},
   "outputs": [],
   "source": [
    "caption = []\n",
    "for elem in browser.find_element_by_class_name(\"_tb97a\").find_elements_by_xpath('*'):\n",
    "    caption.append(elem.text)"
   ]
  },
  {
   "cell_type": "code",
   "execution_count": 274,
   "metadata": {},
   "outputs": [],
   "source": [
    "import src.instagram_profile_scraper as in_scrape\n",
    "%autoreload"
   ]
  },
  {
   "cell_type": "code",
   "execution_count": 285,
   "metadata": {},
   "outputs": [],
   "source": [
    "browser = in_scrape.login_insta(user=user, password=password)"
   ]
  },
  {
   "cell_type": "code",
   "execution_count": 292,
   "metadata": {},
   "outputs": [],
   "source": [
    "matt = in_scrape.scrape_profile_info(browser, 'fess_matt_')"
   ]
  },
  {
   "cell_type": "code",
   "execution_count": 293,
   "metadata": {},
   "outputs": [
    {
     "data": {
      "text/plain": [
       "70"
      ]
     },
     "execution_count": 293,
     "metadata": {},
     "output_type": "execute_result"
    }
   ],
   "source": [
    "len(matt['followers'])"
   ]
  },
  {
   "cell_type": "code",
   "execution_count": null,
   "metadata": {
    "collapsed": true
   },
   "outputs": [],
   "source": []
  }
 ],
 "metadata": {
  "kernelspec": {
   "display_name": "Python 3",
   "language": "python",
   "name": "python3"
  },
  "language_info": {
   "codemirror_mode": {
    "name": "ipython",
    "version": 3
   },
   "file_extension": ".py",
   "mimetype": "text/x-python",
   "name": "python",
   "nbconvert_exporter": "python",
   "pygments_lexer": "ipython3",
   "version": "3.6.1"
  }
 },
 "nbformat": 4,
 "nbformat_minor": 2
}
