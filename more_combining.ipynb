{
 "cells": [
  {
   "cell_type": "code",
   "execution_count": 137,
   "metadata": {
    "collapsed": true
   },
   "outputs": [],
   "source": [
    "import pandas as pd\n",
    "import src.scrape_insta\n",
    "import src.clean as clean\n",
    "%autoreload\n",
    "from sklearn.ensemble import GradientBoostingRegressor\n",
    "from sklearn.metrics import mean_squared_error\n",
    "from sklearn.model_selection import train_test_split\n",
    "import numpy as np\n",
    "import re\n",
    "from sklearn.feature_extraction.text import TfidfVectorizer\n",
    "import matplotlib.pyplot as plt\n",
    "%matplotlib inline\n",
    "import pickle\n",
    "from sklearn.model_selection import cross_val_score\n"
   ]
  },
  {
   "cell_type": "code",
   "execution_count": 2,
   "metadata": {
    "collapsed": true
   },
   "outputs": [],
   "source": [
    "qualdf = pd.read_csv('soft_content.txt', sep=\"|\")"
   ]
  },
  {
   "cell_type": "code",
   "execution_count": 3,
   "metadata": {
    "collapsed": true
   },
   "outputs": [],
   "source": [
    "urls = list(qualdf.url.unique())\n",
    "pickle_in2 = open(\"quant_data.pkl\",\"rb\")\n",
    "quant_df = pickle.load(pickle_in2)"
   ]
  },
  {
   "cell_type": "code",
   "execution_count": null,
   "metadata": {
    "collapsed": true
   },
   "outputs": [],
   "source": [
    "def standard_url(thing):\n",
    "    thing = re.sub('https', 'http', thing)\n",
    "    matches = re.findall('http.+?taken',str(thing))\n",
    "    return matches[0]     "
   ]
  },
  {
   "cell_type": "code",
   "execution_count": 107,
   "metadata": {},
   "outputs": [],
   "source": [
    "quant_df['url'] = quant_df['url'].apply(standard_url)\n",
    "qualdf['url'] = qualdf['url'].apply(standard_url)\n",
    "quant_url_index = quant_df.set_index('url', drop=False)\n",
    "qual_url_index = qualdf.set_index('url')\n",
    "combined = pd.concat([quant_url_index, qual_url_index], axis=1, join_axes=[qual_url_index.index])"
   ]
  },
  {
   "cell_type": "code",
   "execution_count": 138,
   "metadata": {},
   "outputs": [],
   "source": [
    "combined2= clean.clean_combined(combined)"
   ]
  },
  {
   "cell_type": "code",
   "execution_count": 117,
   "metadata": {},
   "outputs": [],
   "source": [
    "def make_hashtag_tfidf(combined_df):\n",
    "    hashtag_corpus = list(combined_df.hashtags)\n",
    "    hashtag_corpus2 = take_out_sign(hashtag_corpus)\n",
    "    hashtag_corpus3=[' '.join(hashtag_corpus2[i]) for i in range(len(hashtag_corpus2))]\n",
    "    tfidf_hash = TfidfVectorizer(input='content')\n",
    "    tfidf_hash.fit(hashtag_corpus3)\n",
    "    hash_mat =tfidf_hash.transform(hashtag_corpus3)\n",
    "    tfidf_hash_mat = pd.SparseDataFrame(hash_mat, index = combined_df.index).to_dense().fillna(0)\n",
    "    return tfidf_hash_mat\n",
    "\n",
    "def take_out_sign(hashtag_corpus, sign='\\#'):\n",
    "    new_corp=[]\n",
    "    for tags in hashtag_corpus:\n",
    "        just_words = []\n",
    "        for tag in tags:\n",
    "            just_words.append(re.sub(sign,'',tag))\n",
    "        new_corp.append(just_words)\n",
    "    return new_corp \n"
   ]
  },
  {
   "cell_type": "code",
   "execution_count": 118,
   "metadata": {},
   "outputs": [],
   "source": [
    "hashtag_tfidf = make_hashtag_tfidf(combined)"
   ]
  },
  {
   "cell_type": "code",
   "execution_count": 139,
   "metadata": {},
   "outputs": [],
   "source": [
    "combined3 = pd.concat([combined2, hashtag_tfidf], axis=1)"
   ]
  },
  {
   "cell_type": "code",
   "execution_count": null,
   "metadata": {
    "collapsed": true
   },
   "outputs": [],
   "source": []
  },
  {
   "cell_type": "code",
   "execution_count": 482,
   "metadata": {
    "collapsed": true
   },
   "outputs": [],
   "source": [
    "pickle_out = open(\"hashtags_quant_qual_2017_on.pkl\",\"wb\")\n",
    "pickle.dump(combined3, pickle_out)\n",
    "pickle_out.close()"
   ]
  },
  {
   "cell_type": "code",
   "execution_count": null,
   "metadata": {
    "collapsed": true
   },
   "outputs": [],
   "source": []
  },
  {
   "cell_type": "code",
   "execution_count": null,
   "metadata": {
    "collapsed": true
   },
   "outputs": [],
   "source": []
  },
  {
   "cell_type": "code",
   "execution_count": 140,
   "metadata": {
    "collapsed": true
   },
   "outputs": [],
   "source": [
    "y = combined3['number_of_likes']\n",
    "X = combined3.drop(['number_of_likes'], axis=1)"
   ]
  },
  {
   "cell_type": "code",
   "execution_count": null,
   "metadata": {
    "collapsed": true
   },
   "outputs": [],
   "source": [
    "gbr = GradientBoostingRegressor(learning_rate=0.01, loss='ls',\n",
    "                                min_samples_split=4, n_estimators=600,\n",
    "                                max_depth=2)"
   ]
  },
  {
   "cell_type": "code",
   "execution_count": 141,
   "metadata": {},
   "outputs": [
    {
     "name": "stdout",
     "output_type": "stream",
     "text": [
      "-48.32650195367298\n",
      "[-59.82351088 -26.79792517 -38.82148381 -56.78701579 -29.02385351\n",
      " -45.6659021  -79.10286656 -78.27643562 -66.33822741 -33.7705199\n",
      " -62.25546547 -46.67703938 -27.34032717 -41.54347126 -54.73353018\n",
      " -58.65895547 -45.55458932 -68.56957308 -65.40635927 -87.57694316\n",
      " -63.28730687 -58.03115975 -32.47105586 -24.2059365  -37.67969389\n",
      " -62.52868588 -54.66668763 -22.06287237 -43.08262548 -32.48622174\n",
      " -22.96041188 -26.93641515 -57.52880415 -28.49254001 -47.09419129\n",
      " -28.75812841 -30.18536826 -37.30651891 -92.73716857 -57.83429104]\n"
     ]
    }
   ],
   "source": [
    "scores = cross_val_score(gbr, X, y,cv=40, scoring= 'neg_mean_absolute_error')\n",
    "print(scores.mean())\n",
    "print(scores)"
   ]
  },
  {
   "cell_type": "code",
   "execution_count": 149,
   "metadata": {},
   "outputs": [
    {
     "name": "stdout",
     "output_type": "stream",
     "text": [
      "hour : 0.084\n",
      "month : 0.105\n",
      "num_people_tagged : 0.031\n",
      "female : 0.016\n",
      "no_product : 0.038\n",
      "61 : 0.034\n",
      "73 : 0.025\n",
      "81 : 0.016\n",
      "106 : 0.028\n",
      "125 : 0.016\n",
      "135 : 0.02\n",
      "154 : 0.039\n",
      "158 : 0.019\n",
      "162 : 0.021\n",
      "163 : 0.068\n",
      "168 : 0.018\n",
      "172 : 0.024\n",
      "193 : 0.027\n",
      "195 : 0.026\n",
      "298 : 0.024\n",
      "300 : 0.038\n",
      "301 : 0.026\n",
      "319 : 0.016\n",
      "321 : 0.015\n"
     ]
    }
   ],
   "source": [
    "_= gbr.fit(X.as_matrix(), y.as_matrix())\n",
    "for name, imp in zip(X.columns, gbr.feature_importances_):\n",
    "    if imp > .015:\n",
    "        print(\"{} : {}\".format(name, round(imp,3)))"
   ]
  },
  {
   "cell_type": "markdown",
   "metadata": {},
   "source": [
    "# Visualizing\n"
   ]
  },
  {
   "cell_type": "code",
   "execution_count": 154,
   "metadata": {
    "collapsed": true
   },
   "outputs": [],
   "source": [
    "past_yr = quant_df[quant_df['date_num']>= 20170000]\n",
    "used_in_model = quant_df[(quant_df['date_num']>= 20170430)]\n",
    "just_2017 = quant_df[(quant_df['date_num']>= 20170000) & (quant_df['date_num']< 20180000)]"
   ]
  },
  {
   "cell_type": "code",
   "execution_count": 30,
   "metadata": {},
   "outputs": [
    {
     "name": "stdout",
     "output_type": "stream",
     "text": [
      "275.72222222222223\n",
      "74.42913264888243\n",
      "2017\n",
      "275.2490118577075\n",
      "75.02891802955955\n"
     ]
    }
   ],
   "source": [
    "print(past_yr.number_of_likes.mean())\n",
    "print(past_yr.number_of_likes.std())\n",
    "print(2017)\n",
    "print(just_2017.number_of_likes.mean())\n",
    "print(just_2017.number_of_likes.std())"
   ]
  },
  {
   "cell_type": "code",
   "execution_count": 31,
   "metadata": {},
   "outputs": [
    {
     "name": "stdout",
     "output_type": "stream",
     "text": [
      "253\n",
      "270\n"
     ]
    }
   ],
   "source": [
    "print(len(just_2017))\n",
    "print(len(past_yr))"
   ]
  },
  {
   "cell_type": "code",
   "execution_count": 165,
   "metadata": {},
   "outputs": [
    {
     "data": {
      "image/png": "[encoded data removed]",
      "text/plain": [
       "<matplotlib.figure.Figure at 0x114585cf8>"
      ]
     },
     "metadata": {},
     "output_type": "display_data"
    }
   ],
   "source": [
    "fig, ax = plt.subplots()\n",
    "_=ax.hist(past_yr.number_of_likes)\n",
    "_=ax.set_title('Number of Likes per Post since 2017 Histagram')\n",
    "_=ax.set_xlabel('Number of Likes')\n",
    "\n",
    "#_=ax.axvline(x=275, ymax=60, ymin=0,color='r')"
   ]
  },
  {
   "cell_type": "code",
   "execution_count": 153,
   "metadata": {},
   "outputs": [
    {
     "data": {
      "text/plain": [
       "'http://www.instagram.com/p/BThF546l0hf/?taken'"
      ]
     },
     "execution_count": 153,
     "metadata": {},
     "output_type": "execute_result"
    }
   ],
   "source": [
    "list(combined3.index)[-1]"
   ]
  },
  {
   "cell_type": "code",
   "execution_count": 163,
   "metadata": {},
   "outputs": [
    {
     "data": {
      "image/png": "[encoded data removed]",
      "text/plain": [
       "<matplotlib.figure.Figure at 0x113d03fd0>"
      ]
     },
     "metadata": {},
     "output_type": "display_data"
    }
   ],
   "source": [
    "fig, ax = plt.subplots()\n",
    "_=ax.hist(used_in_model.number_of_likes)\n",
    "_=ax.set_title('Number of Likes per Post Histagram')\n",
    "_=ax.set_xlabel('Number of Likes')\n",
    "#_=ax.axvline(x=275, ymax=60, ymin=0,color='r')"
   ]
  },
  {
   "cell_type": "code",
   "execution_count": 157,
   "metadata": {},
   "outputs": [
    {
     "name": "stdout",
     "output_type": "stream",
     "text": [
      "275.72222222222223\n",
      "74.42913264888242\n",
      "2017- present\n"
     ]
    }
   ],
   "source": [
    "print(past_yr.number_of_likes.mean())\n",
    "print(past_yr.number_of_likes.std())\n",
    "print('2017- present')"
   ]
  },
  {
   "cell_type": "code",
   "execution_count": 161,
   "metadata": {},
   "outputs": [
    {
     "name": "stdout",
     "output_type": "stream",
     "text": [
      "Mean Number of Likes = 256.89\n",
      "Standard Deviation of Likes = 70.37\n"
     ]
    }
   ],
   "source": [
    "print(\"Mean Number of Likes = {}\".format(round(used_in_model.number_of_likes.mean(), 2)))\n",
    "print(\"Standard Deviation of Likes = {}\".format(round(used_in_model.number_of_likes.std(),2)))\n"
   ]
  },
  {
   "cell_type": "code",
   "execution_count": 166,
   "metadata": {
    "collapsed": true
   },
   "outputs": [],
   "source": [
    "from sklearn.cluster import KMeans"
   ]
  },
  {
   "cell_type": "code",
   "execution_count": 199,
   "metadata": {},
   "outputs": [
    {
     "data": {
      "text/plain": [
       "KMeans(algorithm='auto', copy_x=True, init='k-means++', max_iter=300,\n",
       "    n_clusters=2, n_init=10, n_jobs=1, precompute_distances='auto',\n",
       "    random_state=None, tol=0.0001, verbose=0)"
      ]
     },
     "execution_count": 199,
     "metadata": {},
     "output_type": "execute_result"
    }
   ],
   "source": []
  },
  {
   "cell_type": "code",
   "execution_count": 261,
   "metadata": {
    "collapsed": true
   },
   "outputs": [],
   "source": [
    "qualitative = X[['num_people_tagged','faces_visible','sale','edited', 'butt_pic', 'ocean', 'skate',\n",
    " 'drift_content', 'product_shot', 'lifestyle', 'in_shop', 'pro\\\\model', 'in_nature', 'surf',\n",
    " 'male', 'female', 'mixed_gender', 'bikini', 'apparel', 'biki+apparel', 'no_product']]"
   ]
  },
  {
   "cell_type": "code",
   "execution_count": null,
   "metadata": {
    "collapsed": true
   },
   "outputs": [],
   "source": [
    "hashtag_tfidf"
   ]
  },
  {
   "cell_type": "code",
   "execution_count": 289,
   "metadata": {
    "collapsed": true
   },
   "outputs": [],
   "source": [
    "from sklearn import preprocessing"
   ]
  },
  {
   "cell_type": "code",
   "execution_count": 291,
   "metadata": {
    "collapsed": true
   },
   "outputs": [],
   "source": [
    "scaler = preprocessing.StandardScaler()\n",
    "scaled = scaler.fit_transform(qualitative)"
   ]
  },
  {
   "cell_type": "code",
   "execution_count": 467,
   "metadata": {},
   "outputs": [
    {
     "ename": "KeyError",
     "evalue": "17",
     "output_type": "error",
     "traceback": [
      "\u001b[0;31m---------------------------------------------------------------------------\u001b[0m",
      "\u001b[0;31mKeyError\u001b[0m                                  Traceback (most recent call last)",
      "\u001b[0;32m/Applications/anaconda/lib/python3.6/site-packages/pandas/core/indexes/base.py\u001b[0m in \u001b[0;36mget_loc\u001b[0;34m(self, key, method, tolerance)\u001b[0m\n\u001b[1;32m   2521\u001b[0m             \u001b[0;32mtry\u001b[0m\u001b[0;34m:\u001b[0m\u001b[0;34m\u001b[0m\u001b[0m\n\u001b[0;32m-> 2522\u001b[0;31m                 \u001b[0;32mreturn\u001b[0m \u001b[0mself\u001b[0m\u001b[0;34m.\u001b[0m\u001b[0m_engine\u001b[0m\u001b[0;34m.\u001b[0m\u001b[0mget_loc\u001b[0m\u001b[0;34m(\u001b[0m\u001b[0mkey\u001b[0m\u001b[0;34m)\u001b[0m\u001b[0;34m\u001b[0m\u001b[0m\n\u001b[0m\u001b[1;32m   2523\u001b[0m             \u001b[0;32mexcept\u001b[0m \u001b[0mKeyError\u001b[0m\u001b[0;34m:\u001b[0m\u001b[0;34m\u001b[0m\u001b[0m\n",
      "\u001b[0;32mpandas/_libs/index.pyx\u001b[0m in \u001b[0;36mpandas._libs.index.IndexEngine.get_loc\u001b[0;34m()\u001b[0m\n",
      "\u001b[0;32mpandas/_libs/index.pyx\u001b[0m in \u001b[0;36mpandas._libs.index.IndexEngine.get_loc\u001b[0;34m()\u001b[0m\n",
      "\u001b[0;32mpandas/_libs/hashtable_class_helper.pxi\u001b[0m in \u001b[0;36mpandas._libs.hashtable.PyObjectHashTable.get_item\u001b[0;34m()\u001b[0m\n",
      "\u001b[0;32mpandas/_libs/hashtable_class_helper.pxi\u001b[0m in \u001b[0;36mpandas._libs.hashtable.PyObjectHashTable.get_item\u001b[0;34m()\u001b[0m\n",
      "\u001b[0;31mKeyError\u001b[0m: 17",
      "\nDuring handling of the above exception, another exception occurred:\n",
      "\u001b[0;31mKeyError\u001b[0m                                  Traceback (most recent call last)",
      "\u001b[0;32m<ipython-input-467-f2ec603c21ca>\u001b[0m in \u001b[0;36m<module>\u001b[0;34m()\u001b[0m\n\u001b[1;32m      1\u001b[0m \u001b[0;32mfor\u001b[0m \u001b[0mcenter\u001b[0m \u001b[0;32min\u001b[0m \u001b[0mlist\u001b[0m\u001b[0;34m(\u001b[0m\u001b[0mlist\u001b[0m\u001b[0;34m(\u001b[0m\u001b[0mkmeans\u001b[0m\u001b[0;34m.\u001b[0m\u001b[0mcluster_centers_\u001b[0m\u001b[0;34m)\u001b[0m\u001b[0;34m)\u001b[0m\u001b[0;34m:\u001b[0m\u001b[0;34m\u001b[0m\u001b[0m\n\u001b[1;32m      2\u001b[0m     \u001b[0mindex\u001b[0m \u001b[0;34m=\u001b[0m \u001b[0mnp\u001b[0m\u001b[0;34m.\u001b[0m\u001b[0margmax\u001b[0m\u001b[0;34m(\u001b[0m\u001b[0mcenter\u001b[0m\u001b[0;34m)\u001b[0m\u001b[0;34m\u001b[0m\u001b[0m\n\u001b[0;32m----> 3\u001b[0;31m     \u001b[0mprint\u001b[0m\u001b[0;34m(\u001b[0m\u001b[0mqualitative\u001b[0m\u001b[0;34m[\u001b[0m\u001b[0mindex\u001b[0m\u001b[0;34m]\u001b[0m\u001b[0;34m)\u001b[0m\u001b[0;34m\u001b[0m\u001b[0m\n\u001b[0m\u001b[1;32m      4\u001b[0m \u001b[0;34m\u001b[0m\u001b[0m\n",
      "\u001b[0;32m/Applications/anaconda/lib/python3.6/site-packages/pandas/core/frame.py\u001b[0m in \u001b[0;36m__getitem__\u001b[0;34m(self, key)\u001b[0m\n\u001b[1;32m   2137\u001b[0m             \u001b[0;32mreturn\u001b[0m \u001b[0mself\u001b[0m\u001b[0;34m.\u001b[0m\u001b[0m_getitem_multilevel\u001b[0m\u001b[0;34m(\u001b[0m\u001b[0mkey\u001b[0m\u001b[0;34m)\u001b[0m\u001b[0;34m\u001b[0m\u001b[0m\n\u001b[1;32m   2138\u001b[0m         \u001b[0;32melse\u001b[0m\u001b[0;34m:\u001b[0m\u001b[0;34m\u001b[0m\u001b[0m\n\u001b[0;32m-> 2139\u001b[0;31m             \u001b[0;32mreturn\u001b[0m \u001b[0mself\u001b[0m\u001b[0;34m.\u001b[0m\u001b[0m_getitem_column\u001b[0m\u001b[0;34m(\u001b[0m\u001b[0mkey\u001b[0m\u001b[0;34m)\u001b[0m\u001b[0;34m\u001b[0m\u001b[0m\n\u001b[0m\u001b[1;32m   2140\u001b[0m \u001b[0;34m\u001b[0m\u001b[0m\n\u001b[1;32m   2141\u001b[0m     \u001b[0;32mdef\u001b[0m \u001b[0m_getitem_column\u001b[0m\u001b[0;34m(\u001b[0m\u001b[0mself\u001b[0m\u001b[0;34m,\u001b[0m \u001b[0mkey\u001b[0m\u001b[0;34m)\u001b[0m\u001b[0;34m:\u001b[0m\u001b[0;34m\u001b[0m\u001b[0m\n",
      "\u001b[0;32m/Applications/anaconda/lib/python3.6/site-packages/pandas/core/frame.py\u001b[0m in \u001b[0;36m_getitem_column\u001b[0;34m(self, key)\u001b[0m\n\u001b[1;32m   2144\u001b[0m         \u001b[0;31m# get column\u001b[0m\u001b[0;34m\u001b[0m\u001b[0;34m\u001b[0m\u001b[0m\n\u001b[1;32m   2145\u001b[0m         \u001b[0;32mif\u001b[0m \u001b[0mself\u001b[0m\u001b[0;34m.\u001b[0m\u001b[0mcolumns\u001b[0m\u001b[0;34m.\u001b[0m\u001b[0mis_unique\u001b[0m\u001b[0;34m:\u001b[0m\u001b[0;34m\u001b[0m\u001b[0m\n\u001b[0;32m-> 2146\u001b[0;31m             \u001b[0;32mreturn\u001b[0m \u001b[0mself\u001b[0m\u001b[0;34m.\u001b[0m\u001b[0m_get_item_cache\u001b[0m\u001b[0;34m(\u001b[0m\u001b[0mkey\u001b[0m\u001b[0;34m)\u001b[0m\u001b[0;34m\u001b[0m\u001b[0m\n\u001b[0m\u001b[1;32m   2147\u001b[0m \u001b[0;34m\u001b[0m\u001b[0m\n\u001b[1;32m   2148\u001b[0m         \u001b[0;31m# duplicate columns & possible reduce dimensionality\u001b[0m\u001b[0;34m\u001b[0m\u001b[0;34m\u001b[0m\u001b[0m\n",
      "\u001b[0;32m/Applications/anaconda/lib/python3.6/site-packages/pandas/core/generic.py\u001b[0m in \u001b[0;36m_get_item_cache\u001b[0;34m(self, item)\u001b[0m\n\u001b[1;32m   1840\u001b[0m         \u001b[0mres\u001b[0m \u001b[0;34m=\u001b[0m \u001b[0mcache\u001b[0m\u001b[0;34m.\u001b[0m\u001b[0mget\u001b[0m\u001b[0;34m(\u001b[0m\u001b[0mitem\u001b[0m\u001b[0;34m)\u001b[0m\u001b[0;34m\u001b[0m\u001b[0m\n\u001b[1;32m   1841\u001b[0m         \u001b[0;32mif\u001b[0m \u001b[0mres\u001b[0m \u001b[0;32mis\u001b[0m \u001b[0;32mNone\u001b[0m\u001b[0;34m:\u001b[0m\u001b[0;34m\u001b[0m\u001b[0m\n\u001b[0;32m-> 1842\u001b[0;31m             \u001b[0mvalues\u001b[0m \u001b[0;34m=\u001b[0m \u001b[0mself\u001b[0m\u001b[0;34m.\u001b[0m\u001b[0m_data\u001b[0m\u001b[0;34m.\u001b[0m\u001b[0mget\u001b[0m\u001b[0;34m(\u001b[0m\u001b[0mitem\u001b[0m\u001b[0;34m)\u001b[0m\u001b[0;34m\u001b[0m\u001b[0m\n\u001b[0m\u001b[1;32m   1843\u001b[0m             \u001b[0mres\u001b[0m \u001b[0;34m=\u001b[0m \u001b[0mself\u001b[0m\u001b[0;34m.\u001b[0m\u001b[0m_box_item_values\u001b[0m\u001b[0;34m(\u001b[0m\u001b[0mitem\u001b[0m\u001b[0;34m,\u001b[0m \u001b[0mvalues\u001b[0m\u001b[0;34m)\u001b[0m\u001b[0;34m\u001b[0m\u001b[0m\n\u001b[1;32m   1844\u001b[0m             \u001b[0mcache\u001b[0m\u001b[0;34m[\u001b[0m\u001b[0mitem\u001b[0m\u001b[0;34m]\u001b[0m \u001b[0;34m=\u001b[0m \u001b[0mres\u001b[0m\u001b[0;34m\u001b[0m\u001b[0m\n",
      "\u001b[0;32m/Applications/anaconda/lib/python3.6/site-packages/pandas/core/internals.py\u001b[0m in \u001b[0;36mget\u001b[0;34m(self, item, fastpath)\u001b[0m\n\u001b[1;32m   3836\u001b[0m \u001b[0;34m\u001b[0m\u001b[0m\n\u001b[1;32m   3837\u001b[0m             \u001b[0;32mif\u001b[0m \u001b[0;32mnot\u001b[0m \u001b[0misna\u001b[0m\u001b[0;34m(\u001b[0m\u001b[0mitem\u001b[0m\u001b[0;34m)\u001b[0m\u001b[0;34m:\u001b[0m\u001b[0;34m\u001b[0m\u001b[0m\n\u001b[0;32m-> 3838\u001b[0;31m                 \u001b[0mloc\u001b[0m \u001b[0;34m=\u001b[0m \u001b[0mself\u001b[0m\u001b[0;34m.\u001b[0m\u001b[0mitems\u001b[0m\u001b[0;34m.\u001b[0m\u001b[0mget_loc\u001b[0m\u001b[0;34m(\u001b[0m\u001b[0mitem\u001b[0m\u001b[0;34m)\u001b[0m\u001b[0;34m\u001b[0m\u001b[0m\n\u001b[0m\u001b[1;32m   3839\u001b[0m             \u001b[0;32melse\u001b[0m\u001b[0;34m:\u001b[0m\u001b[0;34m\u001b[0m\u001b[0m\n\u001b[1;32m   3840\u001b[0m                 \u001b[0mindexer\u001b[0m \u001b[0;34m=\u001b[0m \u001b[0mnp\u001b[0m\u001b[0;34m.\u001b[0m\u001b[0marange\u001b[0m\u001b[0;34m(\u001b[0m\u001b[0mlen\u001b[0m\u001b[0;34m(\u001b[0m\u001b[0mself\u001b[0m\u001b[0;34m.\u001b[0m\u001b[0mitems\u001b[0m\u001b[0;34m)\u001b[0m\u001b[0;34m)\u001b[0m\u001b[0;34m[\u001b[0m\u001b[0misna\u001b[0m\u001b[0;34m(\u001b[0m\u001b[0mself\u001b[0m\u001b[0;34m.\u001b[0m\u001b[0mitems\u001b[0m\u001b[0;34m)\u001b[0m\u001b[0;34m]\u001b[0m\u001b[0;34m\u001b[0m\u001b[0m\n",
      "\u001b[0;32m/Applications/anaconda/lib/python3.6/site-packages/pandas/core/indexes/base.py\u001b[0m in \u001b[0;36mget_loc\u001b[0;34m(self, key, method, tolerance)\u001b[0m\n\u001b[1;32m   2522\u001b[0m                 \u001b[0;32mreturn\u001b[0m \u001b[0mself\u001b[0m\u001b[0;34m.\u001b[0m\u001b[0m_engine\u001b[0m\u001b[0;34m.\u001b[0m\u001b[0mget_loc\u001b[0m\u001b[0;34m(\u001b[0m\u001b[0mkey\u001b[0m\u001b[0;34m)\u001b[0m\u001b[0;34m\u001b[0m\u001b[0m\n\u001b[1;32m   2523\u001b[0m             \u001b[0;32mexcept\u001b[0m \u001b[0mKeyError\u001b[0m\u001b[0;34m:\u001b[0m\u001b[0;34m\u001b[0m\u001b[0m\n\u001b[0;32m-> 2524\u001b[0;31m                 \u001b[0;32mreturn\u001b[0m \u001b[0mself\u001b[0m\u001b[0;34m.\u001b[0m\u001b[0m_engine\u001b[0m\u001b[0;34m.\u001b[0m\u001b[0mget_loc\u001b[0m\u001b[0;34m(\u001b[0m\u001b[0mself\u001b[0m\u001b[0;34m.\u001b[0m\u001b[0m_maybe_cast_indexer\u001b[0m\u001b[0;34m(\u001b[0m\u001b[0mkey\u001b[0m\u001b[0;34m)\u001b[0m\u001b[0;34m)\u001b[0m\u001b[0;34m\u001b[0m\u001b[0m\n\u001b[0m\u001b[1;32m   2525\u001b[0m \u001b[0;34m\u001b[0m\u001b[0m\n\u001b[1;32m   2526\u001b[0m         \u001b[0mindexer\u001b[0m \u001b[0;34m=\u001b[0m \u001b[0mself\u001b[0m\u001b[0;34m.\u001b[0m\u001b[0mget_indexer\u001b[0m\u001b[0;34m(\u001b[0m\u001b[0;34m[\u001b[0m\u001b[0mkey\u001b[0m\u001b[0;34m]\u001b[0m\u001b[0;34m,\u001b[0m \u001b[0mmethod\u001b[0m\u001b[0;34m=\u001b[0m\u001b[0mmethod\u001b[0m\u001b[0;34m,\u001b[0m \u001b[0mtolerance\u001b[0m\u001b[0;34m=\u001b[0m\u001b[0mtolerance\u001b[0m\u001b[0;34m)\u001b[0m\u001b[0;34m\u001b[0m\u001b[0m\n",
      "\u001b[0;32mpandas/_libs/index.pyx\u001b[0m in \u001b[0;36mpandas._libs.index.IndexEngine.get_loc\u001b[0;34m()\u001b[0m\n",
      "\u001b[0;32mpandas/_libs/index.pyx\u001b[0m in \u001b[0;36mpandas._libs.index.IndexEngine.get_loc\u001b[0;34m()\u001b[0m\n",
      "\u001b[0;32mpandas/_libs/hashtable_class_helper.pxi\u001b[0m in \u001b[0;36mpandas._libs.hashtable.PyObjectHashTable.get_item\u001b[0;34m()\u001b[0m\n",
      "\u001b[0;32mpandas/_libs/hashtable_class_helper.pxi\u001b[0m in \u001b[0;36mpandas._libs.hashtable.PyObjectHashTable.get_item\u001b[0;34m()\u001b[0m\n",
      "\u001b[0;31mKeyError\u001b[0m: 17"
     ]
    }
   ],
   "source": [
    "for center in list(list(kmeans.cluster_centers_)):\n",
    "    index = np.argmax(center)\n",
    "    print(qualitative[index])\n",
    "    \n"
   ]
  },
  {
   "cell_type": "code",
   "execution_count": 415,
   "metadata": {
    "scrolled": true
   },
   "outputs": [
    {
     "data": {
      "text/plain": [
       "array([[ 0.06056714, -0.6336086 , -0.16351749, ..., -1.07578035,\n",
       "        -0.25819889, -0.41319694],\n",
       "       [ 1.22345625, -0.6336086 , -0.16351749, ...,  0.92955778,\n",
       "        -0.25819889, -0.41319694],\n",
       "       [ 0.06056714, -0.6336086 , -0.16351749, ..., -1.07578035,\n",
       "        -0.25819889,  2.42015348],\n",
       "       ...,\n",
       "       [ 0.06056714,  1.57826141, -0.16351749, ...,  0.92955778,\n",
       "        -0.25819889, -0.41319694],\n",
       "       [ 0.06056714,  1.57826141, -0.16351749, ..., -1.07578035,\n",
       "         3.87298335, -0.41319694],\n",
       "       [ 0.06056714, -0.6336086 , -0.16351749, ..., -1.07578035,\n",
       "        -0.25819889,  2.42015348]])"
      ]
     },
     "execution_count": 415,
     "metadata": {},
     "output_type": "execute_result"
    }
   ],
   "source": [
    "scaled"
   ]
  },
  {
   "cell_type": "code",
   "execution_count": 381,
   "metadata": {},
   "outputs": [
    {
     "data": {
      "text/plain": [
       "Index(['num_people_tagged', 'faces_visible', 'sale', 'edited', 'butt_pic',\n",
       "       'ocean', 'skate', 'drift_content', 'product_shot', 'lifestyle',\n",
       "       'in_shop', 'pro\\model', 'in_nature', 'surf', 'male', 'female',\n",
       "       'mixed_gender', 'bikini', 'apparel', 'biki+apparel', 'no_product'],\n",
       "      dtype='object')"
      ]
     },
     "execution_count": 381,
     "metadata": {},
     "output_type": "execute_result"
    }
   ],
   "source": [
    "qualitative.drop()"
   ]
  },
  {
   "cell_type": "code",
   "execution_count": 468,
   "metadata": {},
   "outputs": [
    {
     "data": {
      "text/plain": [
       "[(2, 0.15904193602387542),\n",
       " (3, 0.16614031580824037),\n",
       " (4, 0.17268744301366637),\n",
       " (5, 0.1969274588028005),\n",
       " (6, 0.19766298166614482),\n",
       " (7, 0.2153665711377095),\n",
       " (8, 0.222103126807682),\n",
       " (9, 0.23199441925142375),\n",
       " (10, 0.23376314503129117),\n",
       " (11, 0.24594170067316423),\n",
       " (12, 0.24363802509223284),\n",
       " (13, 0.2647751397827459),\n",
       " (14, 0.2700897308044264),\n",
       " (15, 0.28624570422417855),\n",
       " (16, 0.287658706460229),\n",
       " (17, 0.28421508412068686),\n",
       " (18, 0.2869853297920036),\n",
       " (19, 0.294756988504463),\n",
       " (20, 0.29759503359410727),\n",
       " (21, 0.2967578343132838),\n",
       " (22, 0.3036241275806688),\n",
       " (23, 0.30152473674316677),\n",
       " (24, 0.30720882181645354),\n",
       " (25, 0.3158866046218036),\n",
       " (26, 0.3151391621301038),\n",
       " (27, 0.31923985258079746),\n",
       " (28, 0.3257811993033487),\n",
       " (29, 0.3255305304903222),\n",
       " (30, 0.3253754286150328),\n",
       " (31, 0.32734934776578783),\n",
       " (32, 0.3233579506698927)]"
      ]
     },
     "execution_count": 468,
     "metadata": {},
     "output_type": "execute_result"
    }
   ],
   "source": [
    "sil_scores "
   ]
  },
  {
   "cell_type": "code",
   "execution_count": 448,
   "metadata": {},
   "outputs": [
    {
     "name": "stdout",
     "output_type": "stream",
     "text": [
      "0.3233579506698927\n"
     ]
    }
   ],
   "source": [
    "i=32\n",
    "kmeans = KMeans(n_clusters=i)\n",
    "kmeans.fit(scaled)\n",
    "clustered= kmeans.predict(scaled) \n",
    "sil = silhouette_score(scaled,clustered)\n",
    "print (sil)\n",
    "sil_scores.append((i,sil))"
   ]
  },
  {
   "cell_type": "code",
   "execution_count": 452,
   "metadata": {},
   "outputs": [
    {
     "data": {
      "text/plain": [
       "array([[-0.17201068,  1.13588741, -0.16351749, -0.31167749, -0.31167749,\n",
       "        -0.48857924, -0.32163376,  0.2736451 , -0.16883246,  0.8542422 ,\n",
       "        -0.74053163, -0.39576067,  0.48934345, -0.36891012, -0.5372063 ,\n",
       "         0.84515425, -0.48857924,  1.70832296, -1.07578035, -0.25819889,\n",
       "        -0.41319694],\n",
       "       [-0.73891912, -0.6336086 , -0.16351749, -0.31167749, -0.31167749,\n",
       "        -0.48857924, -0.32163376,  1.07578035, -0.46897905, -1.17062819,\n",
       "         0.56628889, -0.39576067, -0.50487816, -0.36891012, -0.5372063 ,\n",
       "        -1.18321596,  2.04675089, -0.58536941,  0.92955778, -0.25819889,\n",
       "        -0.41319694],\n",
       "       [-0.25658443,  0.97502414, -0.16351749,  0.00833362, -0.31167749,\n",
       "        -0.25809469, -0.32163376,  1.07578035, -0.96922337,  0.8542422 ,\n",
       "         0.97021524, -0.39576067, -0.50487816, -0.36891012, -0.3191437 ,\n",
       "         0.66075696, -0.48857924, -0.58536941,  0.74725431, -0.25819889,\n",
       "        -0.15561962],\n",
       "       [-0.87868945, -0.6336086 , -0.16351749, -0.31167749, -0.31167749,\n",
       "        -0.48857924, -0.32163376,  1.07578035,  0.56998992, -1.01486893,\n",
       "         1.35038121, -0.39576067, -0.50487816, -0.36891012, -0.5372063 ,\n",
       "         0.84515425, -0.48857924, -0.58536941,  0.92955778, -0.25819889,\n",
       "        -0.41319694],\n",
       "       [ 0.5891531 ,  0.17070777, -0.16351749, -0.31167749, -0.31167749,\n",
       "        -0.48857924,  3.10912635, -0.20034391, -0.78731634,  0.67016307,\n",
       "        -0.74053163, -0.39576067, -0.50487816, -0.36891012,  1.64341968,\n",
       "        -0.99881866, -0.48857924, -0.58536941,  0.74725431, -0.25819889,\n",
       "        -0.15561962],\n",
       "       [ 0.75830061,  1.57826141, -0.16351749, -0.31167749, -0.31167749,\n",
       "        -0.48857924, -0.32163376, -0.52849015,  1.03175391, -0.76565412,\n",
       "         1.35038121,  2.52677965, -0.50487816, -0.36891012, -0.5372063 ,\n",
       "         0.84515425, -0.48857924, -0.58536941, -1.07578035,  3.87298335,\n",
       "        -0.41319694],\n",
       "       [-0.03634028, -0.6336086 , -0.16351749, -0.31167749, -0.31167749,\n",
       "         2.04675089, -0.32163376, -0.26111174, -0.96922337,  0.8542422 ,\n",
       "        -0.74053163, -0.39576067,  1.98067588,  2.71068738,  1.86148228,\n",
       "        -1.18321596, -0.48857924, -0.58536941, -1.07578035, -0.25819889,\n",
       "         2.42015348],\n",
       "       [-0.71469226,  0.10368141,  6.11555394,  3.20844474, -0.31167749,\n",
       "        -0.48857924, -0.32163376,  0.40733431, -0.96922337, -1.17062819,\n",
       "        -0.74053163, -0.39576067, -0.50487816, -0.36891012, -0.5372063 ,\n",
       "         0.16903085,  0.3565308 , -0.58536941, -1.07578035, -0.25819889,\n",
       "         2.42015348],\n",
       "       [-0.084794  , -0.6336086 , -0.16351749, -0.31167749,  3.20844474,\n",
       "         2.04675089, -0.32163376, -0.92955778,  0.53150959,  0.3480246 ,\n",
       "        -0.74053163,  0.33487441,  1.98067588, -0.36891012, -0.5372063 ,\n",
       "         0.84515425, -0.48857924,  1.70832296, -1.07578035, -0.25819889,\n",
       "        -0.41319694],\n",
       "       [ 0.44819684, -0.6336086 , -0.16351749, -0.31167749,  3.20844474,\n",
       "        -0.06602422,  0.25015959, -0.26111174, -0.30223094, -0.158193  ,\n",
       "        -0.39204616, -0.39576067, -0.50487816, -0.36891012, -0.5372063 ,\n",
       "         0.84515425, -0.48857924,  1.70832296, -1.07578035, -0.25819889,\n",
       "        -0.41319694],\n",
       "       [-0.78517039, -0.4325295 , -0.16351749,  0.00833362, -0.31167749,\n",
       "        -0.48857924, -0.32163376,  0.89347689,  1.03175391, -1.17062819,\n",
       "         1.35038121, -0.39576067, -0.50487816, -0.36891012,  1.86148228,\n",
       "        -1.18321596, -0.48857924, -0.58536941,  0.92955778, -0.25819889,\n",
       "        -0.41319694],\n",
       "       [ 0.44819684, -0.6336086 , -0.16351749, -0.31167749, -0.31167749,\n",
       "         1.62419586, -0.32163376,  0.07311129, -0.30223094,  0.8542422 ,\n",
       "        -0.74053163, -0.39576067,  1.56641687,  0.65762238,  1.86148228,\n",
       "        -1.18321596, -0.48857924, -0.58536941,  0.92955778, -0.25819889,\n",
       "        -0.41319694],\n",
       "       [ 0.44819684,  1.57826141, -0.16351749, -0.31167749, -0.31167749,\n",
       "        -0.48857924, -0.32163376, -0.59533476,  0.6982577 ,  0.1792854 ,\n",
       "        -0.39204616, -0.39576067, -0.50487816, -0.36891012, -0.5372063 ,\n",
       "         0.84515425, -0.48857924, -0.58536941,  0.92955778, -0.25819889,\n",
       "        -0.41319694],\n",
       "       [ 1.0296414 ,  0.65664891, -0.16351749, -0.31167749, -0.31167749,\n",
       "        -0.48857924, -0.32163376, -0.92955778,  0.53150959,  0.3480246 ,\n",
       "        -0.39204616,  2.52677965,  0.11651035,  0.14435613, -0.5372063 ,\n",
       "         0.84515425, -0.48857924,  1.70832296, -1.07578035, -0.25819889,\n",
       "        -0.41319694],\n",
       "       [ 0.06056714, -0.6336086 , -0.16351749, -0.31167749, -0.31167749,\n",
       "         2.04675089, -0.32163376, -0.52849015, -0.56902791,  0.8542422 ,\n",
       "        -0.74053163, -0.39576067,  1.98067588, -0.36891012, -0.5372063 ,\n",
       "         0.84515425, -0.48857924, -0.58536941,  0.52849015, -0.25819889,\n",
       "         0.15347315],\n",
       "       [-1.19922939, -0.6336086 , -0.16351749, -0.31167749, -0.31167749,\n",
       "        -0.48857924, -0.32163376,  1.07578035,  1.03175391, -1.17062819,\n",
       "         1.35038121, -0.39576067, -0.50487816, -0.36891012, -0.5372063 ,\n",
       "        -1.18321596,  2.04675089, -0.58536941,  0.92955778, -0.25819889,\n",
       "        -0.41319694],\n",
       "       [ 1.4172711 ,  1.57826141, -0.16351749, -0.31167749, -0.31167749,\n",
       "        -0.48857924, -0.32163376, -0.92955778,  0.36476148,  0.8542422 ,\n",
       "        -0.74053163, -0.39576067, -0.50487816, -0.36891012, -0.5372063 ,\n",
       "        -1.18321596,  2.04675089, -0.58536941,  0.92955778, -0.25819889,\n",
       "        -0.41319694],\n",
       "       [-0.23015514, -0.6336086 , -0.16351749,  3.20844474, -0.31167749,\n",
       "        -0.48857924, -0.32163376,  0.07311129, -0.46897905, -1.17062819,\n",
       "        -0.74053163, -0.39576067, -0.50487816, -0.36891012, -0.5372063 ,\n",
       "        -0.16903085,  0.77908582, -0.58536941, -0.57444582, -0.25819889,\n",
       "         1.71181587],\n",
       "       [ 0.35128942,  0.47232641, -0.16351749,  3.20844474, -0.31167749,\n",
       "         0.77908582, -0.32163376,  0.07311129,  0.03126527,  0.8542422 ,\n",
       "        -0.74053163, -0.39576067, -0.50487816, -0.36891012, -0.5372063 ,\n",
       "         0.84515425, -0.48857924,  1.70832296, -1.07578035, -0.25819889,\n",
       "        -0.41319694],\n",
       "       [ 1.22345625,  1.57826141,  6.11555394,  3.20844474, -0.31167749,\n",
       "         2.04675089, -0.32163376, -0.92955778, -0.96922337,  0.8542422 ,\n",
       "        -0.74053163, -0.39576067, -0.50487816,  2.71068738,  1.86148228,\n",
       "        -1.18321596, -0.48857924, -0.58536941, -1.07578035, -0.25819889,\n",
       "         2.42015348],\n",
       "       [-1.10232197, -0.6336086 , -0.16351749, -0.31167749, -0.31167749,\n",
       "        -0.48857924, -0.32163376,  0.74155733,  1.03175391, -1.17062819,\n",
       "         1.00189574, -0.39576067, -0.50487816, -0.36891012, -0.5372063 ,\n",
       "         0.84515425, -0.48857924,  1.70832296, -1.07578035, -0.25819889,\n",
       "        -0.41319694],\n",
       "       [ 0.15002015, -0.6336086 , -0.16351749, -0.31167749, -0.31167749,\n",
       "        -0.48857924, -0.05772914, -0.775301  ,  0.10822593,  0.38696441,\n",
       "        -0.41885273, -0.17094987, -0.50487816, -0.36891012, -0.35269179,\n",
       "         0.68912578, -0.48857924, -0.58536941,  0.62104422, -0.25819889,\n",
       "         0.02270313],\n",
       "       [-0.28829959, -0.19123459, -0.16351749, -0.31167749, -0.31167749,\n",
       "         0.01848678, -0.32163376, -0.52849015, -0.96922337,  0.04429404,\n",
       "        -0.74053163, -0.39576067, -0.00776736, -0.36891012, -0.5372063 ,\n",
       "        -1.18321596,  2.04675089, -0.58536941, -1.07578035, -0.25819889,\n",
       "         2.42015348],\n",
       "       [ 0.17685605, -0.19123459, -0.16351749,  0.39234696, -0.31167749,\n",
       "         2.04675089, -0.32163376, -0.92955778, -0.96922337,  0.8542422 ,\n",
       "        -0.74053163, -0.39576067,  1.98067588,  2.71068738, -0.5372063 ,\n",
       "         0.43948021,  0.01848678,  1.70832296, -1.07578035, -0.25819889,\n",
       "        -0.41319694],\n",
       "       [ 0.06056714, -0.6336086 ,  6.11555394,  3.20844474, -0.31167749,\n",
       "        -0.48857924, -0.32163376,  1.07578035, -0.96922337,  0.8542422 ,\n",
       "        -0.74053163, -0.39576067, -0.50487816, -0.36891012, -0.5372063 ,\n",
       "        -1.18321596,  2.04675089, -0.58536941, -1.07578035,  3.87298335,\n",
       "        -0.41319694],\n",
       "       [ 0.87458952, -0.6336086 , -0.16351749,  0.39234696,  3.20844474,\n",
       "         0.01848678, -0.32163376, -0.92955778,  1.03175391, -0.36068004,\n",
       "         0.09583351,  2.52677965, -0.50487816, -0.36891012, -0.5372063 ,\n",
       "         0.84515425, -0.48857924,  1.70832296, -1.07578035, -0.25819889,\n",
       "        -0.41319694],\n",
       "       [ 1.22345625,  1.57826141, -0.16351749,  0.39234696, -0.31167749,\n",
       "        -0.48857924,  3.10912635, -0.92955778, -0.56902791,  0.8542422 ,\n",
       "        -0.74053163, -0.39576067, -0.50487816, -0.36891012, -0.5372063 ,\n",
       "        -0.77754191,  1.53968486, -0.58536941,  0.92955778, -0.25819889,\n",
       "        -0.41319694],\n",
       "       [ 0.17685605,  0.25113941, -0.16351749, -0.31167749, -0.31167749,\n",
       "        -0.48857924, -0.32163376,  0.2736451 , -0.96922337,  0.8542422 ,\n",
       "        -0.74053163, -0.39576067, -0.50487816,  2.09476788,  1.38174456,\n",
       "        -0.77754191, -0.48857924, -0.58536941, -1.07578035, -0.25819889,\n",
       "         2.42015348],\n",
       "       [ 0.83582655,  0.84097141, -0.16351749, -0.31167749, -0.31167749,\n",
       "        -0.48857924, -0.32163376,  0.40733431, -0.96922337,  0.8542422 ,\n",
       "        -0.74053163, -0.39576067, -0.50487816,  2.71068738,  1.86148228,\n",
       "        -1.18321596, -0.48857924, -0.58536941,  0.92955778, -0.25819889,\n",
       "        -0.41319694],\n",
       "       [ 0.20592828,  0.47232641, -0.16351749, -0.31167749, -0.31167749,\n",
       "         2.04675089, -0.32163376, -0.92955778,  0.03126527,  0.3480246 ,\n",
       "        -0.74053163, -0.39576067,  1.98067588, -0.36891012, -0.5372063 ,\n",
       "         0.84515425, -0.48857924,  1.70832296, -1.07578035, -0.25819889,\n",
       "        -0.41319694],\n",
       "       [ 0.06056714, -0.08064109, -0.16351749, -0.31167749, -0.31167749,\n",
       "         0.77908582, -0.32163376, -0.92955778, -0.46897905,  0.3480246 ,\n",
       "        -0.74053163, -0.39576067,  1.35928737, -0.36891012, -0.5372063 ,\n",
       "         0.84515425, -0.48857924, -0.58536941, -1.07578035,  3.87298335,\n",
       "        -0.41319694],\n",
       "       [ 0.35128942, -0.6336086 , -0.16351749,  1.44838363,  3.20844474,\n",
       "        -0.48857924, -0.32163376, -0.92955778,  1.03175391, -0.158193  ,\n",
       "        -0.74053163,  2.52677965,  0.73789886, -0.36891012, -0.5372063 ,\n",
       "         0.84515425, -0.48857924, -0.58536941, -1.07578035,  3.87298335,\n",
       "        -0.41319694]])"
      ]
     },
     "execution_count": 452,
     "metadata": {},
     "output_type": "execute_result"
    }
   ],
   "source": [
    "kmeans.cluster_centers_"
   ]
  },
  {
   "cell_type": "code",
   "execution_count": 451,
   "metadata": {},
   "outputs": [
    {
     "data": {
      "text/plain": [
       "(192, 21)"
      ]
     },
     "execution_count": 451,
     "metadata": {},
     "output_type": "execute_result"
    }
   ],
   "source": [
    "qualitative.shape"
   ]
  },
  {
   "cell_type": "code",
   "execution_count": 450,
   "metadata": {},
   "outputs": [
    {
     "data": {
      "text/plain": [
       "[(2, 0.15904193602387542),\n",
       " (3, 0.16614031580824037),\n",
       " (4, 0.17268744301366637),\n",
       " (5, 0.1969274588028005),\n",
       " (6, 0.19766298166614482),\n",
       " (7, 0.2153665711377095),\n",
       " (8, 0.222103126807682),\n",
       " (9, 0.23199441925142375),\n",
       " (10, 0.23376314503129117),\n",
       " (11, 0.24594170067316423),\n",
       " (12, 0.24363802509223284),\n",
       " (13, 0.2647751397827459),\n",
       " (14, 0.2700897308044264),\n",
       " (15, 0.28624570422417855),\n",
       " (16, 0.287658706460229),\n",
       " (17, 0.28421508412068686),\n",
       " (18, 0.2869853297920036),\n",
       " (19, 0.294756988504463),\n",
       " (20, 0.29759503359410727),\n",
       " (21, 0.2967578343132838),\n",
       " (22, 0.3036241275806688),\n",
       " (23, 0.30152473674316677),\n",
       " (24, 0.30720882181645354),\n",
       " (25, 0.3158866046218036),\n",
       " (26, 0.3151391621301038),\n",
       " (27, 0.31923985258079746),\n",
       " (28, 0.3257811993033487),\n",
       " (29, 0.3255305304903222),\n",
       " (30, 0.3253754286150328),\n",
       " (31, 0.32734934776578783),\n",
       " (32, 0.3233579506698927)]"
      ]
     },
     "execution_count": 450,
     "metadata": {},
     "output_type": "execute_result"
    }
   ],
   "source": [
    "sil_scores"
   ]
  },
  {
   "cell_type": "code",
   "execution_count": 238,
   "metadata": {},
   "outputs": [],
   "source": [
    "sse = [thing[1] for thing in sses]"
   ]
  },
  {
   "cell_type": "code",
   "execution_count": 308,
   "metadata": {},
   "outputs": [
    {
     "data": {
      "image/png": "[encoded data removed]",
      "text/plain": [
       "<matplotlib.figure.Figure at 0x11bc515c0>"
      ]
     },
     "metadata": {},
     "output_type": "display_data"
    }
   ],
   "source": [
    "_=plt.plot(range(1, 16),sse)\n",
    "_= plt.title(\"Sum of Squared Distance From Center vs k\")\n",
    "_= plt.xticks(range(16))\n",
    "_= plt.xlim((1,15))\n",
    "_= plt.xlabel(\"Number of Clusters (k)\")\n",
    "_= plt.ylabel(\"SSE\")"
   ]
  },
  {
   "cell_type": "code",
   "execution_count": null,
   "metadata": {
    "collapsed": true
   },
   "outputs": [],
   "source": [
    "silhouette_score"
   ]
  },
  {
   "cell_type": "code",
   "execution_count": null,
   "metadata": {
    "collapsed": true
   },
   "outputs": [],
   "source": [
    "from sklearn.metrics import silhouette_score"
   ]
  },
  {
   "cell_type": "code",
   "execution_count": 337,
   "metadata": {},
   "outputs": [],
   "source": [
    "from sklearn.metrics import silhouette_score"
   ]
  },
  {
   "cell_type": "code",
   "execution_count": 339,
   "metadata": {},
   "outputs": [],
   "source": [
    "clusters;"
   ]
  },
  {
   "cell_type": "code",
   "execution_count": 340,
   "metadata": {
    "collapsed": true
   },
   "outputs": [],
   "source": [
    "clusters_df = pd.DataFrame(clusters, index=combined3.index)"
   ]
  },
  {
   "cell_type": "code",
   "execution_count": 349,
   "metadata": {},
   "outputs": [],
   "source": [
    "clusters_df.rename({0:'clusters'}, axis=1, inplace=True) \n"
   ]
  },
  {
   "cell_type": "code",
   "execution_count": 350,
   "metadata": {},
   "outputs": [],
   "source": [
    "combined_with_clusters = pd.concat([combined3, clusters_df], axis=1)"
   ]
  },
  {
   "cell_type": "code",
   "execution_count": 351,
   "metadata": {},
   "outputs": [],
   "source": [
    "cluster_df = combined_with_clusters[['clusters', 'number_of_likes']]"
   ]
  },
  {
   "cell_type": "code",
   "execution_count": 481,
   "metadata": {},
   "outputs": [
    {
     "data": {
      "text/plain": [
       "71.46881152228686"
      ]
     },
     "execution_count": 481,
     "metadata": {},
     "output_type": "execute_result"
    }
   ],
   "source": [
    "np.array(cluster_df[cluster_df['clusters']==0].number_of_likes).std()"
   ]
  },
  {
   "cell_type": "code",
   "execution_count": 363,
   "metadata": {},
   "outputs": [
    {
     "data": {
      "text/plain": [
       "['DOW_0',\n",
       " 'DOW_1',\n",
       " 'DOW_2',\n",
       " 'DOW_3',\n",
       " 'DOW_4',\n",
       " 'DOW_5',\n",
       " 'DOW_6',\n",
       " 'hour',\n",
       " 'month',\n",
       " 'num_people_tagged',\n",
       " 'number_of_likes',\n",
       " 'faces_visible',\n",
       " 'sale',\n",
       " 'edited',\n",
       " 'butt_pic',\n",
       " 'ocean',\n",
       " 'skate',\n",
       " 'drift_content',\n",
       " 'product_shot',\n",
       " 'lifestyle',\n",
       " 'in_shop',\n",
       " 'pro\\\\model',\n",
       " 'in_nature',\n",
       " 'surf',\n",
       " 'male',\n",
       " 'female',\n",
       " 'mixed_gender',\n",
       " 'bikini',\n",
       " 'apparel',\n",
       " 'biki+apparel',\n",
       " 'no_product',\n",
       " 0,\n",
       " 1,\n",
       " 2,\n",
       " 3,\n",
       " 4,\n",
       " 5,\n",
       " 6,\n",
       " 7,\n",
       " 8,\n",
       " 9,\n",
       " 10,\n",
       " 11,\n",
       " 12,\n",
       " 13,\n",
       " 14,\n",
       " 15,\n",
       " 16,\n",
       " 17,\n",
       " 18,\n",
       " 19,\n",
       " 20,\n",
       " 21,\n",
       " 22,\n",
       " 23,\n",
       " 24,\n",
       " 25,\n",
       " 26,\n",
       " 27,\n",
       " 28,\n",
       " 29,\n",
       " 30,\n",
       " 31,\n",
       " 32,\n",
       " 33,\n",
       " 34,\n",
       " 35,\n",
       " 36,\n",
       " 37,\n",
       " 38,\n",
       " 39,\n",
       " 40,\n",
       " 41,\n",
       " 42,\n",
       " 43,\n",
       " 44,\n",
       " 45,\n",
       " 46,\n",
       " 47,\n",
       " 48,\n",
       " 49,\n",
       " 50,\n",
       " 51,\n",
       " 52,\n",
       " 53,\n",
       " 54,\n",
       " 55,\n",
       " 56,\n",
       " 57,\n",
       " 58,\n",
       " 59,\n",
       " 60,\n",
       " 61,\n",
       " 62,\n",
       " 63,\n",
       " 64,\n",
       " 65,\n",
       " 66,\n",
       " 67,\n",
       " 68,\n",
       " 69,\n",
       " 70,\n",
       " 71,\n",
       " 72,\n",
       " 73,\n",
       " 74,\n",
       " 75,\n",
       " 76,\n",
       " 77,\n",
       " 78,\n",
       " 79,\n",
       " 80,\n",
       " 81,\n",
       " 82,\n",
       " 83,\n",
       " 84,\n",
       " 85,\n",
       " 86,\n",
       " 87,\n",
       " 88,\n",
       " 89,\n",
       " 90,\n",
       " 91,\n",
       " 92,\n",
       " 93,\n",
       " 94,\n",
       " 95,\n",
       " 96,\n",
       " 97,\n",
       " 98,\n",
       " 99,\n",
       " 100,\n",
       " 101,\n",
       " 102,\n",
       " 103,\n",
       " 104,\n",
       " 105,\n",
       " 106,\n",
       " 107,\n",
       " 108,\n",
       " 109,\n",
       " 110,\n",
       " 111,\n",
       " 112,\n",
       " 113,\n",
       " 114,\n",
       " 115,\n",
       " 116,\n",
       " 117,\n",
       " 118,\n",
       " 119,\n",
       " 120,\n",
       " 121,\n",
       " 122,\n",
       " 123,\n",
       " 124,\n",
       " 125,\n",
       " 126,\n",
       " 127,\n",
       " 128,\n",
       " 129,\n",
       " 130,\n",
       " 131,\n",
       " 132,\n",
       " 133,\n",
       " 134,\n",
       " 135,\n",
       " 136,\n",
       " 137,\n",
       " 138,\n",
       " 139,\n",
       " 140,\n",
       " 141,\n",
       " 142,\n",
       " 143,\n",
       " 144,\n",
       " 145,\n",
       " 146,\n",
       " 147,\n",
       " 148,\n",
       " 149,\n",
       " 150,\n",
       " 151,\n",
       " 152,\n",
       " 153,\n",
       " 154,\n",
       " 155,\n",
       " 156,\n",
       " 157,\n",
       " 158,\n",
       " 159,\n",
       " 160,\n",
       " 161,\n",
       " 162,\n",
       " 163,\n",
       " 164,\n",
       " 165,\n",
       " 166,\n",
       " 167,\n",
       " 168,\n",
       " 169,\n",
       " 170,\n",
       " 171,\n",
       " 172,\n",
       " 173,\n",
       " 174,\n",
       " 175,\n",
       " 176,\n",
       " 177,\n",
       " 178,\n",
       " 179,\n",
       " 180,\n",
       " 181,\n",
       " 182,\n",
       " 183,\n",
       " 184,\n",
       " 185,\n",
       " 186,\n",
       " 187,\n",
       " 188,\n",
       " 189,\n",
       " 190,\n",
       " 191,\n",
       " 192,\n",
       " 193,\n",
       " 194,\n",
       " 195,\n",
       " 196,\n",
       " 197,\n",
       " 198,\n",
       " 199,\n",
       " 200,\n",
       " 201,\n",
       " 202,\n",
       " 203,\n",
       " 204,\n",
       " 205,\n",
       " 206,\n",
       " 207,\n",
       " 208,\n",
       " 209,\n",
       " 210,\n",
       " 211,\n",
       " 212,\n",
       " 213,\n",
       " 214,\n",
       " 215,\n",
       " 216,\n",
       " 217,\n",
       " 218,\n",
       " 219,\n",
       " 220,\n",
       " 221,\n",
       " 222,\n",
       " 223,\n",
       " 224,\n",
       " 225,\n",
       " 226,\n",
       " 227,\n",
       " 228,\n",
       " 229,\n",
       " 230,\n",
       " 231,\n",
       " 232,\n",
       " 233,\n",
       " 234,\n",
       " 235,\n",
       " 236,\n",
       " 237,\n",
       " 238,\n",
       " 239,\n",
       " 240,\n",
       " 241,\n",
       " 242,\n",
       " 243,\n",
       " 244,\n",
       " 245,\n",
       " 246,\n",
       " 247,\n",
       " 248,\n",
       " 249,\n",
       " 250,\n",
       " 251,\n",
       " 252,\n",
       " 253,\n",
       " 254,\n",
       " 255,\n",
       " 256,\n",
       " 257,\n",
       " 258,\n",
       " 259,\n",
       " 260,\n",
       " 261,\n",
       " 262,\n",
       " 263,\n",
       " 264,\n",
       " 265,\n",
       " 266,\n",
       " 267,\n",
       " 268,\n",
       " 269,\n",
       " 270,\n",
       " 271,\n",
       " 272,\n",
       " 273,\n",
       " 274,\n",
       " 275,\n",
       " 276,\n",
       " 277,\n",
       " 278,\n",
       " 279,\n",
       " 280,\n",
       " 281,\n",
       " 282,\n",
       " 283,\n",
       " 284,\n",
       " 285,\n",
       " 286,\n",
       " 287,\n",
       " 288,\n",
       " 289,\n",
       " 290,\n",
       " 291,\n",
       " 292,\n",
       " 293,\n",
       " 294,\n",
       " 295,\n",
       " 296,\n",
       " 297,\n",
       " 298,\n",
       " 299,\n",
       " 300,\n",
       " 301,\n",
       " 302,\n",
       " 303,\n",
       " 304,\n",
       " 305,\n",
       " 306,\n",
       " 307,\n",
       " 308,\n",
       " 309,\n",
       " 310,\n",
       " 311,\n",
       " 312,\n",
       " 313,\n",
       " 314,\n",
       " 315,\n",
       " 316,\n",
       " 317,\n",
       " 318,\n",
       " 319,\n",
       " 320,\n",
       " 321]"
      ]
     },
     "execution_count": 363,
     "metadata": {},
     "output_type": "execute_result"
    }
   ],
   "source": [
    "list(combined3.columns)"
   ]
  },
  {
   "cell_type": "code",
   "execution_count": 365,
   "metadata": {
    "collapsed": true
   },
   "outputs": [],
   "source": []
  },
  {
   "cell_type": "code",
   "execution_count": null,
   "metadata": {
    "collapsed": true
   },
   "outputs": [],
   "source": []
  }
 ],
 "metadata": {
  "kernelspec": {
   "display_name": "Python 3",
   "language": "python",
   "name": "python3"
  },
  "language_info": {
   "codemirror_mode": {
    "name": "ipython",
    "version": 3
   },
   "file_extension": ".py",
   "mimetype": "text/x-python",
   "name": "python",
   "nbconvert_exporter": "python",
   "pygments_lexer": "ipython3",
   "version": "3.6.1"
  }
 },
 "nbformat": 4,
 "nbformat_minor": 2
}
