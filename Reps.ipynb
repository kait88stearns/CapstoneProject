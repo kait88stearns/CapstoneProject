{
 "cells": [
  {
   "cell_type": "code",
   "execution_count": 28,
   "metadata": {},
   "outputs": [],
   "source": [
    "import pandas as pd\n",
    "import src.clean as clean\n",
    "%autoreload\n",
    "import model_data\n",
    "%autoreload\n",
    "import numpy as np\n",
    "import re\n",
    "import matplotlib.pyplot as plt\n",
    "%matplotlib inline\n",
    "import pickle"
   ]
  },
  {
   "cell_type": "code",
   "execution_count": 2,
   "metadata": {
    "collapsed": true
   },
   "outputs": [],
   "source": [
    "pickle_in = open(\"ppl_ever_tagged.pkl\",\"rb\")\n",
    "ppl_ever_tagged = pickle.load(pickle_in)"
   ]
  },
  {
   "cell_type": "code",
   "execution_count": 8,
   "metadata": {},
   "outputs": [],
   "source": [
    "pickle_in2 = open(\"quant_data.pkl\",\"rb\")\n",
    "quant_df = pickle.load(pickle_in2)"
   ]
  },
  {
   "cell_type": "code",
   "execution_count": 20,
   "metadata": {
    "collapsed": true
   },
   "outputs": [],
   "source": [
    "serious_reps=[]\n",
    "mid_reps = []\n",
    "lesser_reps = []\n",
    "for key, val in ppl_ever_tagged.items():\n",
    "    if val >= 20:\n",
    "        serious_reps.append(key)\n",
    "    if val >= 4 and val < 7:\n",
    "        lesser_reps.append(key)\n",
    "    if val >= 7 and val <20:\n",
    "        mid_reps.append(key)"
   ]
  },
  {
   "cell_type": "code",
   "execution_count": 25,
   "metadata": {},
   "outputs": [],
   "source": [
    "serious_reps;"
   ]
  },
  {
   "cell_type": "code",
   "execution_count": 23,
   "metadata": {},
   "outputs": [],
   "source": [
    "for rep in serious_reps:\n",
    "    quant_df[rep] = quant_df.apply(lambda x: is_tagged(rep, x.people_tagged), axis=1)"
   ]
  },
  {
   "cell_type": "code",
   "execution_count": 66,
   "metadata": {},
   "outputs": [
    {
     "data": {
      "text/plain": [
       "136.5068461349541"
      ]
     },
     "execution_count": 66,
     "metadata": {},
     "output_type": "execute_result"
    }
   ],
   "source": [
    "q2=quant_df.drop(['date_num', 'day','date','url','taken_at','hashtags','comments','people_tagged','commenters','caption',], axis=1)\n",
    "model_data.model_GD(q2)"
   ]
  },
  {
   "cell_type": "code",
   "execution_count": null,
   "metadata": {
    "collapsed": true
   },
   "outputs": [],
   "source": []
  },
  {
   "cell_type": "code",
   "execution_count": 60,
   "metadata": {},
   "outputs": [],
   "source": [
    "from sklearn.model_selection import train_test_split\n",
    "\n",
    "X_train, X_test, y_train, y_test = train_test_split(X.as_matrix(), y.as_matrix(), test_size= .15)"
   ]
  },
  {
   "cell_type": "code",
   "execution_count": 71,
   "metadata": {},
   "outputs": [
    {
     "data": {
      "text/plain": [
       "79"
      ]
     },
     "execution_count": 71,
     "metadata": {},
     "output_type": "execute_result"
    }
   ],
   "source": [
    "len(quant_df[(quant_df['date_num']>20170000) & (quant_df['date_num']<=20170431)] )"
   ]
  },
  {
   "cell_type": "code",
   "execution_count": 70,
   "metadata": {},
   "outputs": [
    {
     "data": {
      "text/plain": [
       "86"
      ]
     },
     "execution_count": 70,
     "metadata": {},
     "output_type": "execute_result"
    }
   ],
   "source": [
    "len(quant_df[(quant_df['date_num']<20170805) & (quant_df['date_num']>=20170431)] )"
   ]
  },
  {
   "cell_type": "code",
   "execution_count": 79,
   "metadata": {},
   "outputs": [
    {
     "data": {
      "text/plain": [
       "[8, 17, 2, 1, 16]"
      ]
     },
     "execution_count": 79,
     "metadata": {},
     "output_type": "execute_result"
    }
   ],
   "source": [
    "import random\n",
    "random.choices(range(23),k=5)"
   ]
  },
  {
   "cell_type": "code",
   "execution_count": 105,
   "metadata": {},
   "outputs": [],
   "source": [
    "d= np.array([[1,3,2,5],[2,34,4,2],[2,1,4,2],[56,3,2,6],[65,2,1,2],[65,2,1,2]])"
   ]
  },
  {
   "cell_type": "code",
   "execution_count": 287,
   "metadata": {},
   "outputs": [
    {
     "name": "stdout",
     "output_type": "stream",
     "text": [
      "-76.56217022787675\n",
      "[ -95.05130281  -75.17533086  -43.27584777  -39.6169604   -49.5251332\n",
      "  -46.39845186  -93.59744308 -116.37130183  -96.71968847 -109.890242  ]\n"
     ]
    }
   ],
   "source": [
    "gbr = GradientBoostingRegressor(learning_rate=0.1, loss='ls', n_estimators=60,min_samples_leaf=2, max_depth=3)\n",
    "scores = cross_val_score(gbr, q2_X, q2['number_of_likes'],cv=10, scoring= 'neg_mean_absolute_error')\n",
    "print(scores.mean())\n",
    "print(scores)"
   ]
  },
  {
   "cell_type": "code",
   "execution_count": 143,
   "metadata": {
    "collapsed": true
   },
   "outputs": [],
   "source": [
    "X_train, X_test, y_train, y_test = train_test_split(q2_X.as_matrix(), q2['number_of_likes'].as_matrix(), test_size= .15)"
   ]
  },
  {
   "cell_type": "code",
   "execution_count": 144,
   "metadata": {},
   "outputs": [
    {
     "data": {
      "text/plain": [
       "4816.658845046019"
      ]
     },
     "execution_count": 144,
     "metadata": {},
     "output_type": "execute_result"
    }
   ],
   "source": [
    "gbr.fit(X_train,y_train)\n",
    "y_hat = gbr.predict(X_test)\n",
    "mean_squared_error(y_test,y_hat)"
   ]
  },
  {
   "cell_type": "code",
   "execution_count": 142,
   "metadata": {
    "collapsed": true
   },
   "outputs": [],
   "source": [
    "q2_X = q2.drop(['number_of_likes'], axis= 1)"
   ]
  },
  {
   "cell_type": "code",
   "execution_count": 138,
   "metadata": {
    "collapsed": true
   },
   "outputs": [],
   "source": [
    "cols = q2.drop(['number_of_likes']).columns\n",
    "feats=gbr.feature_importances_"
   ]
  },
  {
   "cell_type": "code",
   "execution_count": 141,
   "metadata": {},
   "outputs": [
    {
     "name": "stdout",
     "output_type": "stream",
     "text": [
      "DOW_0: 0.02\n",
      "DOW_1: 0.0\n",
      "DOW_2: 0.01\n",
      "DOW_3: 0.01\n",
      "DOW_4: 0.01\n",
      "DOW_5: 0.0\n",
      "DOW_6: 0.0\n",
      "hour: 0.02\n",
      "month: 0.05\n",
      "num_people_tagged: 0.05\n",
      "num_posts: 0.0\n",
      "number_of_comments: 0.04\n",
      "number_of_likes: 0.73\n",
      "year: 0.01\n",
      "thedriftcollective: 0.0\n",
      "elisabettalockhart: 0.01\n",
      "sea__soul: 0.0\n",
      "isabelletodd: 0.0\n",
      "beershower: 0.0\n",
      "idforreal: 0.02\n",
      "lturpan: 0.02\n",
      "bubblerock: 0.0\n",
      "filippaedghill: 0.0\n",
      "surfragette: 0.0\n",
      "abbeylockhart_: 0.0\n"
     ]
    }
   ],
   "source": [
    "for c, f in zip(cols,feats):\n",
    "    print ('{}: {}'.format(c,round(f,2)))"
   ]
  },
  {
   "cell_type": "code",
   "execution_count": 136,
   "metadata": {
    "collapsed": true
   },
   "outputs": [],
   "source": [
    "from sklearn.metrics import mean_squared_error\n"
   ]
  },
  {
   "cell_type": "code",
   "execution_count": 109,
   "metadata": {
    "collapsed": true
   },
   "outputs": [],
   "source": [
    "from sklearn.model_selection import ShuffleSplit\n",
    "from sklearn.model_selection import cross_val_score\n"
   ]
  },
  {
   "cell_type": "code",
   "execution_count": 108,
   "metadata": {
    "collapsed": true
   },
   "outputs": [],
   "source": [
    "#cv= ShuffleSplit(n_splits=10)"
   ]
  },
  {
   "cell_type": "code",
   "execution_count": 124,
   "metadata": {},
   "outputs": [
    {
     "data": {
      "text/plain": [
       "array([ -94.28803245,  -45.17492113,  -53.02554693, -157.95194238,\n",
       "       -156.75450702])"
      ]
     },
     "execution_count": 124,
     "metadata": {},
     "output_type": "execute_result"
    }
   ],
   "source": [
    "cross_val_score(gbr, q2.drop(['number_of_likes']), q2['number_of_likes'],cv=5, scoring= 'neg_mean_absolute_error')"
   ]
  },
  {
   "cell_type": "code",
   "execution_count": 288,
   "metadata": {},
   "outputs": [
    {
     "data": {
      "text/plain": [
       "['thedriftcollective',\n",
       " 'elisabettalockhart',\n",
       " 'sea__soul',\n",
       " 'isabelletodd',\n",
       " 'beershower',\n",
       " 'idforreal',\n",
       " 'lturpan',\n",
       " 'bubblerock',\n",
       " 'filippaedghill',\n",
       " 'surfragette',\n",
       " 'abbeylockhart_']"
      ]
     },
     "execution_count": 288,
     "metadata": {},
     "output_type": "execute_result"
    }
   ],
   "source": [
    "serious_reps"
   ]
  },
  {
   "cell_type": "code",
   "execution_count": 289,
   "metadata": {
    "collapsed": true
   },
   "outputs": [],
   "source": [
    "import src.shopify_scrape"
   ]
  },
  {
   "cell_type": "code",
   "execution_count": 293,
   "metadata": {},
   "outputs": [],
   "source": [
    "browser = src.shopify_scrape.load_browser_loggin('driftbikinis@gmail.com', 'Stayrad_22')"
   ]
  },
  {
   "cell_type": "code",
   "execution_count": 295,
   "metadata": {},
   "outputs": [
    {
     "name": "stdout",
     "output_type": "stream",
     "text": [
      "[<selenium.webdriver.firefox.webelement.FirefoxWebElement (session=\"56392a55-6c8f-db4a-9d55-03f54f80a761\", element=\"d47828e8-6571-1846-a322-d01910c8a98e\")>, <selenium.webdriver.firefox.webelement.FirefoxWebElement (session=\"56392a55-6c8f-db4a-9d55-03f54f80a761\", element=\"44be378b-b936-b94e-8c27-e79ea8fb6356\")>, <selenium.webdriver.firefox.webelement.FirefoxWebElement (session=\"56392a55-6c8f-db4a-9d55-03f54f80a761\", element=\"75c341cf-d064-584b-beb8-f8e19d5a9ea2\")>, <selenium.webdriver.firefox.webelement.FirefoxWebElement (session=\"56392a55-6c8f-db4a-9d55-03f54f80a761\", element=\"54b74291-f46d-674b-af2f-16b9a3c58f83\")>, <selenium.webdriver.firefox.webelement.FirefoxWebElement (session=\"56392a55-6c8f-db4a-9d55-03f54f80a761\", element=\"daa2dff6-1e07-7747-82fa-591c1bd6711f\")>, <selenium.webdriver.firefox.webelement.FirefoxWebElement (session=\"56392a55-6c8f-db4a-9d55-03f54f80a761\", element=\"2de284a0-d168-1946-a26c-70cc70ee2491\")>, <selenium.webdriver.firefox.webelement.FirefoxWebElement (session=\"56392a55-6c8f-db4a-9d55-03f54f80a761\", element=\"cf4f479f-711f-0541-9fd6-ca7a6136e005\")>, <selenium.webdriver.firefox.webelement.FirefoxWebElement (session=\"56392a55-6c8f-db4a-9d55-03f54f80a761\", element=\"67e9b208-2c31-2841-ad40-5fbb71b051e9\")>, <selenium.webdriver.firefox.webelement.FirefoxWebElement (session=\"56392a55-6c8f-db4a-9d55-03f54f80a761\", element=\"ef48eaca-048a-7c4f-8b8c-3fd48fdc23bd\")>, <selenium.webdriver.firefox.webelement.FirefoxWebElement (session=\"56392a55-6c8f-db4a-9d55-03f54f80a761\", element=\"30c870e3-e79a-6a49-8a69-455015d37651\")>, <selenium.webdriver.firefox.webelement.FirefoxWebElement (session=\"56392a55-6c8f-db4a-9d55-03f54f80a761\", element=\"95847e20-a656-5e45-9dfd-3cbada3f11ae\")>, <selenium.webdriver.firefox.webelement.FirefoxWebElement (session=\"56392a55-6c8f-db4a-9d55-03f54f80a761\", element=\"de170f41-d8ab-0a4d-b186-ec6180f3fcca\")>, <selenium.webdriver.firefox.webelement.FirefoxWebElement (session=\"56392a55-6c8f-db4a-9d55-03f54f80a761\", element=\"d09774ec-7cc0-e44c-9aa3-5e2df037ccd5\")>, <selenium.webdriver.firefox.webelement.FirefoxWebElement (session=\"56392a55-6c8f-db4a-9d55-03f54f80a761\", element=\"2a3e9f63-305c-6340-8161-881640eebe94\")>, <selenium.webdriver.firefox.webelement.FirefoxWebElement (session=\"56392a55-6c8f-db4a-9d55-03f54f80a761\", element=\"b0c89dea-6f50-0e4f-8518-81a8e41a19d1\")>, <selenium.webdriver.firefox.webelement.FirefoxWebElement (session=\"56392a55-6c8f-db4a-9d55-03f54f80a761\", element=\"245e28a0-8147-7847-b00c-b950695f3a6c\")>, <selenium.webdriver.firefox.webelement.FirefoxWebElement (session=\"56392a55-6c8f-db4a-9d55-03f54f80a761\", element=\"96b3463a-40c8-4740-a6d4-d8b88cac73db\")>, <selenium.webdriver.firefox.webelement.FirefoxWebElement (session=\"56392a55-6c8f-db4a-9d55-03f54f80a761\", element=\"7d149330-cd68-e545-9e60-91e2f266e74f\")>, <selenium.webdriver.firefox.webelement.FirefoxWebElement (session=\"56392a55-6c8f-db4a-9d55-03f54f80a761\", element=\"c3216dde-5e9d-8247-816c-c97e759deb73\")>, <selenium.webdriver.firefox.webelement.FirefoxWebElement (session=\"56392a55-6c8f-db4a-9d55-03f54f80a761\", element=\"501c04bb-bf82-e245-8f5f-77d41c5a3f1c\")>, <selenium.webdriver.firefox.webelement.FirefoxWebElement (session=\"56392a55-6c8f-db4a-9d55-03f54f80a761\", element=\"67677f60-0a01-1b41-93e5-17c008b4dc95\")>, <selenium.webdriver.firefox.webelement.FirefoxWebElement (session=\"56392a55-6c8f-db4a-9d55-03f54f80a761\", element=\"435229b0-5022-6b41-961c-5a6debce3b1b\")>, <selenium.webdriver.firefox.webelement.FirefoxWebElement (session=\"56392a55-6c8f-db4a-9d55-03f54f80a761\", element=\"f91b086c-55f9-c244-8b4e-42854b1d69ef\")>, <selenium.webdriver.firefox.webelement.FirefoxWebElement (session=\"56392a55-6c8f-db4a-9d55-03f54f80a761\", element=\"a3050476-829a-ab4f-b6b5-4374716202d8\")>, <selenium.webdriver.firefox.webelement.FirefoxWebElement (session=\"56392a55-6c8f-db4a-9d55-03f54f80a761\", element=\"7d4a79eb-8097-ff4d-8d92-2cd5207d3a58\")>, <selenium.webdriver.firefox.webelement.FirefoxWebElement (session=\"56392a55-6c8f-db4a-9d55-03f54f80a761\", element=\"2a25736e-6a45-f44d-bdaf-adc28f1aef4f\")>, <selenium.webdriver.firefox.webelement.FirefoxWebElement (session=\"56392a55-6c8f-db4a-9d55-03f54f80a761\", element=\"68570750-3eb9-e74b-bb9d-47c825ca2125\")>, <selenium.webdriver.firefox.webelement.FirefoxWebElement (session=\"56392a55-6c8f-db4a-9d55-03f54f80a761\", element=\"d30f4e79-cc82-0f4f-a321-d2ede40665b9\")>, <selenium.webdriver.firefox.webelement.FirefoxWebElement (session=\"56392a55-6c8f-db4a-9d55-03f54f80a761\", element=\"03217198-44af-3346-b102-2ba7043f239e\")>, <selenium.webdriver.firefox.webelement.FirefoxWebElement (session=\"56392a55-6c8f-db4a-9d55-03f54f80a761\", element=\"2b5a4434-5efa-0e4c-8391-370800b74ea0\")>, <selenium.webdriver.firefox.webelement.FirefoxWebElement (session=\"56392a55-6c8f-db4a-9d55-03f54f80a761\", element=\"ce6f379e-1a34-ac49-95a9-e32dae0468de\")>, <selenium.webdriver.firefox.webelement.FirefoxWebElement (session=\"56392a55-6c8f-db4a-9d55-03f54f80a761\", element=\"6a94e9fb-6dc9-4b4c-9611-e2925eda4989\")>, <selenium.webdriver.firefox.webelement.FirefoxWebElement (session=\"56392a55-6c8f-db4a-9d55-03f54f80a761\", element=\"12f7b996-7e8b-3a48-b0b0-595c20eea0b5\")>, <selenium.webdriver.firefox.webelement.FirefoxWebElement (session=\"56392a55-6c8f-db4a-9d55-03f54f80a761\", element=\"b0386f39-4c0b-de42-9dde-567d7341963a\")>, <selenium.webdriver.firefox.webelement.FirefoxWebElement (session=\"56392a55-6c8f-db4a-9d55-03f54f80a761\", element=\"363055e5-3d08-ee4c-910f-47682a7ed339\")>, <selenium.webdriver.firefox.webelement.FirefoxWebElement (session=\"56392a55-6c8f-db4a-9d55-03f54f80a761\", element=\"140c481c-e75e-d34c-979b-d0204301fd82\")>, <selenium.webdriver.firefox.webelement.FirefoxWebElement (session=\"56392a55-6c8f-db4a-9d55-03f54f80a761\", element=\"57667ddb-2810-8340-93af-7556951366ff\")>, <selenium.webdriver.firefox.webelement.FirefoxWebElement (session=\"56392a55-6c8f-db4a-9d55-03f54f80a761\", element=\"bfdf091a-6bfc-ef4e-a06e-802f5f4d846a\")>, <selenium.webdriver.firefox.webelement.FirefoxWebElement (session=\"56392a55-6c8f-db4a-9d55-03f54f80a761\", element=\"d88d0912-7ce8-fd4b-95e5-d0750a42d36f\")>, <selenium.webdriver.firefox.webelement.FirefoxWebElement (session=\"56392a55-6c8f-db4a-9d55-03f54f80a761\", element=\"b41346b6-c2e6-d443-9e3e-faf3fcb94f7a\")>, <selenium.webdriver.firefox.webelement.FirefoxWebElement (session=\"56392a55-6c8f-db4a-9d55-03f54f80a761\", element=\"67a36e07-c84c-bc45-9eb0-0dd143f18130\")>, <selenium.webdriver.firefox.webelement.FirefoxWebElement (session=\"56392a55-6c8f-db4a-9d55-03f54f80a761\", element=\"b2ea173c-bc2c-5b4e-8a35-e9b868b40db2\")>, <selenium.webdriver.firefox.webelement.FirefoxWebElement (session=\"56392a55-6c8f-db4a-9d55-03f54f80a761\", element=\"5cc54f44-79dc-c644-8e20-ea292832f831\")>, <selenium.webdriver.firefox.webelement.FirefoxWebElement (session=\"56392a55-6c8f-db4a-9d55-03f54f80a761\", element=\"27c494d7-d329-0943-8a48-7cd6270d589d\")>, <selenium.webdriver.firefox.webelement.FirefoxWebElement (session=\"56392a55-6c8f-db4a-9d55-03f54f80a761\", element=\"1fea8c5c-94b5-f940-87e8-6d5a36d0e4f0\")>, <selenium.webdriver.firefox.webelement.FirefoxWebElement (session=\"56392a55-6c8f-db4a-9d55-03f54f80a761\", element=\"fe14965c-e5a9-1742-bc52-9b094461efa4\")>, <selenium.webdriver.firefox.webelement.FirefoxWebElement (session=\"56392a55-6c8f-db4a-9d55-03f54f80a761\", element=\"4a88d4d0-d60b-b24a-9320-6def143f13f0\")>, <selenium.webdriver.firefox.webelement.FirefoxWebElement (session=\"56392a55-6c8f-db4a-9d55-03f54f80a761\", element=\"9946fb56-96b2-f049-b420-9e055d415258\")>, <selenium.webdriver.firefox.webelement.FirefoxWebElement (session=\"56392a55-6c8f-db4a-9d55-03f54f80a761\", element=\"1d154d44-37c6-b845-a3aa-54b0328d11a4\")>, <selenium.webdriver.firefox.webelement.FirefoxWebElement (session=\"56392a55-6c8f-db4a-9d55-03f54f80a761\", element=\"afd399c6-4e92-5e49-9fa1-a781e65e2cef\")>]\n",
      "[<selenium.webdriver.firefox.webelement.FirefoxWebElement (session=\"56392a55-6c8f-db4a-9d55-03f54f80a761\", element=\"b2757e11-4cd6-3643-af04-d9643c81015f\")>, <selenium.webdriver.firefox.webelement.FirefoxWebElement (session=\"56392a55-6c8f-db4a-9d55-03f54f80a761\", element=\"f1160b36-dc3d-5343-a329-7d2fbf57e585\")>, <selenium.webdriver.firefox.webelement.FirefoxWebElement (session=\"56392a55-6c8f-db4a-9d55-03f54f80a761\", element=\"85828687-9e05-f24e-91b9-d5b7e26cbb8c\")>, <selenium.webdriver.firefox.webelement.FirefoxWebElement (session=\"56392a55-6c8f-db4a-9d55-03f54f80a761\", element=\"a6f63f7c-1860-364d-b9f6-8084e3c6a927\")>, <selenium.webdriver.firefox.webelement.FirefoxWebElement (session=\"56392a55-6c8f-db4a-9d55-03f54f80a761\", element=\"f6e7c67c-aef5-9b42-a429-8a3b29df6c62\")>, <selenium.webdriver.firefox.webelement.FirefoxWebElement (session=\"56392a55-6c8f-db4a-9d55-03f54f80a761\", element=\"7042c636-362c-784a-a4df-a1083c5ad62b\")>, <selenium.webdriver.firefox.webelement.FirefoxWebElement (session=\"56392a55-6c8f-db4a-9d55-03f54f80a761\", element=\"273eb274-f64b-9d41-aa2c-8839c7fd31b8\")>, <selenium.webdriver.firefox.webelement.FirefoxWebElement (session=\"56392a55-6c8f-db4a-9d55-03f54f80a761\", element=\"d2ae391e-6478-b54e-af64-263bc80d71a4\")>, <selenium.webdriver.firefox.webelement.FirefoxWebElement (session=\"56392a55-6c8f-db4a-9d55-03f54f80a761\", element=\"f34e33d5-d374-a143-984c-03bfe30561c0\")>, <selenium.webdriver.firefox.webelement.FirefoxWebElement (session=\"56392a55-6c8f-db4a-9d55-03f54f80a761\", element=\"d223949f-a3d8-d941-9d42-2263390ba23d\")>, <selenium.webdriver.firefox.webelement.FirefoxWebElement (session=\"56392a55-6c8f-db4a-9d55-03f54f80a761\", element=\"69cf8883-d6ce-9448-9d01-7d9fb963b3c3\")>, <selenium.webdriver.firefox.webelement.FirefoxWebElement (session=\"56392a55-6c8f-db4a-9d55-03f54f80a761\", element=\"d9fc95b2-e49f-e240-9c40-bf99c064335f\")>, <selenium.webdriver.firefox.webelement.FirefoxWebElement (session=\"56392a55-6c8f-db4a-9d55-03f54f80a761\", element=\"88f0f274-e9ad-834e-9357-65153ebb3212\")>, <selenium.webdriver.firefox.webelement.FirefoxWebElement (session=\"56392a55-6c8f-db4a-9d55-03f54f80a761\", element=\"588d84b8-d44d-b54d-9db4-2fa0810c5236\")>, <selenium.webdriver.firefox.webelement.FirefoxWebElement (session=\"56392a55-6c8f-db4a-9d55-03f54f80a761\", element=\"05e44d68-28d6-5446-ae57-8652ba1937aa\")>, <selenium.webdriver.firefox.webelement.FirefoxWebElement (session=\"56392a55-6c8f-db4a-9d55-03f54f80a761\", element=\"30023424-2c69-1f43-b31d-aaeb6ae61d38\")>, <selenium.webdriver.firefox.webelement.FirefoxWebElement (session=\"56392a55-6c8f-db4a-9d55-03f54f80a761\", element=\"72dc278a-471b-c749-aa38-0f22c5a6e758\")>, <selenium.webdriver.firefox.webelement.FirefoxWebElement (session=\"56392a55-6c8f-db4a-9d55-03f54f80a761\", element=\"02da7c0a-5a75-3d47-a2b8-91559d63b87a\")>, <selenium.webdriver.firefox.webelement.FirefoxWebElement (session=\"56392a55-6c8f-db4a-9d55-03f54f80a761\", element=\"07274549-4bc2-b849-b357-6611c0d000e6\")>, <selenium.webdriver.firefox.webelement.FirefoxWebElement (session=\"56392a55-6c8f-db4a-9d55-03f54f80a761\", element=\"0538233f-ad7c-9d4d-9189-e0fe59d4687a\")>, <selenium.webdriver.firefox.webelement.FirefoxWebElement (session=\"56392a55-6c8f-db4a-9d55-03f54f80a761\", element=\"3ce45e3c-5014-814b-ba2f-f92975d7e221\")>, <selenium.webdriver.firefox.webelement.FirefoxWebElement (session=\"56392a55-6c8f-db4a-9d55-03f54f80a761\", element=\"dfee6043-272c-ae44-9f65-aebfac2e1e00\")>, <selenium.webdriver.firefox.webelement.FirefoxWebElement (session=\"56392a55-6c8f-db4a-9d55-03f54f80a761\", element=\"3ddfae82-a7d2-2542-8b77-20bae6af9641\")>, <selenium.webdriver.firefox.webelement.FirefoxWebElement (session=\"56392a55-6c8f-db4a-9d55-03f54f80a761\", element=\"64b2f446-ed1d-314e-9932-30bd6486de79\")>, <selenium.webdriver.firefox.webelement.FirefoxWebElement (session=\"56392a55-6c8f-db4a-9d55-03f54f80a761\", element=\"361c7d43-dbea-4147-b55c-015838ee38cf\")>, <selenium.webdriver.firefox.webelement.FirefoxWebElement (session=\"56392a55-6c8f-db4a-9d55-03f54f80a761\", element=\"eae4662d-a2e2-e449-8805-ad247ab39bba\")>, <selenium.webdriver.firefox.webelement.FirefoxWebElement (session=\"56392a55-6c8f-db4a-9d55-03f54f80a761\", element=\"a9a6ba62-6682-8d43-b37f-1ef2090e84e0\")>, <selenium.webdriver.firefox.webelement.FirefoxWebElement (session=\"56392a55-6c8f-db4a-9d55-03f54f80a761\", element=\"19610d50-308d-c34b-babe-ad77ab9fd3c0\")>, <selenium.webdriver.firefox.webelement.FirefoxWebElement (session=\"56392a55-6c8f-db4a-9d55-03f54f80a761\", element=\"173f8e6c-361c-e145-9c55-e6991e55e77e\")>, <selenium.webdriver.firefox.webelement.FirefoxWebElement (session=\"56392a55-6c8f-db4a-9d55-03f54f80a761\", element=\"3e3423fe-27a0-7144-b4c9-b78a6ba949ea\")>, <selenium.webdriver.firefox.webelement.FirefoxWebElement (session=\"56392a55-6c8f-db4a-9d55-03f54f80a761\", element=\"57646a16-07ae-c64d-8725-58da83be146c\")>, <selenium.webdriver.firefox.webelement.FirefoxWebElement (session=\"56392a55-6c8f-db4a-9d55-03f54f80a761\", element=\"54ecaaeb-8647-df49-b3a9-ff61ff5b4969\")>, <selenium.webdriver.firefox.webelement.FirefoxWebElement (session=\"56392a55-6c8f-db4a-9d55-03f54f80a761\", element=\"b4ad842e-58e2-d244-b04e-17957059ed6f\")>, <selenium.webdriver.firefox.webelement.FirefoxWebElement (session=\"56392a55-6c8f-db4a-9d55-03f54f80a761\", element=\"23b21797-6f92-8748-87c3-5b56121e59cb\")>, <selenium.webdriver.firefox.webelement.FirefoxWebElement (session=\"56392a55-6c8f-db4a-9d55-03f54f80a761\", element=\"36dfaae1-a842-6747-9c0e-9c87bf1e1177\")>, <selenium.webdriver.firefox.webelement.FirefoxWebElement (session=\"56392a55-6c8f-db4a-9d55-03f54f80a761\", element=\"3999a81e-98a9-1649-8a8a-7f7531673aa0\")>, <selenium.webdriver.firefox.webelement.FirefoxWebElement (session=\"56392a55-6c8f-db4a-9d55-03f54f80a761\", element=\"4e20b236-d4c9-6247-acc4-c233ba7cb6cb\")>, <selenium.webdriver.firefox.webelement.FirefoxWebElement (session=\"56392a55-6c8f-db4a-9d55-03f54f80a761\", element=\"941def01-dbe6-ea4d-bbb5-04a41a5e7a1e\")>, <selenium.webdriver.firefox.webelement.FirefoxWebElement (session=\"56392a55-6c8f-db4a-9d55-03f54f80a761\", element=\"c34cf7af-79a1-244d-9a3d-7e3180ad53b3\")>, <selenium.webdriver.firefox.webelement.FirefoxWebElement (session=\"56392a55-6c8f-db4a-9d55-03f54f80a761\", element=\"5b2b4ae1-0e2a-324b-8eb4-331e07814dec\")>, <selenium.webdriver.firefox.webelement.FirefoxWebElement (session=\"56392a55-6c8f-db4a-9d55-03f54f80a761\", element=\"268111d0-9559-0b42-8852-5e65202e7395\")>, <selenium.webdriver.firefox.webelement.FirefoxWebElement (session=\"56392a55-6c8f-db4a-9d55-03f54f80a761\", element=\"20bcc30f-8e5d-824d-8d30-e2a77437686f\")>, <selenium.webdriver.firefox.webelement.FirefoxWebElement (session=\"56392a55-6c8f-db4a-9d55-03f54f80a761\", element=\"929152ff-6e96-cb47-a1f9-a0de69d03e17\")>, <selenium.webdriver.firefox.webelement.FirefoxWebElement (session=\"56392a55-6c8f-db4a-9d55-03f54f80a761\", element=\"ee552624-bb3d-614a-ac4e-7e829d0dfae1\")>, <selenium.webdriver.firefox.webelement.FirefoxWebElement (session=\"56392a55-6c8f-db4a-9d55-03f54f80a761\", element=\"3ed705bd-f455-9049-8b3d-b4464aa18986\")>, <selenium.webdriver.firefox.webelement.FirefoxWebElement (session=\"56392a55-6c8f-db4a-9d55-03f54f80a761\", element=\"c8a3b692-1192-3c4f-860d-1cff4ed8e3ee\")>, <selenium.webdriver.firefox.webelement.FirefoxWebElement (session=\"56392a55-6c8f-db4a-9d55-03f54f80a761\", element=\"f060968f-b24f-c44b-9c3b-9d2eaebe76fe\")>, <selenium.webdriver.firefox.webelement.FirefoxWebElement (session=\"56392a55-6c8f-db4a-9d55-03f54f80a761\", element=\"2ea1f1ac-7bfa-0540-b9b3-7f4c3a1ef909\")>, <selenium.webdriver.firefox.webelement.FirefoxWebElement (session=\"56392a55-6c8f-db4a-9d55-03f54f80a761\", element=\"d15ca2e8-5a2c-f04e-b2f2-0bdbdae95075\")>, <selenium.webdriver.firefox.webelement.FirefoxWebElement (session=\"56392a55-6c8f-db4a-9d55-03f54f80a761\", element=\"5d7e18a8-720c-a049-b6c7-314d253bf35f\")>]\n"
     ]
    },
    {
     "name": "stdout",
     "output_type": "stream",
     "text": [
      "[<selenium.webdriver.firefox.webelement.FirefoxWebElement (session=\"56392a55-6c8f-db4a-9d55-03f54f80a761\", element=\"c2eff492-4f6e-a14c-b746-1b153fcbe63f\")>, <selenium.webdriver.firefox.webelement.FirefoxWebElement (session=\"56392a55-6c8f-db4a-9d55-03f54f80a761\", element=\"b4d53f10-bf74-e64a-adf3-25f83f12d7ef\")>, <selenium.webdriver.firefox.webelement.FirefoxWebElement (session=\"56392a55-6c8f-db4a-9d55-03f54f80a761\", element=\"0b76ff56-cd2c-164d-80b6-d5604fe0cf66\")>, <selenium.webdriver.firefox.webelement.FirefoxWebElement (session=\"56392a55-6c8f-db4a-9d55-03f54f80a761\", element=\"54c34c45-95f1-3c4f-a507-674d6d531c56\")>, <selenium.webdriver.firefox.webelement.FirefoxWebElement (session=\"56392a55-6c8f-db4a-9d55-03f54f80a761\", element=\"d6190e1f-611a-5e4e-8287-5c7a714c5c01\")>, <selenium.webdriver.firefox.webelement.FirefoxWebElement (session=\"56392a55-6c8f-db4a-9d55-03f54f80a761\", element=\"10462145-9b4e-6b4a-a7c3-d17118067c4b\")>, <selenium.webdriver.firefox.webelement.FirefoxWebElement (session=\"56392a55-6c8f-db4a-9d55-03f54f80a761\", element=\"0cba6d87-5d57-f448-9bbe-5f028b87c82a\")>, <selenium.webdriver.firefox.webelement.FirefoxWebElement (session=\"56392a55-6c8f-db4a-9d55-03f54f80a761\", element=\"045dedec-301f-de44-a921-4829577b3e5e\")>, <selenium.webdriver.firefox.webelement.FirefoxWebElement (session=\"56392a55-6c8f-db4a-9d55-03f54f80a761\", element=\"605935b4-bea4-9b4b-a572-e5b5db2dbd1c\")>, <selenium.webdriver.firefox.webelement.FirefoxWebElement (session=\"56392a55-6c8f-db4a-9d55-03f54f80a761\", element=\"3786fc55-0d9c-a646-a98b-31d4f8ea647d\")>, <selenium.webdriver.firefox.webelement.FirefoxWebElement (session=\"56392a55-6c8f-db4a-9d55-03f54f80a761\", element=\"5982d4d6-021a-d54b-a25a-8485dd050f6c\")>, <selenium.webdriver.firefox.webelement.FirefoxWebElement (session=\"56392a55-6c8f-db4a-9d55-03f54f80a761\", element=\"9c4ff377-1a0f-6546-a2a2-b737153acafe\")>, <selenium.webdriver.firefox.webelement.FirefoxWebElement (session=\"56392a55-6c8f-db4a-9d55-03f54f80a761\", element=\"2d5230d0-21d4-4a4b-98c8-eb9387540718\")>, <selenium.webdriver.firefox.webelement.FirefoxWebElement (session=\"56392a55-6c8f-db4a-9d55-03f54f80a761\", element=\"a570f7b4-7e07-2f43-ba92-100c0988bee4\")>, <selenium.webdriver.firefox.webelement.FirefoxWebElement (session=\"56392a55-6c8f-db4a-9d55-03f54f80a761\", element=\"0321475e-0662-8440-8149-22886b4f7366\")>, <selenium.webdriver.firefox.webelement.FirefoxWebElement (session=\"56392a55-6c8f-db4a-9d55-03f54f80a761\", element=\"923d9e68-909a-1447-b8c0-e85cf3f3c557\")>, <selenium.webdriver.firefox.webelement.FirefoxWebElement (session=\"56392a55-6c8f-db4a-9d55-03f54f80a761\", element=\"519cea83-a819-1e46-9c08-5b00da93a151\")>, <selenium.webdriver.firefox.webelement.FirefoxWebElement (session=\"56392a55-6c8f-db4a-9d55-03f54f80a761\", element=\"b348224e-4691-c143-88cf-fb68a0fbdea3\")>, <selenium.webdriver.firefox.webelement.FirefoxWebElement (session=\"56392a55-6c8f-db4a-9d55-03f54f80a761\", element=\"aa0de57d-67ec-6b44-96e7-8e12d7b209b1\")>, <selenium.webdriver.firefox.webelement.FirefoxWebElement (session=\"56392a55-6c8f-db4a-9d55-03f54f80a761\", element=\"3d83cf82-aab5-f94f-b6af-0f259d3b8417\")>, <selenium.webdriver.firefox.webelement.FirefoxWebElement (session=\"56392a55-6c8f-db4a-9d55-03f54f80a761\", element=\"2211a8d8-eb55-1247-83e3-8b3a3d1c1664\")>, <selenium.webdriver.firefox.webelement.FirefoxWebElement (session=\"56392a55-6c8f-db4a-9d55-03f54f80a761\", element=\"dfc63ddd-427e-9747-85c9-af4449160952\")>, <selenium.webdriver.firefox.webelement.FirefoxWebElement (session=\"56392a55-6c8f-db4a-9d55-03f54f80a761\", element=\"2b783598-30d7-f947-914c-97a364b3dd78\")>, <selenium.webdriver.firefox.webelement.FirefoxWebElement (session=\"56392a55-6c8f-db4a-9d55-03f54f80a761\", element=\"a664529f-5221-ed43-80e9-c2a43c65328f\")>, <selenium.webdriver.firefox.webelement.FirefoxWebElement (session=\"56392a55-6c8f-db4a-9d55-03f54f80a761\", element=\"22a0d408-62b0-3648-addb-6af23e75a915\")>, <selenium.webdriver.firefox.webelement.FirefoxWebElement (session=\"56392a55-6c8f-db4a-9d55-03f54f80a761\", element=\"3e770767-06a4-ff45-b8d5-48e2a64b1d63\")>, <selenium.webdriver.firefox.webelement.FirefoxWebElement (session=\"56392a55-6c8f-db4a-9d55-03f54f80a761\", element=\"8f75502e-9ece-6145-b098-a8847cbde1a9\")>, <selenium.webdriver.firefox.webelement.FirefoxWebElement (session=\"56392a55-6c8f-db4a-9d55-03f54f80a761\", element=\"193584a2-f544-2e42-a234-ea068bf67a3b\")>, <selenium.webdriver.firefox.webelement.FirefoxWebElement (session=\"56392a55-6c8f-db4a-9d55-03f54f80a761\", element=\"a3f1b043-d3ae-1c4b-895a-26de4b1279ab\")>, <selenium.webdriver.firefox.webelement.FirefoxWebElement (session=\"56392a55-6c8f-db4a-9d55-03f54f80a761\", element=\"8983ba3f-47ce-254d-a2c4-ce1d438d5933\")>, <selenium.webdriver.firefox.webelement.FirefoxWebElement (session=\"56392a55-6c8f-db4a-9d55-03f54f80a761\", element=\"8b4c8e2f-e7ef-a141-ba44-edf5d3695700\")>, <selenium.webdriver.firefox.webelement.FirefoxWebElement (session=\"56392a55-6c8f-db4a-9d55-03f54f80a761\", element=\"22dc1d80-63d9-df45-a6eb-af3cd247b48e\")>, <selenium.webdriver.firefox.webelement.FirefoxWebElement (session=\"56392a55-6c8f-db4a-9d55-03f54f80a761\", element=\"a3fc44eb-8224-7146-8f6b-a2b36cd10253\")>, <selenium.webdriver.firefox.webelement.FirefoxWebElement (session=\"56392a55-6c8f-db4a-9d55-03f54f80a761\", element=\"f35b2cc9-71bb-aa4a-bacc-1005ae449d37\")>, <selenium.webdriver.firefox.webelement.FirefoxWebElement (session=\"56392a55-6c8f-db4a-9d55-03f54f80a761\", element=\"1ae6ab68-ef61-9d46-b6e9-cd188eab0340\")>, <selenium.webdriver.firefox.webelement.FirefoxWebElement (session=\"56392a55-6c8f-db4a-9d55-03f54f80a761\", element=\"b728eefd-8cc6-9b44-8c65-efa7074a389b\")>, <selenium.webdriver.firefox.webelement.FirefoxWebElement (session=\"56392a55-6c8f-db4a-9d55-03f54f80a761\", element=\"11e73a7d-3973-8a44-af9b-38ec8f483084\")>, <selenium.webdriver.firefox.webelement.FirefoxWebElement (session=\"56392a55-6c8f-db4a-9d55-03f54f80a761\", element=\"c1d97f6d-6b20-1f43-ae1d-54a981703bc8\")>, <selenium.webdriver.firefox.webelement.FirefoxWebElement (session=\"56392a55-6c8f-db4a-9d55-03f54f80a761\", element=\"ff30abf9-7c54-ed41-a08b-ce72cb2b7964\")>, <selenium.webdriver.firefox.webelement.FirefoxWebElement (session=\"56392a55-6c8f-db4a-9d55-03f54f80a761\", element=\"1fed8c8c-c1f4-7745-ab05-7f11cff30740\")>, <selenium.webdriver.firefox.webelement.FirefoxWebElement (session=\"56392a55-6c8f-db4a-9d55-03f54f80a761\", element=\"84c65924-20bb-3344-8f1c-90e4d7749e08\")>, <selenium.webdriver.firefox.webelement.FirefoxWebElement (session=\"56392a55-6c8f-db4a-9d55-03f54f80a761\", element=\"edbb7497-4890-7b43-95d7-dec9793debfd\")>, <selenium.webdriver.firefox.webelement.FirefoxWebElement (session=\"56392a55-6c8f-db4a-9d55-03f54f80a761\", element=\"a375f342-2137-ba48-b2ec-bd6fbab0fe21\")>, <selenium.webdriver.firefox.webelement.FirefoxWebElement (session=\"56392a55-6c8f-db4a-9d55-03f54f80a761\", element=\"e18a9fb6-599d-0347-ba21-9efb51fa7942\")>, <selenium.webdriver.firefox.webelement.FirefoxWebElement (session=\"56392a55-6c8f-db4a-9d55-03f54f80a761\", element=\"c180ecb9-dbba-4f4b-b07e-36e359af23dd\")>, <selenium.webdriver.firefox.webelement.FirefoxWebElement (session=\"56392a55-6c8f-db4a-9d55-03f54f80a761\", element=\"e556c46a-cb2d-ca4f-a590-535bc4262e4e\")>, <selenium.webdriver.firefox.webelement.FirefoxWebElement (session=\"56392a55-6c8f-db4a-9d55-03f54f80a761\", element=\"57ae90f8-dcc7-6144-a307-e9aed6eecb90\")>, <selenium.webdriver.firefox.webelement.FirefoxWebElement (session=\"56392a55-6c8f-db4a-9d55-03f54f80a761\", element=\"0b4778aa-f745-5449-8e7d-1795b0578ad6\")>, <selenium.webdriver.firefox.webelement.FirefoxWebElement (session=\"56392a55-6c8f-db4a-9d55-03f54f80a761\", element=\"ae6261bf-fae7-0b40-9fdf-7d55f5fd311f\")>, <selenium.webdriver.firefox.webelement.FirefoxWebElement (session=\"56392a55-6c8f-db4a-9d55-03f54f80a761\", element=\"3dbf26e8-e211-c647-a0e9-2f5e6ab5a33f\")>]\n",
      "[<selenium.webdriver.firefox.webelement.FirefoxWebElement (session=\"56392a55-6c8f-db4a-9d55-03f54f80a761\", element=\"675c7266-2956-c446-86a2-54b89bd385dc\")>, <selenium.webdriver.firefox.webelement.FirefoxWebElement (session=\"56392a55-6c8f-db4a-9d55-03f54f80a761\", element=\"169f88ea-739b-b147-ae1f-3faac3b01a17\")>, <selenium.webdriver.firefox.webelement.FirefoxWebElement (session=\"56392a55-6c8f-db4a-9d55-03f54f80a761\", element=\"7e255ab5-4c79-9340-8d59-837d1eaaa7a5\")>, <selenium.webdriver.firefox.webelement.FirefoxWebElement (session=\"56392a55-6c8f-db4a-9d55-03f54f80a761\", element=\"bcaf6dbb-62a4-fe4d-910d-3ccfd903331f\")>, <selenium.webdriver.firefox.webelement.FirefoxWebElement (session=\"56392a55-6c8f-db4a-9d55-03f54f80a761\", element=\"e36472c9-7443-294e-a7fd-3f34fb062a97\")>, <selenium.webdriver.firefox.webelement.FirefoxWebElement (session=\"56392a55-6c8f-db4a-9d55-03f54f80a761\", element=\"c91ec02a-3f9d-334d-9813-8a64cf292b56\")>, <selenium.webdriver.firefox.webelement.FirefoxWebElement (session=\"56392a55-6c8f-db4a-9d55-03f54f80a761\", element=\"96002d84-8b50-114a-9d55-487641cfe742\")>, <selenium.webdriver.firefox.webelement.FirefoxWebElement (session=\"56392a55-6c8f-db4a-9d55-03f54f80a761\", element=\"3366de1c-a8f2-284d-8eaa-32220395b9f8\")>, <selenium.webdriver.firefox.webelement.FirefoxWebElement (session=\"56392a55-6c8f-db4a-9d55-03f54f80a761\", element=\"d53e2748-d094-384e-8640-5934b57b06b8\")>, <selenium.webdriver.firefox.webelement.FirefoxWebElement (session=\"56392a55-6c8f-db4a-9d55-03f54f80a761\", element=\"783f197a-e7b9-5349-b700-9a4ff1fb515c\")>, <selenium.webdriver.firefox.webelement.FirefoxWebElement (session=\"56392a55-6c8f-db4a-9d55-03f54f80a761\", element=\"4bdf6da4-1bbd-6946-89f7-ed14ccfbb56f\")>, <selenium.webdriver.firefox.webelement.FirefoxWebElement (session=\"56392a55-6c8f-db4a-9d55-03f54f80a761\", element=\"354e6d31-8565-3b43-8c2e-025a355ec57f\")>, <selenium.webdriver.firefox.webelement.FirefoxWebElement (session=\"56392a55-6c8f-db4a-9d55-03f54f80a761\", element=\"2f32eba0-37d4-064a-b015-9c0f0a846eaf\")>, <selenium.webdriver.firefox.webelement.FirefoxWebElement (session=\"56392a55-6c8f-db4a-9d55-03f54f80a761\", element=\"4610d71e-6be3-a64b-ba69-f6a13f069bb1\")>, <selenium.webdriver.firefox.webelement.FirefoxWebElement (session=\"56392a55-6c8f-db4a-9d55-03f54f80a761\", element=\"531cb4d1-311d-1342-96e4-7f928629c7d1\")>, <selenium.webdriver.firefox.webelement.FirefoxWebElement (session=\"56392a55-6c8f-db4a-9d55-03f54f80a761\", element=\"4024fd15-dd0e-684e-8ff0-d5dd0508eaec\")>, <selenium.webdriver.firefox.webelement.FirefoxWebElement (session=\"56392a55-6c8f-db4a-9d55-03f54f80a761\", element=\"f1d3325c-9f8c-5842-bfe6-7c2cabbd389a\")>, <selenium.webdriver.firefox.webelement.FirefoxWebElement (session=\"56392a55-6c8f-db4a-9d55-03f54f80a761\", element=\"25e636c0-b269-f245-88b8-95b373d7d3fc\")>, <selenium.webdriver.firefox.webelement.FirefoxWebElement (session=\"56392a55-6c8f-db4a-9d55-03f54f80a761\", element=\"3bd31e35-5b89-094d-bec0-2581825a7cdd\")>, <selenium.webdriver.firefox.webelement.FirefoxWebElement (session=\"56392a55-6c8f-db4a-9d55-03f54f80a761\", element=\"aea883ef-6b08-104e-8ce8-5d9783f77d3f\")>, <selenium.webdriver.firefox.webelement.FirefoxWebElement (session=\"56392a55-6c8f-db4a-9d55-03f54f80a761\", element=\"d48a3c21-0642-1944-9392-2f67166e5bb5\")>, <selenium.webdriver.firefox.webelement.FirefoxWebElement (session=\"56392a55-6c8f-db4a-9d55-03f54f80a761\", element=\"d96182f0-bd94-204f-9a97-97ab98daccd3\")>, <selenium.webdriver.firefox.webelement.FirefoxWebElement (session=\"56392a55-6c8f-db4a-9d55-03f54f80a761\", element=\"5f48942b-7e4e-6144-bec2-c2b9b1c0c651\")>, <selenium.webdriver.firefox.webelement.FirefoxWebElement (session=\"56392a55-6c8f-db4a-9d55-03f54f80a761\", element=\"49ade850-37d2-6445-80f0-df4223901ea8\")>, <selenium.webdriver.firefox.webelement.FirefoxWebElement (session=\"56392a55-6c8f-db4a-9d55-03f54f80a761\", element=\"a30f2128-bb88-184f-9efe-7e9aaab7014d\")>, <selenium.webdriver.firefox.webelement.FirefoxWebElement (session=\"56392a55-6c8f-db4a-9d55-03f54f80a761\", element=\"8aea8c62-988f-6243-84f9-0c14712768b8\")>, <selenium.webdriver.firefox.webelement.FirefoxWebElement (session=\"56392a55-6c8f-db4a-9d55-03f54f80a761\", element=\"47cdc66a-0284-2145-acc9-b6b345a56fb2\")>, <selenium.webdriver.firefox.webelement.FirefoxWebElement (session=\"56392a55-6c8f-db4a-9d55-03f54f80a761\", element=\"76b06513-1cc9-624d-ba2d-2afba57434a0\")>, <selenium.webdriver.firefox.webelement.FirefoxWebElement (session=\"56392a55-6c8f-db4a-9d55-03f54f80a761\", element=\"598ff0f7-f4ca-d945-a9d0-9700cc85bbbd\")>, <selenium.webdriver.firefox.webelement.FirefoxWebElement (session=\"56392a55-6c8f-db4a-9d55-03f54f80a761\", element=\"9434e52e-feac-744d-b957-a66d8a7b5e47\")>, <selenium.webdriver.firefox.webelement.FirefoxWebElement (session=\"56392a55-6c8f-db4a-9d55-03f54f80a761\", element=\"053666a8-c746-824e-97b2-a83d6544fc3c\")>, <selenium.webdriver.firefox.webelement.FirefoxWebElement (session=\"56392a55-6c8f-db4a-9d55-03f54f80a761\", element=\"8cea7054-f225-b241-a338-099c2fb89d61\")>, <selenium.webdriver.firefox.webelement.FirefoxWebElement (session=\"56392a55-6c8f-db4a-9d55-03f54f80a761\", element=\"6f324e97-be19-6c40-a4b3-b52eacec11e5\")>, <selenium.webdriver.firefox.webelement.FirefoxWebElement (session=\"56392a55-6c8f-db4a-9d55-03f54f80a761\", element=\"dc8f935e-7ed9-c54c-8cb5-f2636d548484\")>, <selenium.webdriver.firefox.webelement.FirefoxWebElement (session=\"56392a55-6c8f-db4a-9d55-03f54f80a761\", element=\"d022c7c7-2a5f-7c45-80ed-c634221c1686\")>, <selenium.webdriver.firefox.webelement.FirefoxWebElement (session=\"56392a55-6c8f-db4a-9d55-03f54f80a761\", element=\"3fc8dc00-dbab-9445-9465-d65d9dec2c3b\")>, <selenium.webdriver.firefox.webelement.FirefoxWebElement (session=\"56392a55-6c8f-db4a-9d55-03f54f80a761\", element=\"2b49572a-246b-3647-9787-b9ae182dc2fd\")>, <selenium.webdriver.firefox.webelement.FirefoxWebElement (session=\"56392a55-6c8f-db4a-9d55-03f54f80a761\", element=\"ef54ce17-f26c-444e-b2ed-a16371d40efa\")>, <selenium.webdriver.firefox.webelement.FirefoxWebElement (session=\"56392a55-6c8f-db4a-9d55-03f54f80a761\", element=\"80d29a4d-909f-2a41-abd2-d143f61eb293\")>, <selenium.webdriver.firefox.webelement.FirefoxWebElement (session=\"56392a55-6c8f-db4a-9d55-03f54f80a761\", element=\"07ea5cba-7a7f-ef4c-b9ee-8527ae2d9e6d\")>, <selenium.webdriver.firefox.webelement.FirefoxWebElement (session=\"56392a55-6c8f-db4a-9d55-03f54f80a761\", element=\"0f84083b-3ce5-a647-adb1-29c9708466fd\")>, <selenium.webdriver.firefox.webelement.FirefoxWebElement (session=\"56392a55-6c8f-db4a-9d55-03f54f80a761\", element=\"3d7e620a-8b5a-ee4f-ad91-1fbd49adc9e2\")>, <selenium.webdriver.firefox.webelement.FirefoxWebElement (session=\"56392a55-6c8f-db4a-9d55-03f54f80a761\", element=\"dac9f718-659c-974f-927c-1a91fd451e6a\")>, <selenium.webdriver.firefox.webelement.FirefoxWebElement (session=\"56392a55-6c8f-db4a-9d55-03f54f80a761\", element=\"894bb20e-b0f9-9040-99a0-3af25c75586c\")>, <selenium.webdriver.firefox.webelement.FirefoxWebElement (session=\"56392a55-6c8f-db4a-9d55-03f54f80a761\", element=\"e65f08af-490a-3144-a391-2d8b94861b28\")>, <selenium.webdriver.firefox.webelement.FirefoxWebElement (session=\"56392a55-6c8f-db4a-9d55-03f54f80a761\", element=\"6e50050d-1e67-4b49-b2fb-dd05845a9683\")>, <selenium.webdriver.firefox.webelement.FirefoxWebElement (session=\"56392a55-6c8f-db4a-9d55-03f54f80a761\", element=\"c5995943-853d-1644-8a53-035e05fe0a13\")>, <selenium.webdriver.firefox.webelement.FirefoxWebElement (session=\"56392a55-6c8f-db4a-9d55-03f54f80a761\", element=\"815ab05d-6432-774e-bbfe-cf3c1cf3a0b2\")>, <selenium.webdriver.firefox.webelement.FirefoxWebElement (session=\"56392a55-6c8f-db4a-9d55-03f54f80a761\", element=\"62da9577-7fee-b346-bd45-9efc0fb635bb\")>, <selenium.webdriver.firefox.webelement.FirefoxWebElement (session=\"56392a55-6c8f-db4a-9d55-03f54f80a761\", element=\"db5daa4a-9da8-9e4f-ad10-88ebfc1c5a3f\")>]\n"
     ]
    }
   ],
   "source": [
    "src.shopify_scrape.scrape_orders(browser, orders_to_scrape=4, path_to_csv=\"test.csv\")"
   ]
  },
  {
   "cell_type": "code",
   "execution_count": null,
   "metadata": {
    "collapsed": true
   },
   "outputs": [],
   "source": []
  }
 ],
 "metadata": {
  "kernelspec": {
   "display_name": "Python 3",
   "language": "python",
   "name": "python3"
  },
  "language_info": {
   "codemirror_mode": {
    "name": "ipython",
    "version": 3
   },
   "file_extension": ".py",
   "mimetype": "text/x-python",
   "name": "python",
   "nbconvert_exporter": "python",
   "pygments_lexer": "ipython3",
   "version": "3.6.1"
  }
 },
 "nbformat": 4,
 "nbformat_minor": 2
}
